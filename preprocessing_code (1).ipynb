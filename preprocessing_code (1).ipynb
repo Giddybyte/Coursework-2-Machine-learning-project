{
  "cells": [
    {
      "cell_type": "markdown",
      "metadata": {
        "id": "074718ea"
      },
      "source": [
        "# Import libraries"
      ]
    },
    {
      "cell_type": "code",
      "execution_count": null,
      "metadata": {
        "colab": {
          "base_uri": "https://localhost:8080/"
        },
        "id": "9fe589fc",
        "outputId": "22751a77-b870-467f-a9df-e543ab9e182a"
      },
      "outputs": [
        {
          "output_type": "stream",
          "name": "stdout",
          "text": [
            "[nltk_data] Downloading package stopwords to /root/nltk_data...\n",
            "[nltk_data]   Unzipping corpora/stopwords.zip.\n",
            "[nltk_data] Downloading package wordnet to /root/nltk_data...\n",
            "[nltk_data]   Unzipping corpora/wordnet.zip.\n"
          ]
        },
        {
          "output_type": "execute_result",
          "data": {
            "text/plain": [
              "True"
            ]
          },
          "metadata": {},
          "execution_count": 1
        }
      ],
      "source": [
        "import os\n",
        "import pandas as pd\n",
        "import numpy as np\n",
        "import collections\n",
        "import re\n",
        "import string\n",
        "import matplotlib.pyplot as plt\n",
        "from nltk.corpus import stopwords\n",
        "from gensim.models.doc2vec import Doc2Vec, TaggedDocument\n",
        "from gensim.test.utils import get_tmpfile\n",
        "from nltk.stem import WordNetLemmatizer\n",
        "import nltk\n",
        "from sklearn.model_selection import train_test_split\n",
        "nltk.download('stopwords')\n",
        "nltk.download('wordnet')"
      ]
    },
    {
      "cell_type": "markdown",
      "metadata": {
        "id": "StcGasMZuwXQ"
      },
      "source": [
        "nltk and gensim are two famous libraries that are used in Natural Language Processing (NLP). nltk library has been used to get the stop words of English language and to lemmatize words. Also gensim library has been used to load the Doc2vec model"
      ]
    },
    {
      "cell_type": "code",
      "execution_count": null,
      "metadata": {
        "colab": {
          "base_uri": "https://localhost:8080/"
        },
        "id": "x0RpfabEdewH",
        "outputId": "e722fc5c-ad81-4156-c341-03ec66af1f1b"
      },
      "outputs": [
        {
          "output_type": "stream",
          "name": "stdout",
          "text": [
            "Mounted at /content/drive\n"
          ]
        }
      ],
      "source": [
        "from google.colab import drive\n",
        "drive.mount('/content/drive')"
      ]
    },
    {
      "cell_type": "code",
      "execution_count": null,
      "metadata": {
        "id": "Q6JZ4NVKdjRe"
      },
      "outputs": [],
      "source": [
        "proj_dir='/content/drive/MyDrive/Colab Notebooks/doc2vec/' #give your project directory here. data sets should be in this location"
      ]
    },
    {
      "cell_type": "markdown",
      "metadata": {
        "id": "f6875224"
      },
      "source": [
        "# Load and clean the data"
      ]
    },
    {
      "cell_type": "markdown",
      "metadata": {
        "id": "a7345380"
      },
      "source": [
        "before converting into vectors text should be cleaned.\n",
        "\n",
        "* Lower the english latters\n",
        "* Remove headers\n",
        "* Drop all digits\n",
        "* Remove URLs and Emails\n",
        "* Drop all punctuation from our text\n",
        "* Drop stop words\n",
        "* Lemmatize words\n"
      ]
    },
    {
      "cell_type": "markdown",
      "metadata": {
        "id": "cU1xKL982Jt3"
      },
      "source": [
        "first, we convert all the letters into lowercase letters in order to avoid duplicating the same word ('Dog' and 'dog' are the same words. but the program will take these as two words. Hence we convert 'Dog' as 'dog' by doing letters lowercase)"
      ]
    },
    {
      "cell_type": "markdown",
      "metadata": {
        "id": "VCSbcZAx2J0N"
      },
      "source": [
        "After that we drop all the headers and numbers.Because headers are unwanted data and numbers don't have any meaning when we take them as a single word."
      ]
    },
    {
      "cell_type": "markdown",
      "metadata": {
        "id": "MkQTCdcm2Q1H"
      },
      "source": [
        "if any word contains '@','.com' or 'http' we drop those words. also we remove all punctuations and stop words. The words which are generally filtered out before processing a natural language are called stop words. These are actually the most common words such as “the”, “a”, “an”, “so”, “what” in English language. By removing these words, we remove the low-level information from our text in order to give more focus to the important information."
      ]
    },
    {
      "cell_type": "markdown",
      "metadata": {
        "id": "X29HHeUe2WZ9"
      },
      "source": [
        "finally we lemmatize words. Lemmatization is the process wherein the context is used to convert a word to its meaningful base or root form. ex:- driving--> drive , dogs-->dog. To perform Lemmatization with Natural Language Tool Kit (NLTK), “WordNetLemmatizer()” method has been used"
      ]
    },
    {
      "cell_type": "code",
      "execution_count": null,
      "metadata": {
        "id": "e109337d"
      },
      "outputs": [],
      "source": [
        "'''this function is used to read text files.'''\n",
        "def read_txt_file(file_name):\n",
        "    with open(file_name,encoding=\"utf8\", errors='ignore') as f:\n",
        "        ###extract the boady of the text###\n",
        "        line = f.readline()\n",
        "        txt=''\n",
        "        txt=txt+' '+line\n",
        "        while line:\n",
        "            line = f.readline()\n",
        "            txt=txt+' '+line\n",
        "        ###################################\n",
        "    f.close()\n",
        "    return(txt)"
      ]
    },
    {
      "cell_type": "code",
      "execution_count": null,
      "metadata": {
        "id": "19a41917"
      },
      "outputs": [],
      "source": [
        "stop_words=set(stopwords.words('english'))#load stop words\n",
        "punctuations=string.punctuation #get punctuations\n",
        "lemmatizer = WordNetLemmatizer()\n",
        "'''this function is used to clean text'''\n",
        "def clean_txt(txt):\n",
        "    txt=txt.lower() #set all characters to lowercase\n",
        "    sentences=txt.split('\\n')\n",
        "    txt = ' '.join([i for i in sentences if not ':' in i])#remove headers\n",
        "    txt = ''.join([i for i in txt if not i.isdigit()])#remove numbers\n",
        "\n",
        "    ###remove urls and emails###\n",
        "    words=txt.split()\n",
        "    txt = ' '.join([i for i in words if not '@' in i and not '.com' in i and not  'http:' in i])\n",
        "    #######################################\n",
        "\n",
        "    ###remove punctuations###\n",
        "    for character in punctuations:\n",
        "        txt = txt.replace(character, '')\n",
        "    #########################################\n",
        "    \n",
        "    ###remove stop words and lemmatize###\n",
        "    words=txt.split()\n",
        "    filtered_txt = ' '.join([lemmatizer.lemmatize(i) for i in words if not i in stop_words])\n",
        "    #####################################\n",
        "    \n",
        "    return(filtered_txt)"
      ]
    },
    {
      "cell_type": "code",
      "execution_count": null,
      "metadata": {
        "id": "95c8ac31"
      },
      "outputs": [],
      "source": [
        "def load_and_clean_data(location):    \n",
        "    y=os.listdir(location)#get the list of folder\n",
        "    txts=[]\n",
        "    txts_cleaned=[]\n",
        "    folder_array=[]\n",
        "    file_array=[]\n",
        "    for i in range(len(y)):\n",
        "        text_file_names=os.listdir(location+'/'+y[i]) #get the list of files\n",
        "        for text_file_name in text_file_names:\n",
        "                file_array.append(text_file_name)\n",
        "                txt=read_txt_file(location+'/'+y[i]+'/'+text_file_name) #read the text file\n",
        "                txts.append(txt)\n",
        "                txts_cleaned.append(clean_txt(txt)) #clean the text\n",
        "                folder_array.append(y[i])\n",
        "\n",
        "    ###create a data frame###\n",
        "    df=pd.DataFrame()\n",
        "    df['texts']=txts\n",
        "    df['text cleaned']=txts_cleaned\n",
        "    df['folder name']=folder_array\n",
        "    df['file name']=file_array\n",
        "    ########################\n",
        "    return (df)\n",
        "\n"
      ]
    },
    {
      "cell_type": "code",
      "execution_count": null,
      "metadata": {
        "id": "179438fd"
      },
      "outputs": [],
      "source": [
        "df_train=load_and_clean_data(proj_dir+'20news-bydate-train')\n",
        "df_test=load_and_clean_data(proj_dir+'20news-bydate-test')"
      ]
    },
    {
      "cell_type": "code",
      "execution_count": null,
      "metadata": {
        "id": "dfa1b61d",
        "colab": {
          "base_uri": "https://localhost:8080/",
          "height": 206
        },
        "outputId": "353743a9-de18-4ebd-8b90-26eb5664fd6b"
      },
      "outputs": [
        {
          "output_type": "execute_result",
          "data": {
            "text/plain": [
              "                                               texts  \\\n",
              "0   Subject: MIT R5 on Sun with Rasterops TC Colo...   \n",
              "1   Subject: Automated X testing\\n From: mark@tri...   \n",
              "2   Subject: Re: Trouble compiling X11R5 on SunOS...   \n",
              "3   Organization: Ministry of Education, Computer...   \n",
              "4   To: gnu-gdb-bug@gatech.edu\\n Distribution: wo...   \n",
              "\n",
              "                                        text cleaned     folder name file name  \n",
              "0  possible run mit r based xserver sun rasterops...  comp.windows.x     66939  \n",
              "1  anyone know available term automated testing x...  comp.windows.x     67117  \n",
              "2  ive trying compile xr patchlevel sun sparc ipx...  comp.windows.x     66947  \n",
              "3  hp workstation us pseudocolor id x color defau...  comp.windows.x     67279  \n",
              "4  hi trying write xwindows based interface run t...  comp.windows.x     67410  "
            ],
            "text/html": [
              "\n",
              "  <div id=\"df-2da61fa0-ca8b-40f3-81bb-80fb0bfd93a3\">\n",
              "    <div class=\"colab-df-container\">\n",
              "      <div>\n",
              "<style scoped>\n",
              "    .dataframe tbody tr th:only-of-type {\n",
              "        vertical-align: middle;\n",
              "    }\n",
              "\n",
              "    .dataframe tbody tr th {\n",
              "        vertical-align: top;\n",
              "    }\n",
              "\n",
              "    .dataframe thead th {\n",
              "        text-align: right;\n",
              "    }\n",
              "</style>\n",
              "<table border=\"1\" class=\"dataframe\">\n",
              "  <thead>\n",
              "    <tr style=\"text-align: right;\">\n",
              "      <th></th>\n",
              "      <th>texts</th>\n",
              "      <th>text cleaned</th>\n",
              "      <th>folder name</th>\n",
              "      <th>file name</th>\n",
              "    </tr>\n",
              "  </thead>\n",
              "  <tbody>\n",
              "    <tr>\n",
              "      <th>0</th>\n",
              "      <td>Subject: MIT R5 on Sun with Rasterops TC Colo...</td>\n",
              "      <td>possible run mit r based xserver sun rasterops...</td>\n",
              "      <td>comp.windows.x</td>\n",
              "      <td>66939</td>\n",
              "    </tr>\n",
              "    <tr>\n",
              "      <th>1</th>\n",
              "      <td>Subject: Automated X testing\\n From: mark@tri...</td>\n",
              "      <td>anyone know available term automated testing x...</td>\n",
              "      <td>comp.windows.x</td>\n",
              "      <td>67117</td>\n",
              "    </tr>\n",
              "    <tr>\n",
              "      <th>2</th>\n",
              "      <td>Subject: Re: Trouble compiling X11R5 on SunOS...</td>\n",
              "      <td>ive trying compile xr patchlevel sun sparc ipx...</td>\n",
              "      <td>comp.windows.x</td>\n",
              "      <td>66947</td>\n",
              "    </tr>\n",
              "    <tr>\n",
              "      <th>3</th>\n",
              "      <td>Organization: Ministry of Education, Computer...</td>\n",
              "      <td>hp workstation us pseudocolor id x color defau...</td>\n",
              "      <td>comp.windows.x</td>\n",
              "      <td>67279</td>\n",
              "    </tr>\n",
              "    <tr>\n",
              "      <th>4</th>\n",
              "      <td>To: gnu-gdb-bug@gatech.edu\\n Distribution: wo...</td>\n",
              "      <td>hi trying write xwindows based interface run t...</td>\n",
              "      <td>comp.windows.x</td>\n",
              "      <td>67410</td>\n",
              "    </tr>\n",
              "  </tbody>\n",
              "</table>\n",
              "</div>\n",
              "      <button class=\"colab-df-convert\" onclick=\"convertToInteractive('df-2da61fa0-ca8b-40f3-81bb-80fb0bfd93a3')\"\n",
              "              title=\"Convert this dataframe to an interactive table.\"\n",
              "              style=\"display:none;\">\n",
              "        \n",
              "  <svg xmlns=\"http://www.w3.org/2000/svg\" height=\"24px\"viewBox=\"0 0 24 24\"\n",
              "       width=\"24px\">\n",
              "    <path d=\"M0 0h24v24H0V0z\" fill=\"none\"/>\n",
              "    <path d=\"M18.56 5.44l.94 2.06.94-2.06 2.06-.94-2.06-.94-.94-2.06-.94 2.06-2.06.94zm-11 1L8.5 8.5l.94-2.06 2.06-.94-2.06-.94L8.5 2.5l-.94 2.06-2.06.94zm10 10l.94 2.06.94-2.06 2.06-.94-2.06-.94-.94-2.06-.94 2.06-2.06.94z\"/><path d=\"M17.41 7.96l-1.37-1.37c-.4-.4-.92-.59-1.43-.59-.52 0-1.04.2-1.43.59L10.3 9.45l-7.72 7.72c-.78.78-.78 2.05 0 2.83L4 21.41c.39.39.9.59 1.41.59.51 0 1.02-.2 1.41-.59l7.78-7.78 2.81-2.81c.8-.78.8-2.07 0-2.86zM5.41 20L4 18.59l7.72-7.72 1.47 1.35L5.41 20z\"/>\n",
              "  </svg>\n",
              "      </button>\n",
              "      \n",
              "  <style>\n",
              "    .colab-df-container {\n",
              "      display:flex;\n",
              "      flex-wrap:wrap;\n",
              "      gap: 12px;\n",
              "    }\n",
              "\n",
              "    .colab-df-convert {\n",
              "      background-color: #E8F0FE;\n",
              "      border: none;\n",
              "      border-radius: 50%;\n",
              "      cursor: pointer;\n",
              "      display: none;\n",
              "      fill: #1967D2;\n",
              "      height: 32px;\n",
              "      padding: 0 0 0 0;\n",
              "      width: 32px;\n",
              "    }\n",
              "\n",
              "    .colab-df-convert:hover {\n",
              "      background-color: #E2EBFA;\n",
              "      box-shadow: 0px 1px 2px rgba(60, 64, 67, 0.3), 0px 1px 3px 1px rgba(60, 64, 67, 0.15);\n",
              "      fill: #174EA6;\n",
              "    }\n",
              "\n",
              "    [theme=dark] .colab-df-convert {\n",
              "      background-color: #3B4455;\n",
              "      fill: #D2E3FC;\n",
              "    }\n",
              "\n",
              "    [theme=dark] .colab-df-convert:hover {\n",
              "      background-color: #434B5C;\n",
              "      box-shadow: 0px 1px 3px 1px rgba(0, 0, 0, 0.15);\n",
              "      filter: drop-shadow(0px 1px 2px rgba(0, 0, 0, 0.3));\n",
              "      fill: #FFFFFF;\n",
              "    }\n",
              "  </style>\n",
              "\n",
              "      <script>\n",
              "        const buttonEl =\n",
              "          document.querySelector('#df-2da61fa0-ca8b-40f3-81bb-80fb0bfd93a3 button.colab-df-convert');\n",
              "        buttonEl.style.display =\n",
              "          google.colab.kernel.accessAllowed ? 'block' : 'none';\n",
              "\n",
              "        async function convertToInteractive(key) {\n",
              "          const element = document.querySelector('#df-2da61fa0-ca8b-40f3-81bb-80fb0bfd93a3');\n",
              "          const dataTable =\n",
              "            await google.colab.kernel.invokeFunction('convertToInteractive',\n",
              "                                                     [key], {});\n",
              "          if (!dataTable) return;\n",
              "\n",
              "          const docLinkHtml = 'Like what you see? Visit the ' +\n",
              "            '<a target=\"_blank\" href=https://colab.research.google.com/notebooks/data_table.ipynb>data table notebook</a>'\n",
              "            + ' to learn more about interactive tables.';\n",
              "          element.innerHTML = '';\n",
              "          dataTable['output_type'] = 'display_data';\n",
              "          await google.colab.output.renderOutput(dataTable, element);\n",
              "          const docLink = document.createElement('div');\n",
              "          docLink.innerHTML = docLinkHtml;\n",
              "          element.appendChild(docLink);\n",
              "        }\n",
              "      </script>\n",
              "    </div>\n",
              "  </div>\n",
              "  "
            ]
          },
          "metadata": {},
          "execution_count": 8
        }
      ],
      "source": [
        "df_train.head()"
      ]
    },
    {
      "cell_type": "code",
      "execution_count": null,
      "metadata": {
        "id": "84a69f31",
        "colab": {
          "base_uri": "https://localhost:8080/",
          "height": 206
        },
        "outputId": "952555e3-a111-4cab-f6a3-953cbdd27f2d"
      },
      "outputs": [
        {
          "output_type": "execute_result",
          "data": {
            "text/plain": [
              "                                               texts  \\\n",
              "0   Organization: University of Central Florida -...   \n",
              "1   Organization: Queen's University at Kingston\\...   \n",
              "2   Subject: Re: X on DOS or Windows\\n From: clee...   \n",
              "3   From: iop@server2.iie.ncku.edu.tw\\n Subject: ...   \n",
              "4   Subject: Re: Resource/Widget toolkit required...   \n",
              "\n",
              "                                        text cleaned     folder name  \\\n",
              "0  hello considering buying hummingbird xwindows ...  comp.windows.x   \n",
              "1  tn program support xterm dont like x cant copy...  comp.windows.x   \n",
              "2  im posting request since last one title im loo...  comp.windows.x   \n",
              "3  studying book unix desktop guide open look exa...  comp.windows.x   \n",
              "4  anyone know public domain toolkits creating xw...  comp.windows.x   \n",
              "\n",
              "   file name  \n",
              "0      67551  \n",
              "1      67566  \n",
              "2      68196  \n",
              "3  68332.eml  \n",
              "4      67972  "
            ],
            "text/html": [
              "\n",
              "  <div id=\"df-12c28b41-0939-475b-8d86-ff39328a963e\">\n",
              "    <div class=\"colab-df-container\">\n",
              "      <div>\n",
              "<style scoped>\n",
              "    .dataframe tbody tr th:only-of-type {\n",
              "        vertical-align: middle;\n",
              "    }\n",
              "\n",
              "    .dataframe tbody tr th {\n",
              "        vertical-align: top;\n",
              "    }\n",
              "\n",
              "    .dataframe thead th {\n",
              "        text-align: right;\n",
              "    }\n",
              "</style>\n",
              "<table border=\"1\" class=\"dataframe\">\n",
              "  <thead>\n",
              "    <tr style=\"text-align: right;\">\n",
              "      <th></th>\n",
              "      <th>texts</th>\n",
              "      <th>text cleaned</th>\n",
              "      <th>folder name</th>\n",
              "      <th>file name</th>\n",
              "    </tr>\n",
              "  </thead>\n",
              "  <tbody>\n",
              "    <tr>\n",
              "      <th>0</th>\n",
              "      <td>Organization: University of Central Florida -...</td>\n",
              "      <td>hello considering buying hummingbird xwindows ...</td>\n",
              "      <td>comp.windows.x</td>\n",
              "      <td>67551</td>\n",
              "    </tr>\n",
              "    <tr>\n",
              "      <th>1</th>\n",
              "      <td>Organization: Queen's University at Kingston\\...</td>\n",
              "      <td>tn program support xterm dont like x cant copy...</td>\n",
              "      <td>comp.windows.x</td>\n",
              "      <td>67566</td>\n",
              "    </tr>\n",
              "    <tr>\n",
              "      <th>2</th>\n",
              "      <td>Subject: Re: X on DOS or Windows\\n From: clee...</td>\n",
              "      <td>im posting request since last one title im loo...</td>\n",
              "      <td>comp.windows.x</td>\n",
              "      <td>68196</td>\n",
              "    </tr>\n",
              "    <tr>\n",
              "      <th>3</th>\n",
              "      <td>From: iop@server2.iie.ncku.edu.tw\\n Subject: ...</td>\n",
              "      <td>studying book unix desktop guide open look exa...</td>\n",
              "      <td>comp.windows.x</td>\n",
              "      <td>68332.eml</td>\n",
              "    </tr>\n",
              "    <tr>\n",
              "      <th>4</th>\n",
              "      <td>Subject: Re: Resource/Widget toolkit required...</td>\n",
              "      <td>anyone know public domain toolkits creating xw...</td>\n",
              "      <td>comp.windows.x</td>\n",
              "      <td>67972</td>\n",
              "    </tr>\n",
              "  </tbody>\n",
              "</table>\n",
              "</div>\n",
              "      <button class=\"colab-df-convert\" onclick=\"convertToInteractive('df-12c28b41-0939-475b-8d86-ff39328a963e')\"\n",
              "              title=\"Convert this dataframe to an interactive table.\"\n",
              "              style=\"display:none;\">\n",
              "        \n",
              "  <svg xmlns=\"http://www.w3.org/2000/svg\" height=\"24px\"viewBox=\"0 0 24 24\"\n",
              "       width=\"24px\">\n",
              "    <path d=\"M0 0h24v24H0V0z\" fill=\"none\"/>\n",
              "    <path d=\"M18.56 5.44l.94 2.06.94-2.06 2.06-.94-2.06-.94-.94-2.06-.94 2.06-2.06.94zm-11 1L8.5 8.5l.94-2.06 2.06-.94-2.06-.94L8.5 2.5l-.94 2.06-2.06.94zm10 10l.94 2.06.94-2.06 2.06-.94-2.06-.94-.94-2.06-.94 2.06-2.06.94z\"/><path d=\"M17.41 7.96l-1.37-1.37c-.4-.4-.92-.59-1.43-.59-.52 0-1.04.2-1.43.59L10.3 9.45l-7.72 7.72c-.78.78-.78 2.05 0 2.83L4 21.41c.39.39.9.59 1.41.59.51 0 1.02-.2 1.41-.59l7.78-7.78 2.81-2.81c.8-.78.8-2.07 0-2.86zM5.41 20L4 18.59l7.72-7.72 1.47 1.35L5.41 20z\"/>\n",
              "  </svg>\n",
              "      </button>\n",
              "      \n",
              "  <style>\n",
              "    .colab-df-container {\n",
              "      display:flex;\n",
              "      flex-wrap:wrap;\n",
              "      gap: 12px;\n",
              "    }\n",
              "\n",
              "    .colab-df-convert {\n",
              "      background-color: #E8F0FE;\n",
              "      border: none;\n",
              "      border-radius: 50%;\n",
              "      cursor: pointer;\n",
              "      display: none;\n",
              "      fill: #1967D2;\n",
              "      height: 32px;\n",
              "      padding: 0 0 0 0;\n",
              "      width: 32px;\n",
              "    }\n",
              "\n",
              "    .colab-df-convert:hover {\n",
              "      background-color: #E2EBFA;\n",
              "      box-shadow: 0px 1px 2px rgba(60, 64, 67, 0.3), 0px 1px 3px 1px rgba(60, 64, 67, 0.15);\n",
              "      fill: #174EA6;\n",
              "    }\n",
              "\n",
              "    [theme=dark] .colab-df-convert {\n",
              "      background-color: #3B4455;\n",
              "      fill: #D2E3FC;\n",
              "    }\n",
              "\n",
              "    [theme=dark] .colab-df-convert:hover {\n",
              "      background-color: #434B5C;\n",
              "      box-shadow: 0px 1px 3px 1px rgba(0, 0, 0, 0.15);\n",
              "      filter: drop-shadow(0px 1px 2px rgba(0, 0, 0, 0.3));\n",
              "      fill: #FFFFFF;\n",
              "    }\n",
              "  </style>\n",
              "\n",
              "      <script>\n",
              "        const buttonEl =\n",
              "          document.querySelector('#df-12c28b41-0939-475b-8d86-ff39328a963e button.colab-df-convert');\n",
              "        buttonEl.style.display =\n",
              "          google.colab.kernel.accessAllowed ? 'block' : 'none';\n",
              "\n",
              "        async function convertToInteractive(key) {\n",
              "          const element = document.querySelector('#df-12c28b41-0939-475b-8d86-ff39328a963e');\n",
              "          const dataTable =\n",
              "            await google.colab.kernel.invokeFunction('convertToInteractive',\n",
              "                                                     [key], {});\n",
              "          if (!dataTable) return;\n",
              "\n",
              "          const docLinkHtml = 'Like what you see? Visit the ' +\n",
              "            '<a target=\"_blank\" href=https://colab.research.google.com/notebooks/data_table.ipynb>data table notebook</a>'\n",
              "            + ' to learn more about interactive tables.';\n",
              "          element.innerHTML = '';\n",
              "          dataTable['output_type'] = 'display_data';\n",
              "          await google.colab.output.renderOutput(dataTable, element);\n",
              "          const docLink = document.createElement('div');\n",
              "          docLink.innerHTML = docLinkHtml;\n",
              "          element.appendChild(docLink);\n",
              "        }\n",
              "      </script>\n",
              "    </div>\n",
              "  </div>\n",
              "  "
            ]
          },
          "metadata": {},
          "execution_count": 9
        }
      ],
      "source": [
        "df_test.head()"
      ]
    },
    {
      "cell_type": "markdown",
      "metadata": {
        "id": "b0c3a105"
      },
      "source": [
        "# Convert to vectors"
      ]
    },
    {
      "cell_type": "markdown",
      "metadata": {
        "id": "f974967b"
      },
      "source": [
        "document is tokenized into words and applied doc2vec model. doc2vec is a method to represent list of words using a vector. it is used to create a vectorised representation of a group of words taken collectively as a single unit.In gensim the model will always be trained on a word per word basis. Therefore  we split the document into an array of words using split(). In order to train the model, tagged documents are needed. it can be created by using models.doc2vec.TaggedDcument(). then finally we train the doc2vec model"
      ]
    },
    {
      "cell_type": "code",
      "execution_count": null,
      "metadata": {
        "id": "56b11ddb"
      },
      "outputs": [],
      "source": [
        "'''this function is used to do tokenization'''\n",
        "def tokenizer(txt):  \n",
        "    tokens=txt.split(' ')\n",
        "    unique_tokens=np.unique(np.array(tokens)) #get unique tokens\n",
        "    ###create a dictonary of tokens###\n",
        "    tokens_dict={}\n",
        "    for indx in range(len(unique_tokens)):\n",
        "        tokens_dict[unique_tokens[indx]]=indx\n",
        "    return(tokens_dict,tokens)"
      ]
    },
    {
      "cell_type": "code",
      "execution_count": null,
      "metadata": {
        "id": "f5543b28"
      },
      "outputs": [],
      "source": [
        "#tokanize train and test data\n",
        "words_list=[]\n",
        "for i in range(len(df_train)):\n",
        "    _,words=tokenizer(df_train['text cleaned'][i]) \n",
        "    words_list.append(words)\n",
        "for i in range(len(df_test)):\n",
        "    _,words=tokenizer(df_test['text cleaned'][i])\n",
        "    words_list.append(words)\n",
        "####################################"
      ]
    },
    {
      "cell_type": "code",
      "execution_count": null,
      "metadata": {
        "id": "d8f42138"
      },
      "outputs": [],
      "source": [
        "documents = [TaggedDocument(doc, [i]) for i, doc in enumerate(words_list)]\n",
        "model = Doc2Vec(vector_size=40, min_count=2, epochs=30) #fit the Doc2Vec model\n",
        "model.build_vocab(documents)\n",
        "model.train(documents, total_examples=model.corpus_count, epochs=model.epochs)"
      ]
    },
    {
      "cell_type": "code",
      "execution_count": null,
      "metadata": {
        "id": "0ab99bf3"
      },
      "outputs": [],
      "source": [
        "###get train vectors##\n",
        "train_vectors=[]\n",
        "for i in range(len(df_train)):\n",
        "    train_vectors.append(model.infer_vector(list(df_train['text cleaned'][i].split(' '))))\n",
        "##########################"
      ]
    },
    {
      "cell_type": "code",
      "execution_count": null,
      "metadata": {
        "id": "680576d1"
      },
      "outputs": [],
      "source": [
        "##get test vectors##\n",
        "test_vectors=[]\n",
        "for i in range(len(df_test)):\n",
        "    test_vectors.append(model.infer_vector(list(df_test['text cleaned'][i].split(' '))))\n",
        "############################"
      ]
    },
    {
      "cell_type": "code",
      "execution_count": null,
      "metadata": {
        "id": "2a6b46f4"
      },
      "outputs": [],
      "source": [
        "train=pd.DataFrame(train_vectors)\n",
        "train['folder name']=df_train['folder name']\n",
        "train['file name']=df_train['file name']\n",
        "test=pd.DataFrame(test_vectors)\n",
        "test['folder name']=df_test['folder name']\n",
        "test['file name']=df_test['file name']"
      ]
    },
    {
      "cell_type": "code",
      "execution_count": null,
      "metadata": {
        "colab": {
          "base_uri": "https://localhost:8080/",
          "height": 317
        },
        "id": "fde2eb19",
        "outputId": "092cd0e8-b4cf-4b15-8aef-15c097e22993"
      },
      "outputs": [
        {
          "output_type": "execute_result",
          "data": {
            "text/plain": [
              "          0         1         2         3         4         5         6  \\\n",
              "0 -0.066713 -0.287429 -0.399868 -0.333415  0.678753  0.437295  0.678954   \n",
              "1  0.744486 -0.531116 -1.070442  0.013823  0.180013  0.090380  0.437424   \n",
              "2  0.328144 -0.481195 -0.414951 -1.017945 -0.239436  0.405413  0.776452   \n",
              "3  0.131527 -0.154112 -0.048198 -0.397870  0.119279 -0.017622  0.029412   \n",
              "4 -0.211842  0.199410 -1.498385 -0.261526  0.882079 -0.006605 -0.408872   \n",
              "\n",
              "          7         8         9  ...        32        33        34        35  \\\n",
              "0  0.788509 -0.330253 -0.016641  ... -0.806411  0.039909  0.491255 -0.058101   \n",
              "1  0.166477  0.301941  1.067428  ... -0.697233  0.104386  0.386378  0.043756   \n",
              "2  0.451591 -0.740614  0.047171  ... -0.366408  0.547060 -0.487406 -0.095528   \n",
              "3  0.679335 -0.417777  0.563634  ...  0.101432  0.175480 -0.124023 -0.221537   \n",
              "4  1.374538  0.044579  0.548005  ... -0.936486 -0.546783  1.274282 -0.635842   \n",
              "\n",
              "         36        37        38        39     folder name  file name  \n",
              "0  0.683467 -0.010286 -0.175499  0.299546  comp.windows.x      66939  \n",
              "1  0.127149 -1.153150 -0.997933 -0.924932  comp.windows.x      67117  \n",
              "2  0.504356  0.231408 -0.145500 -0.685314  comp.windows.x      66947  \n",
              "3 -0.062515 -0.325504 -0.053227 -0.203337  comp.windows.x      67279  \n",
              "4 -0.710933 -0.932430 -1.865840 -0.904930  comp.windows.x      67410  \n",
              "\n",
              "[5 rows x 42 columns]"
            ],
            "text/html": [
              "\n",
              "  <div id=\"df-6518fe16-f007-490a-aa4e-af34a8d00d94\">\n",
              "    <div class=\"colab-df-container\">\n",
              "      <div>\n",
              "<style scoped>\n",
              "    .dataframe tbody tr th:only-of-type {\n",
              "        vertical-align: middle;\n",
              "    }\n",
              "\n",
              "    .dataframe tbody tr th {\n",
              "        vertical-align: top;\n",
              "    }\n",
              "\n",
              "    .dataframe thead th {\n",
              "        text-align: right;\n",
              "    }\n",
              "</style>\n",
              "<table border=\"1\" class=\"dataframe\">\n",
              "  <thead>\n",
              "    <tr style=\"text-align: right;\">\n",
              "      <th></th>\n",
              "      <th>0</th>\n",
              "      <th>1</th>\n",
              "      <th>2</th>\n",
              "      <th>3</th>\n",
              "      <th>4</th>\n",
              "      <th>5</th>\n",
              "      <th>6</th>\n",
              "      <th>7</th>\n",
              "      <th>8</th>\n",
              "      <th>9</th>\n",
              "      <th>...</th>\n",
              "      <th>32</th>\n",
              "      <th>33</th>\n",
              "      <th>34</th>\n",
              "      <th>35</th>\n",
              "      <th>36</th>\n",
              "      <th>37</th>\n",
              "      <th>38</th>\n",
              "      <th>39</th>\n",
              "      <th>folder name</th>\n",
              "      <th>file name</th>\n",
              "    </tr>\n",
              "  </thead>\n",
              "  <tbody>\n",
              "    <tr>\n",
              "      <th>0</th>\n",
              "      <td>-0.066713</td>\n",
              "      <td>-0.287429</td>\n",
              "      <td>-0.399868</td>\n",
              "      <td>-0.333415</td>\n",
              "      <td>0.678753</td>\n",
              "      <td>0.437295</td>\n",
              "      <td>0.678954</td>\n",
              "      <td>0.788509</td>\n",
              "      <td>-0.330253</td>\n",
              "      <td>-0.016641</td>\n",
              "      <td>...</td>\n",
              "      <td>-0.806411</td>\n",
              "      <td>0.039909</td>\n",
              "      <td>0.491255</td>\n",
              "      <td>-0.058101</td>\n",
              "      <td>0.683467</td>\n",
              "      <td>-0.010286</td>\n",
              "      <td>-0.175499</td>\n",
              "      <td>0.299546</td>\n",
              "      <td>comp.windows.x</td>\n",
              "      <td>66939</td>\n",
              "    </tr>\n",
              "    <tr>\n",
              "      <th>1</th>\n",
              "      <td>0.744486</td>\n",
              "      <td>-0.531116</td>\n",
              "      <td>-1.070442</td>\n",
              "      <td>0.013823</td>\n",
              "      <td>0.180013</td>\n",
              "      <td>0.090380</td>\n",
              "      <td>0.437424</td>\n",
              "      <td>0.166477</td>\n",
              "      <td>0.301941</td>\n",
              "      <td>1.067428</td>\n",
              "      <td>...</td>\n",
              "      <td>-0.697233</td>\n",
              "      <td>0.104386</td>\n",
              "      <td>0.386378</td>\n",
              "      <td>0.043756</td>\n",
              "      <td>0.127149</td>\n",
              "      <td>-1.153150</td>\n",
              "      <td>-0.997933</td>\n",
              "      <td>-0.924932</td>\n",
              "      <td>comp.windows.x</td>\n",
              "      <td>67117</td>\n",
              "    </tr>\n",
              "    <tr>\n",
              "      <th>2</th>\n",
              "      <td>0.328144</td>\n",
              "      <td>-0.481195</td>\n",
              "      <td>-0.414951</td>\n",
              "      <td>-1.017945</td>\n",
              "      <td>-0.239436</td>\n",
              "      <td>0.405413</td>\n",
              "      <td>0.776452</td>\n",
              "      <td>0.451591</td>\n",
              "      <td>-0.740614</td>\n",
              "      <td>0.047171</td>\n",
              "      <td>...</td>\n",
              "      <td>-0.366408</td>\n",
              "      <td>0.547060</td>\n",
              "      <td>-0.487406</td>\n",
              "      <td>-0.095528</td>\n",
              "      <td>0.504356</td>\n",
              "      <td>0.231408</td>\n",
              "      <td>-0.145500</td>\n",
              "      <td>-0.685314</td>\n",
              "      <td>comp.windows.x</td>\n",
              "      <td>66947</td>\n",
              "    </tr>\n",
              "    <tr>\n",
              "      <th>3</th>\n",
              "      <td>0.131527</td>\n",
              "      <td>-0.154112</td>\n",
              "      <td>-0.048198</td>\n",
              "      <td>-0.397870</td>\n",
              "      <td>0.119279</td>\n",
              "      <td>-0.017622</td>\n",
              "      <td>0.029412</td>\n",
              "      <td>0.679335</td>\n",
              "      <td>-0.417777</td>\n",
              "      <td>0.563634</td>\n",
              "      <td>...</td>\n",
              "      <td>0.101432</td>\n",
              "      <td>0.175480</td>\n",
              "      <td>-0.124023</td>\n",
              "      <td>-0.221537</td>\n",
              "      <td>-0.062515</td>\n",
              "      <td>-0.325504</td>\n",
              "      <td>-0.053227</td>\n",
              "      <td>-0.203337</td>\n",
              "      <td>comp.windows.x</td>\n",
              "      <td>67279</td>\n",
              "    </tr>\n",
              "    <tr>\n",
              "      <th>4</th>\n",
              "      <td>-0.211842</td>\n",
              "      <td>0.199410</td>\n",
              "      <td>-1.498385</td>\n",
              "      <td>-0.261526</td>\n",
              "      <td>0.882079</td>\n",
              "      <td>-0.006605</td>\n",
              "      <td>-0.408872</td>\n",
              "      <td>1.374538</td>\n",
              "      <td>0.044579</td>\n",
              "      <td>0.548005</td>\n",
              "      <td>...</td>\n",
              "      <td>-0.936486</td>\n",
              "      <td>-0.546783</td>\n",
              "      <td>1.274282</td>\n",
              "      <td>-0.635842</td>\n",
              "      <td>-0.710933</td>\n",
              "      <td>-0.932430</td>\n",
              "      <td>-1.865840</td>\n",
              "      <td>-0.904930</td>\n",
              "      <td>comp.windows.x</td>\n",
              "      <td>67410</td>\n",
              "    </tr>\n",
              "  </tbody>\n",
              "</table>\n",
              "<p>5 rows × 42 columns</p>\n",
              "</div>\n",
              "      <button class=\"colab-df-convert\" onclick=\"convertToInteractive('df-6518fe16-f007-490a-aa4e-af34a8d00d94')\"\n",
              "              title=\"Convert this dataframe to an interactive table.\"\n",
              "              style=\"display:none;\">\n",
              "        \n",
              "  <svg xmlns=\"http://www.w3.org/2000/svg\" height=\"24px\"viewBox=\"0 0 24 24\"\n",
              "       width=\"24px\">\n",
              "    <path d=\"M0 0h24v24H0V0z\" fill=\"none\"/>\n",
              "    <path d=\"M18.56 5.44l.94 2.06.94-2.06 2.06-.94-2.06-.94-.94-2.06-.94 2.06-2.06.94zm-11 1L8.5 8.5l.94-2.06 2.06-.94-2.06-.94L8.5 2.5l-.94 2.06-2.06.94zm10 10l.94 2.06.94-2.06 2.06-.94-2.06-.94-.94-2.06-.94 2.06-2.06.94z\"/><path d=\"M17.41 7.96l-1.37-1.37c-.4-.4-.92-.59-1.43-.59-.52 0-1.04.2-1.43.59L10.3 9.45l-7.72 7.72c-.78.78-.78 2.05 0 2.83L4 21.41c.39.39.9.59 1.41.59.51 0 1.02-.2 1.41-.59l7.78-7.78 2.81-2.81c.8-.78.8-2.07 0-2.86zM5.41 20L4 18.59l7.72-7.72 1.47 1.35L5.41 20z\"/>\n",
              "  </svg>\n",
              "      </button>\n",
              "      \n",
              "  <style>\n",
              "    .colab-df-container {\n",
              "      display:flex;\n",
              "      flex-wrap:wrap;\n",
              "      gap: 12px;\n",
              "    }\n",
              "\n",
              "    .colab-df-convert {\n",
              "      background-color: #E8F0FE;\n",
              "      border: none;\n",
              "      border-radius: 50%;\n",
              "      cursor: pointer;\n",
              "      display: none;\n",
              "      fill: #1967D2;\n",
              "      height: 32px;\n",
              "      padding: 0 0 0 0;\n",
              "      width: 32px;\n",
              "    }\n",
              "\n",
              "    .colab-df-convert:hover {\n",
              "      background-color: #E2EBFA;\n",
              "      box-shadow: 0px 1px 2px rgba(60, 64, 67, 0.3), 0px 1px 3px 1px rgba(60, 64, 67, 0.15);\n",
              "      fill: #174EA6;\n",
              "    }\n",
              "\n",
              "    [theme=dark] .colab-df-convert {\n",
              "      background-color: #3B4455;\n",
              "      fill: #D2E3FC;\n",
              "    }\n",
              "\n",
              "    [theme=dark] .colab-df-convert:hover {\n",
              "      background-color: #434B5C;\n",
              "      box-shadow: 0px 1px 3px 1px rgba(0, 0, 0, 0.15);\n",
              "      filter: drop-shadow(0px 1px 2px rgba(0, 0, 0, 0.3));\n",
              "      fill: #FFFFFF;\n",
              "    }\n",
              "  </style>\n",
              "\n",
              "      <script>\n",
              "        const buttonEl =\n",
              "          document.querySelector('#df-6518fe16-f007-490a-aa4e-af34a8d00d94 button.colab-df-convert');\n",
              "        buttonEl.style.display =\n",
              "          google.colab.kernel.accessAllowed ? 'block' : 'none';\n",
              "\n",
              "        async function convertToInteractive(key) {\n",
              "          const element = document.querySelector('#df-6518fe16-f007-490a-aa4e-af34a8d00d94');\n",
              "          const dataTable =\n",
              "            await google.colab.kernel.invokeFunction('convertToInteractive',\n",
              "                                                     [key], {});\n",
              "          if (!dataTable) return;\n",
              "\n",
              "          const docLinkHtml = 'Like what you see? Visit the ' +\n",
              "            '<a target=\"_blank\" href=https://colab.research.google.com/notebooks/data_table.ipynb>data table notebook</a>'\n",
              "            + ' to learn more about interactive tables.';\n",
              "          element.innerHTML = '';\n",
              "          dataTable['output_type'] = 'display_data';\n",
              "          await google.colab.output.renderOutput(dataTable, element);\n",
              "          const docLink = document.createElement('div');\n",
              "          docLink.innerHTML = docLinkHtml;\n",
              "          element.appendChild(docLink);\n",
              "        }\n",
              "      </script>\n",
              "    </div>\n",
              "  </div>\n",
              "  "
            ]
          },
          "metadata": {},
          "execution_count": 16
        }
      ],
      "source": [
        "train.head()"
      ]
    },
    {
      "cell_type": "code",
      "execution_count": null,
      "metadata": {
        "colab": {
          "base_uri": "https://localhost:8080/",
          "height": 317
        },
        "id": "aa1fdce6",
        "outputId": "18e79791-1606-4266-c2d8-2419df14eba5"
      },
      "outputs": [
        {
          "output_type": "execute_result",
          "data": {
            "text/plain": [
              "          0         1         2         3         4         5         6  \\\n",
              "0  0.087660 -0.432065 -0.653577 -0.502173  0.643440  0.222418 -0.029119   \n",
              "1  0.520183  0.181805 -0.273885 -0.156340  0.083651 -0.136866 -0.053114   \n",
              "2  0.607010 -0.206781  0.280009 -1.150236 -0.072557  0.138987  0.024901   \n",
              "3 -3.872827  1.148111 -0.683765 -0.862673  0.301422  6.109645 -0.048783   \n",
              "4 -0.382234  0.994797 -1.905553  0.269059 -0.128935  0.054541 -0.743769   \n",
              "\n",
              "          7         8         9  ...        32        33        34        35  \\\n",
              "0  0.177928  0.100904  0.031590  ... -0.616315 -0.121021  0.246841  0.034125   \n",
              "1  0.256988  0.121570  0.544195  ... -0.135414  0.350382 -0.117181 -0.294207   \n",
              "2 -0.050259 -0.060715  1.663651  ... -0.510634  0.125493 -0.556234  0.062671   \n",
              "3  6.050083  0.046541  0.285950  ... -2.981766  2.518252  0.438007  1.758084   \n",
              "4 -0.051312 -0.034497  1.555881  ... -0.685315  0.170255 -1.074199 -0.382189   \n",
              "\n",
              "         36        37        38        39     folder name  file name  \n",
              "0  0.122506 -0.584005 -0.321968 -0.024909  comp.windows.x      67551  \n",
              "1 -0.331065 -0.209273 -0.385534 -0.271347  comp.windows.x      67566  \n",
              "2  0.462736 -0.808190 -1.024320 -0.719526  comp.windows.x      68196  \n",
              "3  2.462524  0.004354 -5.147213 -1.866775  comp.windows.x  68332.eml  \n",
              "4 -0.221441 -1.426607 -1.337920 -0.806584  comp.windows.x      67972  \n",
              "\n",
              "[5 rows x 42 columns]"
            ],
            "text/html": [
              "\n",
              "  <div id=\"df-15b28204-9640-489a-9f8e-fc0197f003b5\">\n",
              "    <div class=\"colab-df-container\">\n",
              "      <div>\n",
              "<style scoped>\n",
              "    .dataframe tbody tr th:only-of-type {\n",
              "        vertical-align: middle;\n",
              "    }\n",
              "\n",
              "    .dataframe tbody tr th {\n",
              "        vertical-align: top;\n",
              "    }\n",
              "\n",
              "    .dataframe thead th {\n",
              "        text-align: right;\n",
              "    }\n",
              "</style>\n",
              "<table border=\"1\" class=\"dataframe\">\n",
              "  <thead>\n",
              "    <tr style=\"text-align: right;\">\n",
              "      <th></th>\n",
              "      <th>0</th>\n",
              "      <th>1</th>\n",
              "      <th>2</th>\n",
              "      <th>3</th>\n",
              "      <th>4</th>\n",
              "      <th>5</th>\n",
              "      <th>6</th>\n",
              "      <th>7</th>\n",
              "      <th>8</th>\n",
              "      <th>9</th>\n",
              "      <th>...</th>\n",
              "      <th>32</th>\n",
              "      <th>33</th>\n",
              "      <th>34</th>\n",
              "      <th>35</th>\n",
              "      <th>36</th>\n",
              "      <th>37</th>\n",
              "      <th>38</th>\n",
              "      <th>39</th>\n",
              "      <th>folder name</th>\n",
              "      <th>file name</th>\n",
              "    </tr>\n",
              "  </thead>\n",
              "  <tbody>\n",
              "    <tr>\n",
              "      <th>0</th>\n",
              "      <td>0.087660</td>\n",
              "      <td>-0.432065</td>\n",
              "      <td>-0.653577</td>\n",
              "      <td>-0.502173</td>\n",
              "      <td>0.643440</td>\n",
              "      <td>0.222418</td>\n",
              "      <td>-0.029119</td>\n",
              "      <td>0.177928</td>\n",
              "      <td>0.100904</td>\n",
              "      <td>0.031590</td>\n",
              "      <td>...</td>\n",
              "      <td>-0.616315</td>\n",
              "      <td>-0.121021</td>\n",
              "      <td>0.246841</td>\n",
              "      <td>0.034125</td>\n",
              "      <td>0.122506</td>\n",
              "      <td>-0.584005</td>\n",
              "      <td>-0.321968</td>\n",
              "      <td>-0.024909</td>\n",
              "      <td>comp.windows.x</td>\n",
              "      <td>67551</td>\n",
              "    </tr>\n",
              "    <tr>\n",
              "      <th>1</th>\n",
              "      <td>0.520183</td>\n",
              "      <td>0.181805</td>\n",
              "      <td>-0.273885</td>\n",
              "      <td>-0.156340</td>\n",
              "      <td>0.083651</td>\n",
              "      <td>-0.136866</td>\n",
              "      <td>-0.053114</td>\n",
              "      <td>0.256988</td>\n",
              "      <td>0.121570</td>\n",
              "      <td>0.544195</td>\n",
              "      <td>...</td>\n",
              "      <td>-0.135414</td>\n",
              "      <td>0.350382</td>\n",
              "      <td>-0.117181</td>\n",
              "      <td>-0.294207</td>\n",
              "      <td>-0.331065</td>\n",
              "      <td>-0.209273</td>\n",
              "      <td>-0.385534</td>\n",
              "      <td>-0.271347</td>\n",
              "      <td>comp.windows.x</td>\n",
              "      <td>67566</td>\n",
              "    </tr>\n",
              "    <tr>\n",
              "      <th>2</th>\n",
              "      <td>0.607010</td>\n",
              "      <td>-0.206781</td>\n",
              "      <td>0.280009</td>\n",
              "      <td>-1.150236</td>\n",
              "      <td>-0.072557</td>\n",
              "      <td>0.138987</td>\n",
              "      <td>0.024901</td>\n",
              "      <td>-0.050259</td>\n",
              "      <td>-0.060715</td>\n",
              "      <td>1.663651</td>\n",
              "      <td>...</td>\n",
              "      <td>-0.510634</td>\n",
              "      <td>0.125493</td>\n",
              "      <td>-0.556234</td>\n",
              "      <td>0.062671</td>\n",
              "      <td>0.462736</td>\n",
              "      <td>-0.808190</td>\n",
              "      <td>-1.024320</td>\n",
              "      <td>-0.719526</td>\n",
              "      <td>comp.windows.x</td>\n",
              "      <td>68196</td>\n",
              "    </tr>\n",
              "    <tr>\n",
              "      <th>3</th>\n",
              "      <td>-3.872827</td>\n",
              "      <td>1.148111</td>\n",
              "      <td>-0.683765</td>\n",
              "      <td>-0.862673</td>\n",
              "      <td>0.301422</td>\n",
              "      <td>6.109645</td>\n",
              "      <td>-0.048783</td>\n",
              "      <td>6.050083</td>\n",
              "      <td>0.046541</td>\n",
              "      <td>0.285950</td>\n",
              "      <td>...</td>\n",
              "      <td>-2.981766</td>\n",
              "      <td>2.518252</td>\n",
              "      <td>0.438007</td>\n",
              "      <td>1.758084</td>\n",
              "      <td>2.462524</td>\n",
              "      <td>0.004354</td>\n",
              "      <td>-5.147213</td>\n",
              "      <td>-1.866775</td>\n",
              "      <td>comp.windows.x</td>\n",
              "      <td>68332.eml</td>\n",
              "    </tr>\n",
              "    <tr>\n",
              "      <th>4</th>\n",
              "      <td>-0.382234</td>\n",
              "      <td>0.994797</td>\n",
              "      <td>-1.905553</td>\n",
              "      <td>0.269059</td>\n",
              "      <td>-0.128935</td>\n",
              "      <td>0.054541</td>\n",
              "      <td>-0.743769</td>\n",
              "      <td>-0.051312</td>\n",
              "      <td>-0.034497</td>\n",
              "      <td>1.555881</td>\n",
              "      <td>...</td>\n",
              "      <td>-0.685315</td>\n",
              "      <td>0.170255</td>\n",
              "      <td>-1.074199</td>\n",
              "      <td>-0.382189</td>\n",
              "      <td>-0.221441</td>\n",
              "      <td>-1.426607</td>\n",
              "      <td>-1.337920</td>\n",
              "      <td>-0.806584</td>\n",
              "      <td>comp.windows.x</td>\n",
              "      <td>67972</td>\n",
              "    </tr>\n",
              "  </tbody>\n",
              "</table>\n",
              "<p>5 rows × 42 columns</p>\n",
              "</div>\n",
              "      <button class=\"colab-df-convert\" onclick=\"convertToInteractive('df-15b28204-9640-489a-9f8e-fc0197f003b5')\"\n",
              "              title=\"Convert this dataframe to an interactive table.\"\n",
              "              style=\"display:none;\">\n",
              "        \n",
              "  <svg xmlns=\"http://www.w3.org/2000/svg\" height=\"24px\"viewBox=\"0 0 24 24\"\n",
              "       width=\"24px\">\n",
              "    <path d=\"M0 0h24v24H0V0z\" fill=\"none\"/>\n",
              "    <path d=\"M18.56 5.44l.94 2.06.94-2.06 2.06-.94-2.06-.94-.94-2.06-.94 2.06-2.06.94zm-11 1L8.5 8.5l.94-2.06 2.06-.94-2.06-.94L8.5 2.5l-.94 2.06-2.06.94zm10 10l.94 2.06.94-2.06 2.06-.94-2.06-.94-.94-2.06-.94 2.06-2.06.94z\"/><path d=\"M17.41 7.96l-1.37-1.37c-.4-.4-.92-.59-1.43-.59-.52 0-1.04.2-1.43.59L10.3 9.45l-7.72 7.72c-.78.78-.78 2.05 0 2.83L4 21.41c.39.39.9.59 1.41.59.51 0 1.02-.2 1.41-.59l7.78-7.78 2.81-2.81c.8-.78.8-2.07 0-2.86zM5.41 20L4 18.59l7.72-7.72 1.47 1.35L5.41 20z\"/>\n",
              "  </svg>\n",
              "      </button>\n",
              "      \n",
              "  <style>\n",
              "    .colab-df-container {\n",
              "      display:flex;\n",
              "      flex-wrap:wrap;\n",
              "      gap: 12px;\n",
              "    }\n",
              "\n",
              "    .colab-df-convert {\n",
              "      background-color: #E8F0FE;\n",
              "      border: none;\n",
              "      border-radius: 50%;\n",
              "      cursor: pointer;\n",
              "      display: none;\n",
              "      fill: #1967D2;\n",
              "      height: 32px;\n",
              "      padding: 0 0 0 0;\n",
              "      width: 32px;\n",
              "    }\n",
              "\n",
              "    .colab-df-convert:hover {\n",
              "      background-color: #E2EBFA;\n",
              "      box-shadow: 0px 1px 2px rgba(60, 64, 67, 0.3), 0px 1px 3px 1px rgba(60, 64, 67, 0.15);\n",
              "      fill: #174EA6;\n",
              "    }\n",
              "\n",
              "    [theme=dark] .colab-df-convert {\n",
              "      background-color: #3B4455;\n",
              "      fill: #D2E3FC;\n",
              "    }\n",
              "\n",
              "    [theme=dark] .colab-df-convert:hover {\n",
              "      background-color: #434B5C;\n",
              "      box-shadow: 0px 1px 3px 1px rgba(0, 0, 0, 0.15);\n",
              "      filter: drop-shadow(0px 1px 2px rgba(0, 0, 0, 0.3));\n",
              "      fill: #FFFFFF;\n",
              "    }\n",
              "  </style>\n",
              "\n",
              "      <script>\n",
              "        const buttonEl =\n",
              "          document.querySelector('#df-15b28204-9640-489a-9f8e-fc0197f003b5 button.colab-df-convert');\n",
              "        buttonEl.style.display =\n",
              "          google.colab.kernel.accessAllowed ? 'block' : 'none';\n",
              "\n",
              "        async function convertToInteractive(key) {\n",
              "          const element = document.querySelector('#df-15b28204-9640-489a-9f8e-fc0197f003b5');\n",
              "          const dataTable =\n",
              "            await google.colab.kernel.invokeFunction('convertToInteractive',\n",
              "                                                     [key], {});\n",
              "          if (!dataTable) return;\n",
              "\n",
              "          const docLinkHtml = 'Like what you see? Visit the ' +\n",
              "            '<a target=\"_blank\" href=https://colab.research.google.com/notebooks/data_table.ipynb>data table notebook</a>'\n",
              "            + ' to learn more about interactive tables.';\n",
              "          element.innerHTML = '';\n",
              "          dataTable['output_type'] = 'display_data';\n",
              "          await google.colab.output.renderOutput(dataTable, element);\n",
              "          const docLink = document.createElement('div');\n",
              "          docLink.innerHTML = docLinkHtml;\n",
              "          element.appendChild(docLink);\n",
              "        }\n",
              "      </script>\n",
              "    </div>\n",
              "  </div>\n",
              "  "
            ]
          },
          "metadata": {},
          "execution_count": 17
        }
      ],
      "source": [
        "test.head()"
      ]
    },
    {
      "cell_type": "code",
      "execution_count": null,
      "metadata": {
        "id": "ad25977f"
      },
      "outputs": [],
      "source": [
        "train_,validation=train_test_split( train, test_size=0.33, random_state=42) #split data into train and validation sets"
      ]
    },
    {
      "cell_type": "code",
      "execution_count": null,
      "metadata": {
        "colab": {
          "base_uri": "https://localhost:8080/"
        },
        "id": "650079c8",
        "outputId": "38d01255-5701-43ae-e259-d91e5b3b2b34"
      },
      "outputs": [
        {
          "output_type": "execute_result",
          "data": {
            "text/plain": [
              "(7580, 7537, 3734)"
            ]
          },
          "metadata": {},
          "execution_count": 19
        }
      ],
      "source": [
        "len(train_),len(test),len(validation)"
      ]
    },
    {
      "cell_type": "code",
      "execution_count": null,
      "metadata": {
        "id": "22b2aca1"
      },
      "outputs": [],
      "source": [
        "#save data sets\n",
        "train_.to_csv(proj_dir+'train_data.csv')\n",
        "test.to_csv(proj_dir+'test_data.csv')\n",
        "validation.to_csv(proj_dir+'validation_data.csv')"
      ]
    },
    {
      "cell_type": "markdown",
      "source": [
        "# Modeling"
      ],
      "metadata": {
        "id": "D03jNxwR-CT7"
      }
    },
    {
      "cell_type": "code",
      "source": [
        "import tensorflow as tf\n",
        "from tensorflow import keras\n",
        "import numpy as np\n",
        "import matplotlib.pyplot as plt\n",
        "from tensorflow.keras.layers import Dense,Dropout\n",
        "from tensorflow.keras import Sequential\n",
        "from keras.utils.vis_utils import plot_model"
      ],
      "metadata": {
        "id": "fkoi4A98kAPX"
      },
      "execution_count": null,
      "outputs": []
    },
    {
      "cell_type": "markdown",
      "source": [
        "## Load data"
      ],
      "metadata": {
        "id": "OUA4GBfu-IoP"
      }
    },
    {
      "cell_type": "code",
      "execution_count": null,
      "metadata": {
        "id": "0702fdba"
      },
      "outputs": [],
      "source": [
        "train=pd.read_csv(proj_dir+'train_data.csv')\n",
        "test=pd.read_csv(proj_dir+'test_data.csv')\n",
        "validation=pd.read_csv(proj_dir+'validation_data.csv')"
      ]
    },
    {
      "cell_type": "markdown",
      "source": [
        "## Data rearrange for modeling"
      ],
      "metadata": {
        "id": "kwZPDgjY-O73"
      }
    },
    {
      "cell_type": "code",
      "execution_count": null,
      "metadata": {
        "id": "a712d932"
      },
      "outputs": [],
      "source": [
        "X_train=train[[str(i) for i in range(40)]]\n",
        "y_train=train['folder name']\n",
        "\n",
        "X_test=test[[str(i) for i in range(40)]]\n",
        "y_test=test['folder name']\n",
        "\n",
        "X_validation=validation[[str(i) for i in range(40)]]\n",
        "y_validation=validation['folder name']"
      ]
    },
    {
      "cell_type": "code",
      "source": [
        "names=np.unique(np.array(y_train))"
      ],
      "metadata": {
        "id": "YiULfHkLenag"
      },
      "execution_count": null,
      "outputs": []
    },
    {
      "cell_type": "code",
      "source": [
        "y_train_en=[np.where(names==name)[0] for name in y_train ]\n",
        "y_test_en=[np.where(names==name)[0] for name in y_test ]\n",
        "y_validation_en=[np.where(names==name)[0] for name in y_validation ]"
      ],
      "metadata": {
        "id": "QJJY6Kf5hbtz"
      },
      "execution_count": null,
      "outputs": []
    },
    {
      "cell_type": "code",
      "source": [
        "y_train_en=keras.utils.to_categorical(y_train_en)\n",
        "y_test_en=keras.utils.to_categorical(y_test_en)\n",
        "y_validation_en=keras.utils.to_categorical(y_validation_en)"
      ],
      "metadata": {
        "id": "CdB8JE4hf6n6"
      },
      "execution_count": null,
      "outputs": []
    }
  ],
  "metadata": {
    "colab": {
      "collapsed_sections": [
        "074718ea",
        "f6875224",
        "b0c3a105"
      ],
      "name": "preprocessing_code.ipynb",
      "provenance": []
    },
    "kernelspec": {
      "display_name": "Python 3",
      "name": "python3"
    },
    "language_info": {
      "name": "python"
    }
  },
  "nbformat": 4,
  "nbformat_minor": 0
}