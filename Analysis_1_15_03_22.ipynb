{
  "nbformat": 4,
  "nbformat_minor": 0,
  "metadata": {
    "colab": {
      "name": "Analysis 1 15_03_22.ipynb",
      "provenance": [],
      "collapsed_sections": []
    },
    "kernelspec": {
      "name": "python3",
      "display_name": "Python 3"
    },
    "language_info": {
      "name": "python"
    }
  },
  "cells": [
    {
      "cell_type": "code",
      "source": [
        "import pandas as pd\n",
        "import numpy as np\n",
        "import os\n",
        "import nltk\n",
        "from collections import Counter"
      ],
      "metadata": {
        "id": "kcX0C67POkt_"
      },
      "execution_count": 1,
      "outputs": []
    },
    {
      "cell_type": "code",
      "execution_count": 2,
      "metadata": {
        "colab": {
          "base_uri": "https://localhost:8080/"
        },
        "id": "Sy6nQbUvOkgB",
        "outputId": "29683afa-1b97-436a-e3a1-21244438bccc"
      },
      "outputs": [
        {
          "output_type": "stream",
          "name": "stdout",
          "text": [
            "--2022-03-15 20:22:04--  http://qwone.com/~jason/20Newsgroups/20news-bydate.tar.gz\n",
            "Resolving qwone.com (qwone.com)... 173.48.209.137\n",
            "Connecting to qwone.com (qwone.com)|173.48.209.137|:80... connected.\n",
            "HTTP request sent, awaiting response... 200 OK\n",
            "Length: 14464277 (14M) [application/x-gzip]\n",
            "Saving to: ‘20news-bydate.tar.gz’\n",
            "\n",
            "20news-bydate.tar.g 100%[===================>]  13.79M  4.81MB/s    in 2.9s    \n",
            "\n",
            "2022-03-15 20:22:07 (4.81 MB/s) - ‘20news-bydate.tar.gz’ saved [14464277/14464277]\n",
            "\n"
          ]
        }
      ],
      "source": [
        "!wget \"http://qwone.com/~jason/20Newsgroups/20news-bydate.tar.gz\"\n",
        "#for downloading the file"
      ]
    },
    {
      "cell_type": "code",
      "source": [
        "!tar --gunzip --extract --verbose --file=20news-bydate.tar.gz\n",
        "#for unzipping tar file"
      ],
      "metadata": {
        "id": "lAHmtL6ROrCK"
      },
      "execution_count": null,
      "outputs": []
    },
    {
      "cell_type": "code",
      "source": [
        "from google.colab import drive\n",
        "drive.mount('/content/drive')"
      ],
      "metadata": {
        "colab": {
          "base_uri": "https://localhost:8080/"
        },
        "id": "H5ybNB0IOti7",
        "outputId": "daeded98-dd20-4dda-c02c-2d338c52fa03"
      },
      "execution_count": 4,
      "outputs": [
        {
          "output_type": "stream",
          "name": "stdout",
          "text": [
            "Mounted at /content/drive\n"
          ]
        }
      ]
    },
    {
      "cell_type": "code",
      "source": [
        "# count files in atheism\n",
        "path, dirs, files = next(os.walk(\"/content/20news-bydate-train/alt.atheism\"))\n",
        "file_count = len(files)"
      ],
      "metadata": {
        "id": "2684_gQyOvfS"
      },
      "execution_count": 5,
      "outputs": []
    },
    {
      "cell_type": "code",
      "source": [
        "directory = [file for file in os.listdir('/content/20news-bydate-train') if not file.startswith('.')]\n",
        "directory"
      ],
      "metadata": {
        "colab": {
          "base_uri": "https://localhost:8080/"
        },
        "id": "CRCCVoVbOyeL",
        "outputId": "e9f6212e-4113-41af-884f-02872e1f2891"
      },
      "execution_count": 6,
      "outputs": [
        {
          "output_type": "execute_result",
          "data": {
            "text/plain": [
              "['sci.space',\n",
              " 'sci.electronics',\n",
              " 'talk.politics.misc',\n",
              " 'comp.sys.ibm.pc.hardware',\n",
              " 'comp.graphics',\n",
              " 'comp.os.ms-windows.misc',\n",
              " 'soc.religion.christian',\n",
              " 'rec.autos',\n",
              " 'comp.windows.x',\n",
              " 'alt.atheism',\n",
              " 'rec.sport.hockey',\n",
              " 'sci.crypt',\n",
              " 'misc.forsale',\n",
              " 'talk.religion.misc',\n",
              " 'talk.politics.mideast',\n",
              " 'comp.sys.mac.hardware',\n",
              " 'rec.sport.baseball',\n",
              " 'talk.politics.guns',\n",
              " 'sci.med',\n",
              " 'rec.motorcycles']"
            ]
          },
          "metadata": {},
          "execution_count": 6
        }
      ]
    },
    {
      "cell_type": "markdown",
      "source": [
        "number of files"
      ],
      "metadata": {
        "id": "LKcK3T9iPU6M"
      }
    },
    {
      "cell_type": "code",
      "source": [
        "### Number of files in each folder (Train)\n",
        "\n",
        "# import required module\n",
        "import os\n",
        "# assign directory\n",
        "directory = '/content/20news-bydate-train'\n",
        "\n",
        "sum =0\n",
        "d =[]\n",
        "\n",
        "# iterate over files in\n",
        "# that directory\n",
        "for filename in os.listdir(directory):\n",
        "  f = os.path.join(directory, filename)\n",
        "  file_count =len(os.listdir(f))\n",
        "  sum = sum + file_count\n",
        "  #print(filename, file_count)\n",
        "  \n",
        "  d.append(\n",
        "        {\n",
        "            'filename': filename,\n",
        "            '(Training) file_count': file_count\n",
        "        }\n",
        "  )\n",
        "        \n",
        "\n",
        "### Find Mean number of files\n",
        "print(\"Training set - total number files\",sum)\n",
        "mean = sum//20\n",
        "print(\"Training set - mean number of files:\" ,mean )\n",
        "\n"
      ],
      "metadata": {
        "colab": {
          "base_uri": "https://localhost:8080/"
        },
        "id": "0ja-7WG7O2J7",
        "outputId": "5d6de564-dae0-47c4-ddfd-3f892a8b7d2e"
      },
      "execution_count": 7,
      "outputs": [
        {
          "output_type": "stream",
          "name": "stdout",
          "text": [
            "Training set - total number files 11314\n",
            "Training set - mean number of files: 565\n"
          ]
        }
      ]
    },
    {
      "cell_type": "code",
      "source": [
        "# view folders and the number of files\n",
        "pd.DataFrame(d)"
      ],
      "metadata": {
        "colab": {
          "base_uri": "https://localhost:8080/",
          "height": 676
        },
        "id": "J83p2GQ4O2HN",
        "outputId": "51d9ffe0-752d-4213-923d-ac4dab677d5d"
      },
      "execution_count": 8,
      "outputs": [
        {
          "output_type": "execute_result",
          "data": {
            "text/plain": [
              "                    filename  (Training) file_count\n",
              "0                  sci.space                    593\n",
              "1            sci.electronics                    591\n",
              "2         talk.politics.misc                    465\n",
              "3   comp.sys.ibm.pc.hardware                    590\n",
              "4              comp.graphics                    584\n",
              "5    comp.os.ms-windows.misc                    591\n",
              "6     soc.religion.christian                    599\n",
              "7                  rec.autos                    594\n",
              "8             comp.windows.x                    593\n",
              "9                alt.atheism                    480\n",
              "10          rec.sport.hockey                    600\n",
              "11                 sci.crypt                    595\n",
              "12              misc.forsale                    585\n",
              "13        talk.religion.misc                    377\n",
              "14     talk.politics.mideast                    564\n",
              "15     comp.sys.mac.hardware                    578\n",
              "16        rec.sport.baseball                    597\n",
              "17        talk.politics.guns                    546\n",
              "18                   sci.med                    594\n",
              "19           rec.motorcycles                    598"
            ],
            "text/html": [
              "\n",
              "  <div id=\"df-cde836f5-bb34-446e-8f43-e3f05d4bae82\">\n",
              "    <div class=\"colab-df-container\">\n",
              "      <div>\n",
              "<style scoped>\n",
              "    .dataframe tbody tr th:only-of-type {\n",
              "        vertical-align: middle;\n",
              "    }\n",
              "\n",
              "    .dataframe tbody tr th {\n",
              "        vertical-align: top;\n",
              "    }\n",
              "\n",
              "    .dataframe thead th {\n",
              "        text-align: right;\n",
              "    }\n",
              "</style>\n",
              "<table border=\"1\" class=\"dataframe\">\n",
              "  <thead>\n",
              "    <tr style=\"text-align: right;\">\n",
              "      <th></th>\n",
              "      <th>filename</th>\n",
              "      <th>(Training) file_count</th>\n",
              "    </tr>\n",
              "  </thead>\n",
              "  <tbody>\n",
              "    <tr>\n",
              "      <th>0</th>\n",
              "      <td>sci.space</td>\n",
              "      <td>593</td>\n",
              "    </tr>\n",
              "    <tr>\n",
              "      <th>1</th>\n",
              "      <td>sci.electronics</td>\n",
              "      <td>591</td>\n",
              "    </tr>\n",
              "    <tr>\n",
              "      <th>2</th>\n",
              "      <td>talk.politics.misc</td>\n",
              "      <td>465</td>\n",
              "    </tr>\n",
              "    <tr>\n",
              "      <th>3</th>\n",
              "      <td>comp.sys.ibm.pc.hardware</td>\n",
              "      <td>590</td>\n",
              "    </tr>\n",
              "    <tr>\n",
              "      <th>4</th>\n",
              "      <td>comp.graphics</td>\n",
              "      <td>584</td>\n",
              "    </tr>\n",
              "    <tr>\n",
              "      <th>5</th>\n",
              "      <td>comp.os.ms-windows.misc</td>\n",
              "      <td>591</td>\n",
              "    </tr>\n",
              "    <tr>\n",
              "      <th>6</th>\n",
              "      <td>soc.religion.christian</td>\n",
              "      <td>599</td>\n",
              "    </tr>\n",
              "    <tr>\n",
              "      <th>7</th>\n",
              "      <td>rec.autos</td>\n",
              "      <td>594</td>\n",
              "    </tr>\n",
              "    <tr>\n",
              "      <th>8</th>\n",
              "      <td>comp.windows.x</td>\n",
              "      <td>593</td>\n",
              "    </tr>\n",
              "    <tr>\n",
              "      <th>9</th>\n",
              "      <td>alt.atheism</td>\n",
              "      <td>480</td>\n",
              "    </tr>\n",
              "    <tr>\n",
              "      <th>10</th>\n",
              "      <td>rec.sport.hockey</td>\n",
              "      <td>600</td>\n",
              "    </tr>\n",
              "    <tr>\n",
              "      <th>11</th>\n",
              "      <td>sci.crypt</td>\n",
              "      <td>595</td>\n",
              "    </tr>\n",
              "    <tr>\n",
              "      <th>12</th>\n",
              "      <td>misc.forsale</td>\n",
              "      <td>585</td>\n",
              "    </tr>\n",
              "    <tr>\n",
              "      <th>13</th>\n",
              "      <td>talk.religion.misc</td>\n",
              "      <td>377</td>\n",
              "    </tr>\n",
              "    <tr>\n",
              "      <th>14</th>\n",
              "      <td>talk.politics.mideast</td>\n",
              "      <td>564</td>\n",
              "    </tr>\n",
              "    <tr>\n",
              "      <th>15</th>\n",
              "      <td>comp.sys.mac.hardware</td>\n",
              "      <td>578</td>\n",
              "    </tr>\n",
              "    <tr>\n",
              "      <th>16</th>\n",
              "      <td>rec.sport.baseball</td>\n",
              "      <td>597</td>\n",
              "    </tr>\n",
              "    <tr>\n",
              "      <th>17</th>\n",
              "      <td>talk.politics.guns</td>\n",
              "      <td>546</td>\n",
              "    </tr>\n",
              "    <tr>\n",
              "      <th>18</th>\n",
              "      <td>sci.med</td>\n",
              "      <td>594</td>\n",
              "    </tr>\n",
              "    <tr>\n",
              "      <th>19</th>\n",
              "      <td>rec.motorcycles</td>\n",
              "      <td>598</td>\n",
              "    </tr>\n",
              "  </tbody>\n",
              "</table>\n",
              "</div>\n",
              "      <button class=\"colab-df-convert\" onclick=\"convertToInteractive('df-cde836f5-bb34-446e-8f43-e3f05d4bae82')\"\n",
              "              title=\"Convert this dataframe to an interactive table.\"\n",
              "              style=\"display:none;\">\n",
              "        \n",
              "  <svg xmlns=\"http://www.w3.org/2000/svg\" height=\"24px\"viewBox=\"0 0 24 24\"\n",
              "       width=\"24px\">\n",
              "    <path d=\"M0 0h24v24H0V0z\" fill=\"none\"/>\n",
              "    <path d=\"M18.56 5.44l.94 2.06.94-2.06 2.06-.94-2.06-.94-.94-2.06-.94 2.06-2.06.94zm-11 1L8.5 8.5l.94-2.06 2.06-.94-2.06-.94L8.5 2.5l-.94 2.06-2.06.94zm10 10l.94 2.06.94-2.06 2.06-.94-2.06-.94-.94-2.06-.94 2.06-2.06.94z\"/><path d=\"M17.41 7.96l-1.37-1.37c-.4-.4-.92-.59-1.43-.59-.52 0-1.04.2-1.43.59L10.3 9.45l-7.72 7.72c-.78.78-.78 2.05 0 2.83L4 21.41c.39.39.9.59 1.41.59.51 0 1.02-.2 1.41-.59l7.78-7.78 2.81-2.81c.8-.78.8-2.07 0-2.86zM5.41 20L4 18.59l7.72-7.72 1.47 1.35L5.41 20z\"/>\n",
              "  </svg>\n",
              "      </button>\n",
              "      \n",
              "  <style>\n",
              "    .colab-df-container {\n",
              "      display:flex;\n",
              "      flex-wrap:wrap;\n",
              "      gap: 12px;\n",
              "    }\n",
              "\n",
              "    .colab-df-convert {\n",
              "      background-color: #E8F0FE;\n",
              "      border: none;\n",
              "      border-radius: 50%;\n",
              "      cursor: pointer;\n",
              "      display: none;\n",
              "      fill: #1967D2;\n",
              "      height: 32px;\n",
              "      padding: 0 0 0 0;\n",
              "      width: 32px;\n",
              "    }\n",
              "\n",
              "    .colab-df-convert:hover {\n",
              "      background-color: #E2EBFA;\n",
              "      box-shadow: 0px 1px 2px rgba(60, 64, 67, 0.3), 0px 1px 3px 1px rgba(60, 64, 67, 0.15);\n",
              "      fill: #174EA6;\n",
              "    }\n",
              "\n",
              "    [theme=dark] .colab-df-convert {\n",
              "      background-color: #3B4455;\n",
              "      fill: #D2E3FC;\n",
              "    }\n",
              "\n",
              "    [theme=dark] .colab-df-convert:hover {\n",
              "      background-color: #434B5C;\n",
              "      box-shadow: 0px 1px 3px 1px rgba(0, 0, 0, 0.15);\n",
              "      filter: drop-shadow(0px 1px 2px rgba(0, 0, 0, 0.3));\n",
              "      fill: #FFFFFF;\n",
              "    }\n",
              "  </style>\n",
              "\n",
              "      <script>\n",
              "        const buttonEl =\n",
              "          document.querySelector('#df-cde836f5-bb34-446e-8f43-e3f05d4bae82 button.colab-df-convert');\n",
              "        buttonEl.style.display =\n",
              "          google.colab.kernel.accessAllowed ? 'block' : 'none';\n",
              "\n",
              "        async function convertToInteractive(key) {\n",
              "          const element = document.querySelector('#df-cde836f5-bb34-446e-8f43-e3f05d4bae82');\n",
              "          const dataTable =\n",
              "            await google.colab.kernel.invokeFunction('convertToInteractive',\n",
              "                                                     [key], {});\n",
              "          if (!dataTable) return;\n",
              "\n",
              "          const docLinkHtml = 'Like what you see? Visit the ' +\n",
              "            '<a target=\"_blank\" href=https://colab.research.google.com/notebooks/data_table.ipynb>data table notebook</a>'\n",
              "            + ' to learn more about interactive tables.';\n",
              "          element.innerHTML = '';\n",
              "          dataTable['output_type'] = 'display_data';\n",
              "          await google.colab.output.renderOutput(dataTable, element);\n",
              "          const docLink = document.createElement('div');\n",
              "          docLink.innerHTML = docLinkHtml;\n",
              "          element.appendChild(docLink);\n",
              "        }\n",
              "      </script>\n",
              "    </div>\n",
              "  </div>\n",
              "  "
            ]
          },
          "metadata": {},
          "execution_count": 8
        }
      ]
    },
    {
      "cell_type": "code",
      "source": [
        "### Number of files in each folder (Test)\n",
        "\n",
        "# import required module\n",
        "import os\n",
        "# assign directory\n",
        "directory = '/content/20news-bydate-test'\n",
        "\n",
        "sum =0\n",
        "d =[]\n",
        "\n",
        "# iterate over files in\n",
        "# that directory\n",
        "for filename in os.listdir(directory):\n",
        "  f = os.path.join(directory, filename)\n",
        "  file_count =len(os.listdir(f))\n",
        "  sum = sum + file_count\n",
        "  #print(filename, file_count)\n",
        "  \n",
        "  d.append(\n",
        "        {\n",
        "            'filename': filename,\n",
        "            '(Testing) file_count': file_count\n",
        "        }\n",
        "  )\n",
        "        \n",
        "\n",
        "### Find Mean number of files\n",
        "print(\"Testing set - total number files\",sum)\n",
        "mean = sum//20\n",
        "print(\"Testing set - mean number of files:\" ,mean )\n"
      ],
      "metadata": {
        "colab": {
          "base_uri": "https://localhost:8080/"
        },
        "id": "-UkPAB73O2D5",
        "outputId": "089ce544-58b4-4a62-aef3-3a5b0c93f867"
      },
      "execution_count": 9,
      "outputs": [
        {
          "output_type": "stream",
          "name": "stdout",
          "text": [
            "Testing set - total number files 7532\n",
            "Testing set - mean number of files: 376\n"
          ]
        }
      ]
    },
    {
      "cell_type": "markdown",
      "source": [
        "most common words"
      ],
      "metadata": {
        "id": "tMFhcDXxPR48"
      }
    },
    {
      "cell_type": "code",
      "source": [
        "directory = [file for file in os.listdir('/content/20news-bydate-train') if not file.startswith('.')]\n"
      ],
      "metadata": {
        "id": "39vpI9r6O2AR"
      },
      "execution_count": 10,
      "outputs": []
    },
    {
      "cell_type": "code",
      "source": [
        "# most common words in all data - un-processed\n",
        "\n",
        "from collections import Counter\n",
        "## REFERENCE: https://colab.research.google.com/github/wikiabhi/Text-Classification/blob/master/Text_Classification.ipynb#scrollTo=qwAtJby3vPKK\n",
        "\n",
        "# Create a dictionary of words with their frequency\n",
        "vocab = {}\n",
        "for i in range(len(directory)):\n",
        "    ##Create a list of files in dictionary \n",
        "    files = os.listdir('/content/20news-bydate-train/' + directory[i])\n",
        " \n",
        "    for j in range(len(files)):\n",
        "        ##Path of each file \n",
        "        path = '/content/20news-bydate-train/' + directory[i] + '/' + files[j]\n",
        "        \n",
        "        ##open the file and read it\n",
        "        text = open(path, 'r', errors='ignore').read()\n",
        "        \n",
        "        for word in text.split():\n",
        "            if len(word) != 1: \n",
        "                  if vocab.get(word.lower()) != None:\n",
        "                      vocab[word.lower()] += 1\n",
        "\n",
        "                      ##If word is not in dictionary then we put that word in our dictinary by making its frequnecy 1\n",
        "                  else:\n",
        "                      vocab[word.lower()] = 1\n",
        "            \n",
        "#vocab\n",
        "\n",
        "d = Counter(vocab)\n",
        "most_common_words = d.most_common(5)\n",
        "most_common_words_dict = dict(d)\n"
      ],
      "metadata": {
        "id": "8kAwBHM0O18e"
      },
      "execution_count": 16,
      "outputs": []
    },
    {
      "cell_type": "code",
      "source": [
        "most_common_words"
      ],
      "metadata": {
        "colab": {
          "base_uri": "https://localhost:8080/"
        },
        "id": "M6HJjCfvPhN6",
        "outputId": "39b32a5b-1bed-4597-9fb8-8e3c6a328dfc"
      },
      "execution_count": 15,
      "outputs": [
        {
          "output_type": "execute_result",
          "data": {
            "text/plain": [
              "[('the', 142664), ('to', 71025), ('of', 67929), ('and', 55394), ('in', 45907)]"
            ]
          },
          "metadata": {},
          "execution_count": 15
        }
      ]
    },
    {
      "cell_type": "markdown",
      "source": [
        "as expected these are stop words"
      ],
      "metadata": {
        "id": "Jv3iqqnKQXER"
      }
    },
    {
      "cell_type": "code",
      "source": [
        "## most common words by category"
      ],
      "metadata": {
        "id": "vMv3u1qRQZ4R"
      },
      "execution_count": null,
      "outputs": []
    },
    {
      "cell_type": "markdown",
      "source": [
        ""
      ],
      "metadata": {
        "id": "UO039TdxPfam"
      }
    }
  ]
}