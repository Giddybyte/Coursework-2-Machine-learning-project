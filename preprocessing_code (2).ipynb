{
  "cells": [
    {
      "cell_type": "markdown",
      "metadata": {
        "id": "074718ea"
      },
      "source": [
        "# Import libraries"
      ]
    },
    {
      "cell_type": "code",
      "execution_count": 52,
      "metadata": {
        "colab": {
          "base_uri": "https://localhost:8080/"
        },
        "id": "9fe589fc",
        "outputId": "75da6341-eb14-47e5-83b8-3fc42061a32d"
      },
      "outputs": [
        {
          "output_type": "stream",
          "name": "stdout",
          "text": [
            "[nltk_data] Downloading package stopwords to /root/nltk_data...\n",
            "[nltk_data]   Package stopwords is already up-to-date!\n",
            "[nltk_data] Downloading package wordnet to /root/nltk_data...\n",
            "[nltk_data]   Package wordnet is already up-to-date!\n"
          ]
        },
        {
          "output_type": "execute_result",
          "data": {
            "text/plain": [
              "True"
            ]
          },
          "metadata": {},
          "execution_count": 52
        }
      ],
      "source": [
        "import os\n",
        "import pandas as pd\n",
        "import numpy as np\n",
        "import collections\n",
        "import re\n",
        "import string\n",
        "import matplotlib.pyplot as plt\n",
        "from nltk.corpus import stopwords\n",
        "from gensim.models.doc2vec import Doc2Vec, TaggedDocument\n",
        "from gensim.test.utils import get_tmpfile\n",
        "from nltk.stem import WordNetLemmatizer\n",
        "import nltk\n",
        "from sklearn.model_selection import train_test_split\n",
        "nltk.download('stopwords')\n",
        "nltk.download('wordnet')"
      ]
    },
    {
      "cell_type": "markdown",
      "metadata": {
        "id": "StcGasMZuwXQ"
      },
      "source": [
        "nltk and gensim are two famous libraries that are used in Natural Language Processing (NLP). nltk library has been used to get the stop words of English language and to lemmatize words. Also gensim library has been used to load the Doc2vec model"
      ]
    },
    {
      "cell_type": "code",
      "execution_count": 53,
      "metadata": {
        "colab": {
          "base_uri": "https://localhost:8080/"
        },
        "id": "x0RpfabEdewH",
        "outputId": "269bf65a-4956-4e7a-a1a1-d6ae30293799"
      },
      "outputs": [
        {
          "output_type": "stream",
          "name": "stdout",
          "text": [
            "Drive already mounted at /content/drive; to attempt to forcibly remount, call drive.mount(\"/content/drive\", force_remount=True).\n"
          ]
        }
      ],
      "source": [
        "from google.colab import drive\n",
        "drive.mount('/content/drive')"
      ]
    },
    {
      "cell_type": "code",
      "execution_count": 54,
      "metadata": {
        "id": "Q6JZ4NVKdjRe"
      },
      "outputs": [],
      "source": [
        "proj_dir='/content/drive/MyDrive/Colab Notebooks/doc2vec/' #give your project directory here. data sets should be in this location"
      ]
    },
    {
      "cell_type": "markdown",
      "metadata": {
        "id": "f6875224"
      },
      "source": [
        "# Load and clean the data"
      ]
    },
    {
      "cell_type": "markdown",
      "metadata": {
        "id": "a7345380"
      },
      "source": [
        "before converting into vectors text should be cleaned.\n",
        "\n",
        "* Lower the english latters\n",
        "* Remove headers\n",
        "* Drop all digits\n",
        "* Remove URLs and Emails\n",
        "* Drop all punctuation from our text\n",
        "* Drop stop words\n",
        "* Lemmatize words\n"
      ]
    },
    {
      "cell_type": "markdown",
      "metadata": {
        "id": "cU1xKL982Jt3"
      },
      "source": [
        "first, we convert all the letters into lowercase letters in order to avoid duplicating the same word ('Dog' and 'dog' are the same words. but the program will take these as two words. Hence we convert 'Dog' as 'dog' by doing letters lowercase)"
      ]
    },
    {
      "cell_type": "markdown",
      "metadata": {
        "id": "VCSbcZAx2J0N"
      },
      "source": [
        "After that we drop all the headers and numbers.Because headers are unwanted data and numbers don't have any meaning when we take them as a single word."
      ]
    },
    {
      "cell_type": "markdown",
      "metadata": {
        "id": "MkQTCdcm2Q1H"
      },
      "source": [
        "if any word contains '@','.com' or 'http' we drop those words. also we remove all punctuations and stop words. The words which are generally filtered out before processing a natural language are called stop words. These are actually the most common words such as “the”, “a”, “an”, “so”, “what” in English language. By removing these words, we remove the low-level information from our text in order to give more focus to the important information."
      ]
    },
    {
      "cell_type": "markdown",
      "metadata": {
        "id": "X29HHeUe2WZ9"
      },
      "source": [
        "finally we lemmatize words. Lemmatization is the process wherein the context is used to convert a word to its meaningful base or root form. ex:- driving--> drive , dogs-->dog. To perform Lemmatization with Natural Language Tool Kit (NLTK), “WordNetLemmatizer()” method has been used"
      ]
    },
    {
      "cell_type": "code",
      "execution_count": 55,
      "metadata": {
        "id": "e109337d"
      },
      "outputs": [],
      "source": [
        "'''this function is used to read text files.'''\n",
        "def read_txt_file(file_name):\n",
        "    with open(file_name,encoding=\"utf8\", errors='ignore') as f:\n",
        "        ###extract the boady of the text###\n",
        "        line = f.readline()\n",
        "        txt=''\n",
        "        txt=txt+' '+line\n",
        "        while line:\n",
        "            line = f.readline()\n",
        "            txt=txt+' '+line\n",
        "        ###################################\n",
        "    f.close()\n",
        "    return(txt)"
      ]
    },
    {
      "cell_type": "code",
      "execution_count": 56,
      "metadata": {
        "id": "19a41917"
      },
      "outputs": [],
      "source": [
        "stop_words=set(stopwords.words('english'))#load stop words\n",
        "punctuations=string.punctuation #get punctuations\n",
        "lemmatizer = WordNetLemmatizer()\n",
        "'''this function is used to clean text'''\n",
        "def clean_txt(txt):\n",
        "    txt=txt.lower() #set all characters to lowercase\n",
        "    sentences=txt.split('\\n')\n",
        "    txt = ' '.join([i for i in sentences if not ':' in i])#remove headers\n",
        "    txt = ''.join([i for i in txt if not i.isdigit()])#remove numbers\n",
        "\n",
        "    ###remove urls and emails###\n",
        "    words=txt.split()\n",
        "    txt = ' '.join([i for i in words if not '@' in i and not '.com' in i and not  'http:' in i])\n",
        "    #######################################\n",
        "\n",
        "    ###remove punctuations###\n",
        "    for character in punctuations:\n",
        "        txt = txt.replace(character, '')\n",
        "    #########################################\n",
        "    \n",
        "    ###remove stop words and lemmatize###\n",
        "    words=txt.split()\n",
        "    filtered_txt = ' '.join([lemmatizer.lemmatize(i) for i in words if not i in stop_words])\n",
        "    #####################################\n",
        "    \n",
        "    return(filtered_txt)"
      ]
    },
    {
      "cell_type": "code",
      "execution_count": 57,
      "metadata": {
        "id": "95c8ac31"
      },
      "outputs": [],
      "source": [
        "def load_and_clean_data(location):    \n",
        "    y=os.listdir(location)#get the list of folder\n",
        "    txts=[]\n",
        "    txts_cleaned=[]\n",
        "    folder_array=[]\n",
        "    file_array=[]\n",
        "    for i in range(len(y)):\n",
        "        text_file_names=os.listdir(location+'/'+y[i]) #get the list of files\n",
        "        for text_file_name in text_file_names:\n",
        "                file_array.append(text_file_name)\n",
        "                txt=read_txt_file(location+'/'+y[i]+'/'+text_file_name) #read the text file\n",
        "                txts.append(txt)\n",
        "                txts_cleaned.append(clean_txt(txt)) #clean the text\n",
        "                folder_array.append(y[i])\n",
        "\n",
        "    ###create a data frame###\n",
        "    df=pd.DataFrame()\n",
        "    df['texts']=txts\n",
        "    df['text cleaned']=txts_cleaned\n",
        "    df['folder name']=folder_array\n",
        "    df['file name']=file_array\n",
        "    ########################\n",
        "    return (df)\n",
        "\n"
      ]
    },
    {
      "cell_type": "code",
      "execution_count": 58,
      "metadata": {
        "id": "179438fd"
      },
      "outputs": [],
      "source": [
        "df_train=load_and_clean_data(proj_dir+'20news-bydate-train')\n",
        "df_test=load_and_clean_data(proj_dir+'20news-bydate-test')"
      ]
    },
    {
      "cell_type": "code",
      "execution_count": 59,
      "metadata": {
        "id": "dfa1b61d",
        "colab": {
          "base_uri": "https://localhost:8080/",
          "height": 0
        },
        "outputId": "575a5c76-c591-46cc-c2ca-1b501d878623"
      },
      "outputs": [
        {
          "output_type": "execute_result",
          "data": {
            "text/plain": [
              "                                               texts  \\\n",
              "0   Subject: MIT R5 on Sun with Rasterops TC Colo...   \n",
              "1   Subject: Automated X testing\\n From: mark@tri...   \n",
              "2   Subject: Re: Trouble compiling X11R5 on SunOS...   \n",
              "3   Organization: Ministry of Education, Computer...   \n",
              "4   To: gnu-gdb-bug@gatech.edu\\n Distribution: wo...   \n",
              "\n",
              "                                        text cleaned     folder name file name  \n",
              "0  possible run mit r based xserver sun rasterops...  comp.windows.x     66939  \n",
              "1  anyone know available term automated testing x...  comp.windows.x     67117  \n",
              "2  ive trying compile xr patchlevel sun sparc ipx...  comp.windows.x     66947  \n",
              "3  hp workstation us pseudocolor id x color defau...  comp.windows.x     67279  \n",
              "4  hi trying write xwindows based interface run t...  comp.windows.x     67410  "
            ],
            "text/html": [
              "\n",
              "  <div id=\"df-4e308629-2064-4a4f-b88a-d5c2c8befdcf\">\n",
              "    <div class=\"colab-df-container\">\n",
              "      <div>\n",
              "<style scoped>\n",
              "    .dataframe tbody tr th:only-of-type {\n",
              "        vertical-align: middle;\n",
              "    }\n",
              "\n",
              "    .dataframe tbody tr th {\n",
              "        vertical-align: top;\n",
              "    }\n",
              "\n",
              "    .dataframe thead th {\n",
              "        text-align: right;\n",
              "    }\n",
              "</style>\n",
              "<table border=\"1\" class=\"dataframe\">\n",
              "  <thead>\n",
              "    <tr style=\"text-align: right;\">\n",
              "      <th></th>\n",
              "      <th>texts</th>\n",
              "      <th>text cleaned</th>\n",
              "      <th>folder name</th>\n",
              "      <th>file name</th>\n",
              "    </tr>\n",
              "  </thead>\n",
              "  <tbody>\n",
              "    <tr>\n",
              "      <th>0</th>\n",
              "      <td>Subject: MIT R5 on Sun with Rasterops TC Colo...</td>\n",
              "      <td>possible run mit r based xserver sun rasterops...</td>\n",
              "      <td>comp.windows.x</td>\n",
              "      <td>66939</td>\n",
              "    </tr>\n",
              "    <tr>\n",
              "      <th>1</th>\n",
              "      <td>Subject: Automated X testing\\n From: mark@tri...</td>\n",
              "      <td>anyone know available term automated testing x...</td>\n",
              "      <td>comp.windows.x</td>\n",
              "      <td>67117</td>\n",
              "    </tr>\n",
              "    <tr>\n",
              "      <th>2</th>\n",
              "      <td>Subject: Re: Trouble compiling X11R5 on SunOS...</td>\n",
              "      <td>ive trying compile xr patchlevel sun sparc ipx...</td>\n",
              "      <td>comp.windows.x</td>\n",
              "      <td>66947</td>\n",
              "    </tr>\n",
              "    <tr>\n",
              "      <th>3</th>\n",
              "      <td>Organization: Ministry of Education, Computer...</td>\n",
              "      <td>hp workstation us pseudocolor id x color defau...</td>\n",
              "      <td>comp.windows.x</td>\n",
              "      <td>67279</td>\n",
              "    </tr>\n",
              "    <tr>\n",
              "      <th>4</th>\n",
              "      <td>To: gnu-gdb-bug@gatech.edu\\n Distribution: wo...</td>\n",
              "      <td>hi trying write xwindows based interface run t...</td>\n",
              "      <td>comp.windows.x</td>\n",
              "      <td>67410</td>\n",
              "    </tr>\n",
              "  </tbody>\n",
              "</table>\n",
              "</div>\n",
              "      <button class=\"colab-df-convert\" onclick=\"convertToInteractive('df-4e308629-2064-4a4f-b88a-d5c2c8befdcf')\"\n",
              "              title=\"Convert this dataframe to an interactive table.\"\n",
              "              style=\"display:none;\">\n",
              "        \n",
              "  <svg xmlns=\"http://www.w3.org/2000/svg\" height=\"24px\"viewBox=\"0 0 24 24\"\n",
              "       width=\"24px\">\n",
              "    <path d=\"M0 0h24v24H0V0z\" fill=\"none\"/>\n",
              "    <path d=\"M18.56 5.44l.94 2.06.94-2.06 2.06-.94-2.06-.94-.94-2.06-.94 2.06-2.06.94zm-11 1L8.5 8.5l.94-2.06 2.06-.94-2.06-.94L8.5 2.5l-.94 2.06-2.06.94zm10 10l.94 2.06.94-2.06 2.06-.94-2.06-.94-.94-2.06-.94 2.06-2.06.94z\"/><path d=\"M17.41 7.96l-1.37-1.37c-.4-.4-.92-.59-1.43-.59-.52 0-1.04.2-1.43.59L10.3 9.45l-7.72 7.72c-.78.78-.78 2.05 0 2.83L4 21.41c.39.39.9.59 1.41.59.51 0 1.02-.2 1.41-.59l7.78-7.78 2.81-2.81c.8-.78.8-2.07 0-2.86zM5.41 20L4 18.59l7.72-7.72 1.47 1.35L5.41 20z\"/>\n",
              "  </svg>\n",
              "      </button>\n",
              "      \n",
              "  <style>\n",
              "    .colab-df-container {\n",
              "      display:flex;\n",
              "      flex-wrap:wrap;\n",
              "      gap: 12px;\n",
              "    }\n",
              "\n",
              "    .colab-df-convert {\n",
              "      background-color: #E8F0FE;\n",
              "      border: none;\n",
              "      border-radius: 50%;\n",
              "      cursor: pointer;\n",
              "      display: none;\n",
              "      fill: #1967D2;\n",
              "      height: 32px;\n",
              "      padding: 0 0 0 0;\n",
              "      width: 32px;\n",
              "    }\n",
              "\n",
              "    .colab-df-convert:hover {\n",
              "      background-color: #E2EBFA;\n",
              "      box-shadow: 0px 1px 2px rgba(60, 64, 67, 0.3), 0px 1px 3px 1px rgba(60, 64, 67, 0.15);\n",
              "      fill: #174EA6;\n",
              "    }\n",
              "\n",
              "    [theme=dark] .colab-df-convert {\n",
              "      background-color: #3B4455;\n",
              "      fill: #D2E3FC;\n",
              "    }\n",
              "\n",
              "    [theme=dark] .colab-df-convert:hover {\n",
              "      background-color: #434B5C;\n",
              "      box-shadow: 0px 1px 3px 1px rgba(0, 0, 0, 0.15);\n",
              "      filter: drop-shadow(0px 1px 2px rgba(0, 0, 0, 0.3));\n",
              "      fill: #FFFFFF;\n",
              "    }\n",
              "  </style>\n",
              "\n",
              "      <script>\n",
              "        const buttonEl =\n",
              "          document.querySelector('#df-4e308629-2064-4a4f-b88a-d5c2c8befdcf button.colab-df-convert');\n",
              "        buttonEl.style.display =\n",
              "          google.colab.kernel.accessAllowed ? 'block' : 'none';\n",
              "\n",
              "        async function convertToInteractive(key) {\n",
              "          const element = document.querySelector('#df-4e308629-2064-4a4f-b88a-d5c2c8befdcf');\n",
              "          const dataTable =\n",
              "            await google.colab.kernel.invokeFunction('convertToInteractive',\n",
              "                                                     [key], {});\n",
              "          if (!dataTable) return;\n",
              "\n",
              "          const docLinkHtml = 'Like what you see? Visit the ' +\n",
              "            '<a target=\"_blank\" href=https://colab.research.google.com/notebooks/data_table.ipynb>data table notebook</a>'\n",
              "            + ' to learn more about interactive tables.';\n",
              "          element.innerHTML = '';\n",
              "          dataTable['output_type'] = 'display_data';\n",
              "          await google.colab.output.renderOutput(dataTable, element);\n",
              "          const docLink = document.createElement('div');\n",
              "          docLink.innerHTML = docLinkHtml;\n",
              "          element.appendChild(docLink);\n",
              "        }\n",
              "      </script>\n",
              "    </div>\n",
              "  </div>\n",
              "  "
            ]
          },
          "metadata": {},
          "execution_count": 59
        }
      ],
      "source": [
        "df_train.head()"
      ]
    },
    {
      "cell_type": "code",
      "execution_count": 60,
      "metadata": {
        "id": "84a69f31",
        "colab": {
          "base_uri": "https://localhost:8080/",
          "height": 0
        },
        "outputId": "33f03985-52bc-4975-aeca-980da05bbd45"
      },
      "outputs": [
        {
          "output_type": "execute_result",
          "data": {
            "text/plain": [
              "                                               texts  \\\n",
              "0   Organization: University of Central Florida -...   \n",
              "1   Organization: Queen's University at Kingston\\...   \n",
              "2   Subject: Re: X on DOS or Windows\\n From: clee...   \n",
              "3   From: iop@server2.iie.ncku.edu.tw\\n Subject: ...   \n",
              "4   Subject: Re: Resource/Widget toolkit required...   \n",
              "\n",
              "                                        text cleaned     folder name  \\\n",
              "0  hello considering buying hummingbird xwindows ...  comp.windows.x   \n",
              "1  tn program support xterm dont like x cant copy...  comp.windows.x   \n",
              "2  im posting request since last one title im loo...  comp.windows.x   \n",
              "3  studying book unix desktop guide open look exa...  comp.windows.x   \n",
              "4  anyone know public domain toolkits creating xw...  comp.windows.x   \n",
              "\n",
              "   file name  \n",
              "0      67551  \n",
              "1      67566  \n",
              "2      68196  \n",
              "3  68332.eml  \n",
              "4      67972  "
            ],
            "text/html": [
              "\n",
              "  <div id=\"df-bc0c854e-0ee9-42b2-a1f3-3f92613c1e96\">\n",
              "    <div class=\"colab-df-container\">\n",
              "      <div>\n",
              "<style scoped>\n",
              "    .dataframe tbody tr th:only-of-type {\n",
              "        vertical-align: middle;\n",
              "    }\n",
              "\n",
              "    .dataframe tbody tr th {\n",
              "        vertical-align: top;\n",
              "    }\n",
              "\n",
              "    .dataframe thead th {\n",
              "        text-align: right;\n",
              "    }\n",
              "</style>\n",
              "<table border=\"1\" class=\"dataframe\">\n",
              "  <thead>\n",
              "    <tr style=\"text-align: right;\">\n",
              "      <th></th>\n",
              "      <th>texts</th>\n",
              "      <th>text cleaned</th>\n",
              "      <th>folder name</th>\n",
              "      <th>file name</th>\n",
              "    </tr>\n",
              "  </thead>\n",
              "  <tbody>\n",
              "    <tr>\n",
              "      <th>0</th>\n",
              "      <td>Organization: University of Central Florida -...</td>\n",
              "      <td>hello considering buying hummingbird xwindows ...</td>\n",
              "      <td>comp.windows.x</td>\n",
              "      <td>67551</td>\n",
              "    </tr>\n",
              "    <tr>\n",
              "      <th>1</th>\n",
              "      <td>Organization: Queen's University at Kingston\\...</td>\n",
              "      <td>tn program support xterm dont like x cant copy...</td>\n",
              "      <td>comp.windows.x</td>\n",
              "      <td>67566</td>\n",
              "    </tr>\n",
              "    <tr>\n",
              "      <th>2</th>\n",
              "      <td>Subject: Re: X on DOS or Windows\\n From: clee...</td>\n",
              "      <td>im posting request since last one title im loo...</td>\n",
              "      <td>comp.windows.x</td>\n",
              "      <td>68196</td>\n",
              "    </tr>\n",
              "    <tr>\n",
              "      <th>3</th>\n",
              "      <td>From: iop@server2.iie.ncku.edu.tw\\n Subject: ...</td>\n",
              "      <td>studying book unix desktop guide open look exa...</td>\n",
              "      <td>comp.windows.x</td>\n",
              "      <td>68332.eml</td>\n",
              "    </tr>\n",
              "    <tr>\n",
              "      <th>4</th>\n",
              "      <td>Subject: Re: Resource/Widget toolkit required...</td>\n",
              "      <td>anyone know public domain toolkits creating xw...</td>\n",
              "      <td>comp.windows.x</td>\n",
              "      <td>67972</td>\n",
              "    </tr>\n",
              "  </tbody>\n",
              "</table>\n",
              "</div>\n",
              "      <button class=\"colab-df-convert\" onclick=\"convertToInteractive('df-bc0c854e-0ee9-42b2-a1f3-3f92613c1e96')\"\n",
              "              title=\"Convert this dataframe to an interactive table.\"\n",
              "              style=\"display:none;\">\n",
              "        \n",
              "  <svg xmlns=\"http://www.w3.org/2000/svg\" height=\"24px\"viewBox=\"0 0 24 24\"\n",
              "       width=\"24px\">\n",
              "    <path d=\"M0 0h24v24H0V0z\" fill=\"none\"/>\n",
              "    <path d=\"M18.56 5.44l.94 2.06.94-2.06 2.06-.94-2.06-.94-.94-2.06-.94 2.06-2.06.94zm-11 1L8.5 8.5l.94-2.06 2.06-.94-2.06-.94L8.5 2.5l-.94 2.06-2.06.94zm10 10l.94 2.06.94-2.06 2.06-.94-2.06-.94-.94-2.06-.94 2.06-2.06.94z\"/><path d=\"M17.41 7.96l-1.37-1.37c-.4-.4-.92-.59-1.43-.59-.52 0-1.04.2-1.43.59L10.3 9.45l-7.72 7.72c-.78.78-.78 2.05 0 2.83L4 21.41c.39.39.9.59 1.41.59.51 0 1.02-.2 1.41-.59l7.78-7.78 2.81-2.81c.8-.78.8-2.07 0-2.86zM5.41 20L4 18.59l7.72-7.72 1.47 1.35L5.41 20z\"/>\n",
              "  </svg>\n",
              "      </button>\n",
              "      \n",
              "  <style>\n",
              "    .colab-df-container {\n",
              "      display:flex;\n",
              "      flex-wrap:wrap;\n",
              "      gap: 12px;\n",
              "    }\n",
              "\n",
              "    .colab-df-convert {\n",
              "      background-color: #E8F0FE;\n",
              "      border: none;\n",
              "      border-radius: 50%;\n",
              "      cursor: pointer;\n",
              "      display: none;\n",
              "      fill: #1967D2;\n",
              "      height: 32px;\n",
              "      padding: 0 0 0 0;\n",
              "      width: 32px;\n",
              "    }\n",
              "\n",
              "    .colab-df-convert:hover {\n",
              "      background-color: #E2EBFA;\n",
              "      box-shadow: 0px 1px 2px rgba(60, 64, 67, 0.3), 0px 1px 3px 1px rgba(60, 64, 67, 0.15);\n",
              "      fill: #174EA6;\n",
              "    }\n",
              "\n",
              "    [theme=dark] .colab-df-convert {\n",
              "      background-color: #3B4455;\n",
              "      fill: #D2E3FC;\n",
              "    }\n",
              "\n",
              "    [theme=dark] .colab-df-convert:hover {\n",
              "      background-color: #434B5C;\n",
              "      box-shadow: 0px 1px 3px 1px rgba(0, 0, 0, 0.15);\n",
              "      filter: drop-shadow(0px 1px 2px rgba(0, 0, 0, 0.3));\n",
              "      fill: #FFFFFF;\n",
              "    }\n",
              "  </style>\n",
              "\n",
              "      <script>\n",
              "        const buttonEl =\n",
              "          document.querySelector('#df-bc0c854e-0ee9-42b2-a1f3-3f92613c1e96 button.colab-df-convert');\n",
              "        buttonEl.style.display =\n",
              "          google.colab.kernel.accessAllowed ? 'block' : 'none';\n",
              "\n",
              "        async function convertToInteractive(key) {\n",
              "          const element = document.querySelector('#df-bc0c854e-0ee9-42b2-a1f3-3f92613c1e96');\n",
              "          const dataTable =\n",
              "            await google.colab.kernel.invokeFunction('convertToInteractive',\n",
              "                                                     [key], {});\n",
              "          if (!dataTable) return;\n",
              "\n",
              "          const docLinkHtml = 'Like what you see? Visit the ' +\n",
              "            '<a target=\"_blank\" href=https://colab.research.google.com/notebooks/data_table.ipynb>data table notebook</a>'\n",
              "            + ' to learn more about interactive tables.';\n",
              "          element.innerHTML = '';\n",
              "          dataTable['output_type'] = 'display_data';\n",
              "          await google.colab.output.renderOutput(dataTable, element);\n",
              "          const docLink = document.createElement('div');\n",
              "          docLink.innerHTML = docLinkHtml;\n",
              "          element.appendChild(docLink);\n",
              "        }\n",
              "      </script>\n",
              "    </div>\n",
              "  </div>\n",
              "  "
            ]
          },
          "metadata": {},
          "execution_count": 60
        }
      ],
      "source": [
        "df_test.head()"
      ]
    },
    {
      "cell_type": "markdown",
      "metadata": {
        "id": "b0c3a105"
      },
      "source": [
        "# Convert to vectors"
      ]
    },
    {
      "cell_type": "markdown",
      "metadata": {
        "id": "f974967b"
      },
      "source": [
        "document is tokenized into words and applied doc2vec model. doc2vec is a method to represent list of words using a vector. it is used to create a vectorised representation of a group of words taken collectively as a single unit.In gensim the model will always be trained on a word per word basis. Therefore  we split the document into an array of words using split(). In order to train the model, tagged documents are needed. it can be created by using models.doc2vec.TaggedDcument(). then finally we train the doc2vec model"
      ]
    },
    {
      "cell_type": "code",
      "execution_count": 61,
      "metadata": {
        "id": "56b11ddb"
      },
      "outputs": [],
      "source": [
        "'''this function is used to do tokenization'''\n",
        "def tokenizer(txt):  \n",
        "    tokens=txt.split(' ')\n",
        "    unique_tokens=np.unique(np.array(tokens)) #get unique tokens\n",
        "    ###create a dictonary of tokens###\n",
        "    tokens_dict={}\n",
        "    for indx in range(len(unique_tokens)):\n",
        "        tokens_dict[unique_tokens[indx]]=indx\n",
        "    return(tokens_dict,tokens)"
      ]
    },
    {
      "cell_type": "code",
      "execution_count": 62,
      "metadata": {
        "id": "f5543b28"
      },
      "outputs": [],
      "source": [
        "#tokanize train and test data\n",
        "words_list=[]\n",
        "for i in range(len(df_train)):\n",
        "    _,words=tokenizer(df_train['text cleaned'][i]) \n",
        "    words_list.append(words)\n",
        "for i in range(len(df_test)):\n",
        "    _,words=tokenizer(df_test['text cleaned'][i])\n",
        "    words_list.append(words)\n",
        "####################################"
      ]
    },
    {
      "cell_type": "code",
      "execution_count": 63,
      "metadata": {
        "id": "d8f42138"
      },
      "outputs": [],
      "source": [
        "documents = [TaggedDocument(doc, [i]) for i, doc in enumerate(words_list)]\n",
        "model = Doc2Vec(vector_size=40, min_count=2, epochs=30) #fit the Doc2Vec model\n",
        "model.build_vocab(documents)\n",
        "model.train(documents, total_examples=model.corpus_count, epochs=model.epochs)"
      ]
    },
    {
      "cell_type": "code",
      "execution_count": 64,
      "metadata": {
        "id": "0ab99bf3"
      },
      "outputs": [],
      "source": [
        "###get train vectors##\n",
        "train_vectors=[]\n",
        "for i in range(len(df_train)):\n",
        "    train_vectors.append(model.infer_vector(list(df_train['text cleaned'][i].split(' '))))\n",
        "##########################"
      ]
    },
    {
      "cell_type": "code",
      "execution_count": 65,
      "metadata": {
        "id": "680576d1"
      },
      "outputs": [],
      "source": [
        "##get test vectors##\n",
        "test_vectors=[]\n",
        "for i in range(len(df_test)):\n",
        "    test_vectors.append(model.infer_vector(list(df_test['text cleaned'][i].split(' '))))\n",
        "############################"
      ]
    },
    {
      "cell_type": "code",
      "execution_count": 66,
      "metadata": {
        "id": "2a6b46f4"
      },
      "outputs": [],
      "source": [
        "train=pd.DataFrame(train_vectors)\n",
        "train['folder name']=df_train['folder name']\n",
        "train['file name']=df_train['file name']\n",
        "test=pd.DataFrame(test_vectors)\n",
        "test['folder name']=df_test['folder name']\n",
        "test['file name']=df_test['file name']"
      ]
    },
    {
      "cell_type": "code",
      "execution_count": 67,
      "metadata": {
        "colab": {
          "base_uri": "https://localhost:8080/",
          "height": 317
        },
        "id": "fde2eb19",
        "outputId": "ce3ee138-fc3e-4b74-9c5e-1a73efc2013e"
      },
      "outputs": [
        {
          "output_type": "execute_result",
          "data": {
            "text/plain": [
              "          0         1         2         3         4         5         6  \\\n",
              "0 -0.622870  0.289748  0.495919 -1.069252 -0.034112  0.552962  0.353910   \n",
              "1  0.164163 -0.022682  0.333819 -0.883436 -0.064041 -0.857318  0.162251   \n",
              "2 -0.207095  0.174121  0.450752 -0.630690 -0.566343 -0.463474  0.050540   \n",
              "3 -0.025804  0.177982  0.315665 -0.223793 -0.107522 -0.161487  0.164126   \n",
              "4  0.260837  0.178570  1.174410 -0.799462  0.050685 -0.866610  1.742643   \n",
              "\n",
              "          7         8         9  ...        32        33        34        35  \\\n",
              "0 -0.671458 -0.912110  0.389253  ...  0.343034  0.056955  0.227939  0.432732   \n",
              "1 -0.666435 -1.964487  1.041202  ...  0.288365 -0.597878  0.848333 -0.543047   \n",
              "2 -1.047358 -0.600848  0.801931  ...  0.574550  0.161985  0.811542  0.050202   \n",
              "3 -0.150820 -0.336872  0.317350  ...  0.128152 -0.004711 -0.101132 -0.002399   \n",
              "4 -0.822288 -1.787997  0.070991  ...  0.253229 -0.854003 -0.213084 -0.419072   \n",
              "\n",
              "         36        37        38        39     folder name  file name  \n",
              "0 -0.078578 -0.464599 -1.164689 -0.088241  comp.windows.x      66939  \n",
              "1 -0.909688 -0.324135 -1.517905 -0.997492  comp.windows.x      67117  \n",
              "2 -0.084085 -0.482416 -0.298192 -0.112851  comp.windows.x      66947  \n",
              "3 -0.642972 -0.295908 -0.548625 -0.526532  comp.windows.x      67279  \n",
              "4 -0.468233 -2.216155 -1.302286 -0.448326  comp.windows.x      67410  \n",
              "\n",
              "[5 rows x 42 columns]"
            ],
            "text/html": [
              "\n",
              "  <div id=\"df-45855631-35f8-40ac-afd0-ab3061fe5056\">\n",
              "    <div class=\"colab-df-container\">\n",
              "      <div>\n",
              "<style scoped>\n",
              "    .dataframe tbody tr th:only-of-type {\n",
              "        vertical-align: middle;\n",
              "    }\n",
              "\n",
              "    .dataframe tbody tr th {\n",
              "        vertical-align: top;\n",
              "    }\n",
              "\n",
              "    .dataframe thead th {\n",
              "        text-align: right;\n",
              "    }\n",
              "</style>\n",
              "<table border=\"1\" class=\"dataframe\">\n",
              "  <thead>\n",
              "    <tr style=\"text-align: right;\">\n",
              "      <th></th>\n",
              "      <th>0</th>\n",
              "      <th>1</th>\n",
              "      <th>2</th>\n",
              "      <th>3</th>\n",
              "      <th>4</th>\n",
              "      <th>5</th>\n",
              "      <th>6</th>\n",
              "      <th>7</th>\n",
              "      <th>8</th>\n",
              "      <th>9</th>\n",
              "      <th>...</th>\n",
              "      <th>32</th>\n",
              "      <th>33</th>\n",
              "      <th>34</th>\n",
              "      <th>35</th>\n",
              "      <th>36</th>\n",
              "      <th>37</th>\n",
              "      <th>38</th>\n",
              "      <th>39</th>\n",
              "      <th>folder name</th>\n",
              "      <th>file name</th>\n",
              "    </tr>\n",
              "  </thead>\n",
              "  <tbody>\n",
              "    <tr>\n",
              "      <th>0</th>\n",
              "      <td>-0.622870</td>\n",
              "      <td>0.289748</td>\n",
              "      <td>0.495919</td>\n",
              "      <td>-1.069252</td>\n",
              "      <td>-0.034112</td>\n",
              "      <td>0.552962</td>\n",
              "      <td>0.353910</td>\n",
              "      <td>-0.671458</td>\n",
              "      <td>-0.912110</td>\n",
              "      <td>0.389253</td>\n",
              "      <td>...</td>\n",
              "      <td>0.343034</td>\n",
              "      <td>0.056955</td>\n",
              "      <td>0.227939</td>\n",
              "      <td>0.432732</td>\n",
              "      <td>-0.078578</td>\n",
              "      <td>-0.464599</td>\n",
              "      <td>-1.164689</td>\n",
              "      <td>-0.088241</td>\n",
              "      <td>comp.windows.x</td>\n",
              "      <td>66939</td>\n",
              "    </tr>\n",
              "    <tr>\n",
              "      <th>1</th>\n",
              "      <td>0.164163</td>\n",
              "      <td>-0.022682</td>\n",
              "      <td>0.333819</td>\n",
              "      <td>-0.883436</td>\n",
              "      <td>-0.064041</td>\n",
              "      <td>-0.857318</td>\n",
              "      <td>0.162251</td>\n",
              "      <td>-0.666435</td>\n",
              "      <td>-1.964487</td>\n",
              "      <td>1.041202</td>\n",
              "      <td>...</td>\n",
              "      <td>0.288365</td>\n",
              "      <td>-0.597878</td>\n",
              "      <td>0.848333</td>\n",
              "      <td>-0.543047</td>\n",
              "      <td>-0.909688</td>\n",
              "      <td>-0.324135</td>\n",
              "      <td>-1.517905</td>\n",
              "      <td>-0.997492</td>\n",
              "      <td>comp.windows.x</td>\n",
              "      <td>67117</td>\n",
              "    </tr>\n",
              "    <tr>\n",
              "      <th>2</th>\n",
              "      <td>-0.207095</td>\n",
              "      <td>0.174121</td>\n",
              "      <td>0.450752</td>\n",
              "      <td>-0.630690</td>\n",
              "      <td>-0.566343</td>\n",
              "      <td>-0.463474</td>\n",
              "      <td>0.050540</td>\n",
              "      <td>-1.047358</td>\n",
              "      <td>-0.600848</td>\n",
              "      <td>0.801931</td>\n",
              "      <td>...</td>\n",
              "      <td>0.574550</td>\n",
              "      <td>0.161985</td>\n",
              "      <td>0.811542</td>\n",
              "      <td>0.050202</td>\n",
              "      <td>-0.084085</td>\n",
              "      <td>-0.482416</td>\n",
              "      <td>-0.298192</td>\n",
              "      <td>-0.112851</td>\n",
              "      <td>comp.windows.x</td>\n",
              "      <td>66947</td>\n",
              "    </tr>\n",
              "    <tr>\n",
              "      <th>3</th>\n",
              "      <td>-0.025804</td>\n",
              "      <td>0.177982</td>\n",
              "      <td>0.315665</td>\n",
              "      <td>-0.223793</td>\n",
              "      <td>-0.107522</td>\n",
              "      <td>-0.161487</td>\n",
              "      <td>0.164126</td>\n",
              "      <td>-0.150820</td>\n",
              "      <td>-0.336872</td>\n",
              "      <td>0.317350</td>\n",
              "      <td>...</td>\n",
              "      <td>0.128152</td>\n",
              "      <td>-0.004711</td>\n",
              "      <td>-0.101132</td>\n",
              "      <td>-0.002399</td>\n",
              "      <td>-0.642972</td>\n",
              "      <td>-0.295908</td>\n",
              "      <td>-0.548625</td>\n",
              "      <td>-0.526532</td>\n",
              "      <td>comp.windows.x</td>\n",
              "      <td>67279</td>\n",
              "    </tr>\n",
              "    <tr>\n",
              "      <th>4</th>\n",
              "      <td>0.260837</td>\n",
              "      <td>0.178570</td>\n",
              "      <td>1.174410</td>\n",
              "      <td>-0.799462</td>\n",
              "      <td>0.050685</td>\n",
              "      <td>-0.866610</td>\n",
              "      <td>1.742643</td>\n",
              "      <td>-0.822288</td>\n",
              "      <td>-1.787997</td>\n",
              "      <td>0.070991</td>\n",
              "      <td>...</td>\n",
              "      <td>0.253229</td>\n",
              "      <td>-0.854003</td>\n",
              "      <td>-0.213084</td>\n",
              "      <td>-0.419072</td>\n",
              "      <td>-0.468233</td>\n",
              "      <td>-2.216155</td>\n",
              "      <td>-1.302286</td>\n",
              "      <td>-0.448326</td>\n",
              "      <td>comp.windows.x</td>\n",
              "      <td>67410</td>\n",
              "    </tr>\n",
              "  </tbody>\n",
              "</table>\n",
              "<p>5 rows × 42 columns</p>\n",
              "</div>\n",
              "      <button class=\"colab-df-convert\" onclick=\"convertToInteractive('df-45855631-35f8-40ac-afd0-ab3061fe5056')\"\n",
              "              title=\"Convert this dataframe to an interactive table.\"\n",
              "              style=\"display:none;\">\n",
              "        \n",
              "  <svg xmlns=\"http://www.w3.org/2000/svg\" height=\"24px\"viewBox=\"0 0 24 24\"\n",
              "       width=\"24px\">\n",
              "    <path d=\"M0 0h24v24H0V0z\" fill=\"none\"/>\n",
              "    <path d=\"M18.56 5.44l.94 2.06.94-2.06 2.06-.94-2.06-.94-.94-2.06-.94 2.06-2.06.94zm-11 1L8.5 8.5l.94-2.06 2.06-.94-2.06-.94L8.5 2.5l-.94 2.06-2.06.94zm10 10l.94 2.06.94-2.06 2.06-.94-2.06-.94-.94-2.06-.94 2.06-2.06.94z\"/><path d=\"M17.41 7.96l-1.37-1.37c-.4-.4-.92-.59-1.43-.59-.52 0-1.04.2-1.43.59L10.3 9.45l-7.72 7.72c-.78.78-.78 2.05 0 2.83L4 21.41c.39.39.9.59 1.41.59.51 0 1.02-.2 1.41-.59l7.78-7.78 2.81-2.81c.8-.78.8-2.07 0-2.86zM5.41 20L4 18.59l7.72-7.72 1.47 1.35L5.41 20z\"/>\n",
              "  </svg>\n",
              "      </button>\n",
              "      \n",
              "  <style>\n",
              "    .colab-df-container {\n",
              "      display:flex;\n",
              "      flex-wrap:wrap;\n",
              "      gap: 12px;\n",
              "    }\n",
              "\n",
              "    .colab-df-convert {\n",
              "      background-color: #E8F0FE;\n",
              "      border: none;\n",
              "      border-radius: 50%;\n",
              "      cursor: pointer;\n",
              "      display: none;\n",
              "      fill: #1967D2;\n",
              "      height: 32px;\n",
              "      padding: 0 0 0 0;\n",
              "      width: 32px;\n",
              "    }\n",
              "\n",
              "    .colab-df-convert:hover {\n",
              "      background-color: #E2EBFA;\n",
              "      box-shadow: 0px 1px 2px rgba(60, 64, 67, 0.3), 0px 1px 3px 1px rgba(60, 64, 67, 0.15);\n",
              "      fill: #174EA6;\n",
              "    }\n",
              "\n",
              "    [theme=dark] .colab-df-convert {\n",
              "      background-color: #3B4455;\n",
              "      fill: #D2E3FC;\n",
              "    }\n",
              "\n",
              "    [theme=dark] .colab-df-convert:hover {\n",
              "      background-color: #434B5C;\n",
              "      box-shadow: 0px 1px 3px 1px rgba(0, 0, 0, 0.15);\n",
              "      filter: drop-shadow(0px 1px 2px rgba(0, 0, 0, 0.3));\n",
              "      fill: #FFFFFF;\n",
              "    }\n",
              "  </style>\n",
              "\n",
              "      <script>\n",
              "        const buttonEl =\n",
              "          document.querySelector('#df-45855631-35f8-40ac-afd0-ab3061fe5056 button.colab-df-convert');\n",
              "        buttonEl.style.display =\n",
              "          google.colab.kernel.accessAllowed ? 'block' : 'none';\n",
              "\n",
              "        async function convertToInteractive(key) {\n",
              "          const element = document.querySelector('#df-45855631-35f8-40ac-afd0-ab3061fe5056');\n",
              "          const dataTable =\n",
              "            await google.colab.kernel.invokeFunction('convertToInteractive',\n",
              "                                                     [key], {});\n",
              "          if (!dataTable) return;\n",
              "\n",
              "          const docLinkHtml = 'Like what you see? Visit the ' +\n",
              "            '<a target=\"_blank\" href=https://colab.research.google.com/notebooks/data_table.ipynb>data table notebook</a>'\n",
              "            + ' to learn more about interactive tables.';\n",
              "          element.innerHTML = '';\n",
              "          dataTable['output_type'] = 'display_data';\n",
              "          await google.colab.output.renderOutput(dataTable, element);\n",
              "          const docLink = document.createElement('div');\n",
              "          docLink.innerHTML = docLinkHtml;\n",
              "          element.appendChild(docLink);\n",
              "        }\n",
              "      </script>\n",
              "    </div>\n",
              "  </div>\n",
              "  "
            ]
          },
          "metadata": {},
          "execution_count": 67
        }
      ],
      "source": [
        "train.head()"
      ]
    },
    {
      "cell_type": "code",
      "execution_count": 68,
      "metadata": {
        "colab": {
          "base_uri": "https://localhost:8080/",
          "height": 317
        },
        "id": "aa1fdce6",
        "outputId": "122564d5-fb71-4744-e3f0-276668d4b701"
      },
      "outputs": [
        {
          "output_type": "execute_result",
          "data": {
            "text/plain": [
              "          0         1         2         3         4         5         6  \\\n",
              "0 -0.829039  0.595767  0.272339 -0.777664 -0.302763  0.004177  0.268033   \n",
              "1 -0.007977  0.157579 -0.441581 -0.248513 -0.173512  0.375976 -0.167974   \n",
              "2 -0.308539 -0.235057 -0.031315 -1.145314 -0.644860 -0.157424  0.514816   \n",
              "3 -2.770799  3.227902  7.109700  0.274504 -0.745340 -0.626961  3.768921   \n",
              "4  0.802032 -0.426742  0.006351  0.164876 -0.639802  0.363767  0.932702   \n",
              "\n",
              "          7         8         9  ...        32        33        34        35  \\\n",
              "0 -0.485166 -0.843002  0.257571  ... -0.238120 -0.127876  0.146366 -0.114035   \n",
              "1 -0.184429 -0.935126 -0.240099  ... -0.044515  0.069662  0.189067 -0.123367   \n",
              "2 -0.619588 -0.808261  0.625899  ...  0.635271  0.688951  0.615576 -0.537781   \n",
              "3 -6.024498 -2.039409  2.525901  ...  3.065503 -2.838213 -3.259711 -2.036948   \n",
              "4 -0.697396 -2.557853 -0.520898  ...  0.344609  0.934438  0.046972 -0.175961   \n",
              "\n",
              "         36        37        38        39     folder name  file name  \n",
              "0 -0.309343  0.049507 -0.628957 -0.295396  comp.windows.x      67551  \n",
              "1  0.005701 -0.110369 -0.089204 -0.165628  comp.windows.x      67566  \n",
              "2 -0.447920  0.390655 -0.642817 -1.313284  comp.windows.x      68196  \n",
              "3 -1.627054 -6.080042 -2.169715  0.587561  comp.windows.x  68332.eml  \n",
              "4 -1.186803  0.030826 -0.889382 -0.739124  comp.windows.x      67972  \n",
              "\n",
              "[5 rows x 42 columns]"
            ],
            "text/html": [
              "\n",
              "  <div id=\"df-a7e9e3fc-b529-48dd-98e9-6093e7d28fd0\">\n",
              "    <div class=\"colab-df-container\">\n",
              "      <div>\n",
              "<style scoped>\n",
              "    .dataframe tbody tr th:only-of-type {\n",
              "        vertical-align: middle;\n",
              "    }\n",
              "\n",
              "    .dataframe tbody tr th {\n",
              "        vertical-align: top;\n",
              "    }\n",
              "\n",
              "    .dataframe thead th {\n",
              "        text-align: right;\n",
              "    }\n",
              "</style>\n",
              "<table border=\"1\" class=\"dataframe\">\n",
              "  <thead>\n",
              "    <tr style=\"text-align: right;\">\n",
              "      <th></th>\n",
              "      <th>0</th>\n",
              "      <th>1</th>\n",
              "      <th>2</th>\n",
              "      <th>3</th>\n",
              "      <th>4</th>\n",
              "      <th>5</th>\n",
              "      <th>6</th>\n",
              "      <th>7</th>\n",
              "      <th>8</th>\n",
              "      <th>9</th>\n",
              "      <th>...</th>\n",
              "      <th>32</th>\n",
              "      <th>33</th>\n",
              "      <th>34</th>\n",
              "      <th>35</th>\n",
              "      <th>36</th>\n",
              "      <th>37</th>\n",
              "      <th>38</th>\n",
              "      <th>39</th>\n",
              "      <th>folder name</th>\n",
              "      <th>file name</th>\n",
              "    </tr>\n",
              "  </thead>\n",
              "  <tbody>\n",
              "    <tr>\n",
              "      <th>0</th>\n",
              "      <td>-0.829039</td>\n",
              "      <td>0.595767</td>\n",
              "      <td>0.272339</td>\n",
              "      <td>-0.777664</td>\n",
              "      <td>-0.302763</td>\n",
              "      <td>0.004177</td>\n",
              "      <td>0.268033</td>\n",
              "      <td>-0.485166</td>\n",
              "      <td>-0.843002</td>\n",
              "      <td>0.257571</td>\n",
              "      <td>...</td>\n",
              "      <td>-0.238120</td>\n",
              "      <td>-0.127876</td>\n",
              "      <td>0.146366</td>\n",
              "      <td>-0.114035</td>\n",
              "      <td>-0.309343</td>\n",
              "      <td>0.049507</td>\n",
              "      <td>-0.628957</td>\n",
              "      <td>-0.295396</td>\n",
              "      <td>comp.windows.x</td>\n",
              "      <td>67551</td>\n",
              "    </tr>\n",
              "    <tr>\n",
              "      <th>1</th>\n",
              "      <td>-0.007977</td>\n",
              "      <td>0.157579</td>\n",
              "      <td>-0.441581</td>\n",
              "      <td>-0.248513</td>\n",
              "      <td>-0.173512</td>\n",
              "      <td>0.375976</td>\n",
              "      <td>-0.167974</td>\n",
              "      <td>-0.184429</td>\n",
              "      <td>-0.935126</td>\n",
              "      <td>-0.240099</td>\n",
              "      <td>...</td>\n",
              "      <td>-0.044515</td>\n",
              "      <td>0.069662</td>\n",
              "      <td>0.189067</td>\n",
              "      <td>-0.123367</td>\n",
              "      <td>0.005701</td>\n",
              "      <td>-0.110369</td>\n",
              "      <td>-0.089204</td>\n",
              "      <td>-0.165628</td>\n",
              "      <td>comp.windows.x</td>\n",
              "      <td>67566</td>\n",
              "    </tr>\n",
              "    <tr>\n",
              "      <th>2</th>\n",
              "      <td>-0.308539</td>\n",
              "      <td>-0.235057</td>\n",
              "      <td>-0.031315</td>\n",
              "      <td>-1.145314</td>\n",
              "      <td>-0.644860</td>\n",
              "      <td>-0.157424</td>\n",
              "      <td>0.514816</td>\n",
              "      <td>-0.619588</td>\n",
              "      <td>-0.808261</td>\n",
              "      <td>0.625899</td>\n",
              "      <td>...</td>\n",
              "      <td>0.635271</td>\n",
              "      <td>0.688951</td>\n",
              "      <td>0.615576</td>\n",
              "      <td>-0.537781</td>\n",
              "      <td>-0.447920</td>\n",
              "      <td>0.390655</td>\n",
              "      <td>-0.642817</td>\n",
              "      <td>-1.313284</td>\n",
              "      <td>comp.windows.x</td>\n",
              "      <td>68196</td>\n",
              "    </tr>\n",
              "    <tr>\n",
              "      <th>3</th>\n",
              "      <td>-2.770799</td>\n",
              "      <td>3.227902</td>\n",
              "      <td>7.109700</td>\n",
              "      <td>0.274504</td>\n",
              "      <td>-0.745340</td>\n",
              "      <td>-0.626961</td>\n",
              "      <td>3.768921</td>\n",
              "      <td>-6.024498</td>\n",
              "      <td>-2.039409</td>\n",
              "      <td>2.525901</td>\n",
              "      <td>...</td>\n",
              "      <td>3.065503</td>\n",
              "      <td>-2.838213</td>\n",
              "      <td>-3.259711</td>\n",
              "      <td>-2.036948</td>\n",
              "      <td>-1.627054</td>\n",
              "      <td>-6.080042</td>\n",
              "      <td>-2.169715</td>\n",
              "      <td>0.587561</td>\n",
              "      <td>comp.windows.x</td>\n",
              "      <td>68332.eml</td>\n",
              "    </tr>\n",
              "    <tr>\n",
              "      <th>4</th>\n",
              "      <td>0.802032</td>\n",
              "      <td>-0.426742</td>\n",
              "      <td>0.006351</td>\n",
              "      <td>0.164876</td>\n",
              "      <td>-0.639802</td>\n",
              "      <td>0.363767</td>\n",
              "      <td>0.932702</td>\n",
              "      <td>-0.697396</td>\n",
              "      <td>-2.557853</td>\n",
              "      <td>-0.520898</td>\n",
              "      <td>...</td>\n",
              "      <td>0.344609</td>\n",
              "      <td>0.934438</td>\n",
              "      <td>0.046972</td>\n",
              "      <td>-0.175961</td>\n",
              "      <td>-1.186803</td>\n",
              "      <td>0.030826</td>\n",
              "      <td>-0.889382</td>\n",
              "      <td>-0.739124</td>\n",
              "      <td>comp.windows.x</td>\n",
              "      <td>67972</td>\n",
              "    </tr>\n",
              "  </tbody>\n",
              "</table>\n",
              "<p>5 rows × 42 columns</p>\n",
              "</div>\n",
              "      <button class=\"colab-df-convert\" onclick=\"convertToInteractive('df-a7e9e3fc-b529-48dd-98e9-6093e7d28fd0')\"\n",
              "              title=\"Convert this dataframe to an interactive table.\"\n",
              "              style=\"display:none;\">\n",
              "        \n",
              "  <svg xmlns=\"http://www.w3.org/2000/svg\" height=\"24px\"viewBox=\"0 0 24 24\"\n",
              "       width=\"24px\">\n",
              "    <path d=\"M0 0h24v24H0V0z\" fill=\"none\"/>\n",
              "    <path d=\"M18.56 5.44l.94 2.06.94-2.06 2.06-.94-2.06-.94-.94-2.06-.94 2.06-2.06.94zm-11 1L8.5 8.5l.94-2.06 2.06-.94-2.06-.94L8.5 2.5l-.94 2.06-2.06.94zm10 10l.94 2.06.94-2.06 2.06-.94-2.06-.94-.94-2.06-.94 2.06-2.06.94z\"/><path d=\"M17.41 7.96l-1.37-1.37c-.4-.4-.92-.59-1.43-.59-.52 0-1.04.2-1.43.59L10.3 9.45l-7.72 7.72c-.78.78-.78 2.05 0 2.83L4 21.41c.39.39.9.59 1.41.59.51 0 1.02-.2 1.41-.59l7.78-7.78 2.81-2.81c.8-.78.8-2.07 0-2.86zM5.41 20L4 18.59l7.72-7.72 1.47 1.35L5.41 20z\"/>\n",
              "  </svg>\n",
              "      </button>\n",
              "      \n",
              "  <style>\n",
              "    .colab-df-container {\n",
              "      display:flex;\n",
              "      flex-wrap:wrap;\n",
              "      gap: 12px;\n",
              "    }\n",
              "\n",
              "    .colab-df-convert {\n",
              "      background-color: #E8F0FE;\n",
              "      border: none;\n",
              "      border-radius: 50%;\n",
              "      cursor: pointer;\n",
              "      display: none;\n",
              "      fill: #1967D2;\n",
              "      height: 32px;\n",
              "      padding: 0 0 0 0;\n",
              "      width: 32px;\n",
              "    }\n",
              "\n",
              "    .colab-df-convert:hover {\n",
              "      background-color: #E2EBFA;\n",
              "      box-shadow: 0px 1px 2px rgba(60, 64, 67, 0.3), 0px 1px 3px 1px rgba(60, 64, 67, 0.15);\n",
              "      fill: #174EA6;\n",
              "    }\n",
              "\n",
              "    [theme=dark] .colab-df-convert {\n",
              "      background-color: #3B4455;\n",
              "      fill: #D2E3FC;\n",
              "    }\n",
              "\n",
              "    [theme=dark] .colab-df-convert:hover {\n",
              "      background-color: #434B5C;\n",
              "      box-shadow: 0px 1px 3px 1px rgba(0, 0, 0, 0.15);\n",
              "      filter: drop-shadow(0px 1px 2px rgba(0, 0, 0, 0.3));\n",
              "      fill: #FFFFFF;\n",
              "    }\n",
              "  </style>\n",
              "\n",
              "      <script>\n",
              "        const buttonEl =\n",
              "          document.querySelector('#df-a7e9e3fc-b529-48dd-98e9-6093e7d28fd0 button.colab-df-convert');\n",
              "        buttonEl.style.display =\n",
              "          google.colab.kernel.accessAllowed ? 'block' : 'none';\n",
              "\n",
              "        async function convertToInteractive(key) {\n",
              "          const element = document.querySelector('#df-a7e9e3fc-b529-48dd-98e9-6093e7d28fd0');\n",
              "          const dataTable =\n",
              "            await google.colab.kernel.invokeFunction('convertToInteractive',\n",
              "                                                     [key], {});\n",
              "          if (!dataTable) return;\n",
              "\n",
              "          const docLinkHtml = 'Like what you see? Visit the ' +\n",
              "            '<a target=\"_blank\" href=https://colab.research.google.com/notebooks/data_table.ipynb>data table notebook</a>'\n",
              "            + ' to learn more about interactive tables.';\n",
              "          element.innerHTML = '';\n",
              "          dataTable['output_type'] = 'display_data';\n",
              "          await google.colab.output.renderOutput(dataTable, element);\n",
              "          const docLink = document.createElement('div');\n",
              "          docLink.innerHTML = docLinkHtml;\n",
              "          element.appendChild(docLink);\n",
              "        }\n",
              "      </script>\n",
              "    </div>\n",
              "  </div>\n",
              "  "
            ]
          },
          "metadata": {},
          "execution_count": 68
        }
      ],
      "source": [
        "test.head()"
      ]
    },
    {
      "cell_type": "code",
      "execution_count": 69,
      "metadata": {
        "id": "ad25977f"
      },
      "outputs": [],
      "source": [
        "train_,validation=train_test_split( train, test_size=0.33, random_state=42) #split data into train and validation sets"
      ]
    },
    {
      "cell_type": "code",
      "execution_count": 70,
      "metadata": {
        "colab": {
          "base_uri": "https://localhost:8080/"
        },
        "id": "650079c8",
        "outputId": "dc2d954b-1595-4b33-ed58-4aa9c860efb9"
      },
      "outputs": [
        {
          "output_type": "execute_result",
          "data": {
            "text/plain": [
              "(7580, 7537, 3734)"
            ]
          },
          "metadata": {},
          "execution_count": 70
        }
      ],
      "source": [
        "len(train_),len(test),len(validation)"
      ]
    },
    {
      "cell_type": "code",
      "execution_count": 71,
      "metadata": {
        "id": "22b2aca1"
      },
      "outputs": [],
      "source": [
        "#save data sets\n",
        "train_.to_csv(proj_dir+'train_data.csv')\n",
        "test.to_csv(proj_dir+'test_data.csv')\n",
        "validation.to_csv(proj_dir+'validation_data.csv')"
      ]
    },
    {
      "cell_type": "code",
      "source": [
        ""
      ],
      "metadata": {
        "id": "rO2BAVHBOf0x"
      },
      "execution_count": 71,
      "outputs": []
    },
    {
      "cell_type": "markdown",
      "source": [
        "# Modeling"
      ],
      "metadata": {
        "id": "D03jNxwR-CT7"
      }
    },
    {
      "cell_type": "code",
      "source": [
        "import tensorflow as tf\n",
        "from tensorflow import keras\n",
        "import numpy as np\n",
        "import matplotlib.pyplot as plt\n",
        "from tensorflow.keras.layers import Dense,Dropout\n",
        "from tensorflow.keras import Sequential\n",
        "from keras.utils.vis_utils import plot_model"
      ],
      "metadata": {
        "id": "fkoi4A98kAPX"
      },
      "execution_count": 72,
      "outputs": []
    },
    {
      "cell_type": "markdown",
      "source": [
        "## Load data"
      ],
      "metadata": {
        "id": "OUA4GBfu-IoP"
      }
    },
    {
      "cell_type": "code",
      "execution_count": 73,
      "metadata": {
        "id": "0702fdba"
      },
      "outputs": [],
      "source": [
        "#read data which was saved in the feature generation part\n",
        "train=pd.read_csv(proj_dir+'train_data.csv')\n",
        "test=pd.read_csv(proj_dir+'test_data.csv')\n",
        "validation=pd.read_csv(proj_dir+'validation_data.csv')"
      ]
    },
    {
      "cell_type": "markdown",
      "source": [
        "## Data rearrange for modeling"
      ],
      "metadata": {
        "id": "kwZPDgjY-O73"
      }
    },
    {
      "cell_type": "code",
      "execution_count": 74,
      "metadata": {
        "id": "a712d932"
      },
      "outputs": [],
      "source": [
        "#extract X and y data from data frames\n",
        "X_train=train[[str(i) for i in range(40)]]\n",
        "y_train=train['folder name']\n",
        "\n",
        "X_test=test[[str(i) for i in range(40)]]\n",
        "y_test=test['folder name']\n",
        "\n",
        "X_validation=validation[[str(i) for i in range(40)]]\n",
        "y_validation=validation['folder name']"
      ]
    },
    {
      "cell_type": "code",
      "source": [
        "names=np.unique(np.array(y_train)) #getting unique categories\n",
        "print(names)"
      ],
      "metadata": {
        "id": "YiULfHkLenag",
        "colab": {
          "base_uri": "https://localhost:8080/"
        },
        "outputId": "8c905494-ffb2-45ae-b930-026a6b82ca7f"
      },
      "execution_count": 75,
      "outputs": [
        {
          "output_type": "stream",
          "name": "stdout",
          "text": [
            "['alt.atheism' 'comp.graphics' 'comp.os.ms-windows.misc'\n",
            " 'comp.sys.ibm.pc.hardware' 'comp.sys.mac.hardware' 'comp.windows.x'\n",
            " 'misc.forsale' 'rec.autos' 'rec.motorcycles' 'rec.sport.baseball'\n",
            " 'rec.sport.hockey' 'sci.crypt' 'sci.electronics' 'sci.med' 'sci.space'\n",
            " 'soc.religion.christian' 'talk.politics.guns' 'talk.politics.mideast'\n",
            " 'talk.politics.misc' 'talk.religion.misc']\n"
          ]
        }
      ]
    },
    {
      "cell_type": "code",
      "source": [
        "# Category mapping\n",
        "y_train_en=[np.where(names==name)[0] for name in y_train ]\n",
        "y_test_en=[np.where(names==name)[0] for name in y_test ]\n",
        "y_validation_en=[np.where(names==name)[0] for name in y_validation ]"
      ],
      "metadata": {
        "id": "QJJY6Kf5hbtz"
      },
      "execution_count": 76,
      "outputs": []
    },
    {
      "cell_type": "code",
      "source": [
        "# Category encoding\n",
        "# keras.utils.to_categorical is a function used to Converts a class vector (integers) to binary class matrix\n",
        "# so by the end of this code block we will have encoded categories so we are ready to use it in the model. \n",
        "y_train_en=keras.utils.to_categorical(y_train_en)\n",
        "y_test_en=keras.utils.to_categorical(y_test_en)\n",
        "y_validation_en=keras.utils.to_categorical(y_validation_en)"
      ],
      "metadata": {
        "id": "CdB8JE4hf6n6"
      },
      "execution_count": 77,
      "outputs": []
    },
    {
      "cell_type": "markdown",
      "source": [
        "## Model"
      ],
      "metadata": {
        "id": "fCH-kKj9-k-A"
      }
    },
    {
      "cell_type": "code",
      "source": [
        "### building the model\n",
        "classifier = Sequential() #The sequential API allows you to create models layer-by-layer for most problems.\n",
        "classifier.add(Dense(units=100, input_dim=40, kernel_initializer='uniform', activation='relu'))# relu (Rectifier linear unit) function\n",
        "classifier.add(Dense(units=80, kernel_initializer='uniform', activation='relu'))\n",
        "classifier.add(Dropout(0.2)) # dropout layer to prevent overfitting\n",
        "classifier.add(Dense(units=60, kernel_initializer='uniform', activation='relu'))\n",
        "classifier.add(Dropout(0.2)) # dropout layer to prevent overfitting\n",
        "classifier.add(Dense(units=30, kernel_initializer='uniform', activation='relu'))\n",
        "\n",
        "####################### Output layer############################################\n",
        "# sigmoid means sigmoid activation function\n",
        "# for Multiclass classification the activation ='softmax'\n",
        "classifier.add(Dense(units=20, kernel_initializer='uniform', activation='sigmoid'))\n",
        "classifier.summary()"
      ],
      "metadata": {
        "colab": {
          "base_uri": "https://localhost:8080/"
        },
        "id": "dxbfFE_0ZHxU",
        "outputId": "6e9aea13-be37-46d2-eb8e-7c803f6eb643"
      },
      "execution_count": 78,
      "outputs": [
        {
          "output_type": "stream",
          "name": "stdout",
          "text": [
            "Model: \"sequential_1\"\n",
            "_________________________________________________________________\n",
            " Layer (type)                Output Shape              Param #   \n",
            "=================================================================\n",
            " dense_5 (Dense)             (None, 100)               4100      \n",
            "                                                                 \n",
            " dense_6 (Dense)             (None, 80)                8080      \n",
            "                                                                 \n",
            " dropout_2 (Dropout)         (None, 80)                0         \n",
            "                                                                 \n",
            " dense_7 (Dense)             (None, 60)                4860      \n",
            "                                                                 \n",
            " dropout_3 (Dropout)         (None, 60)                0         \n",
            "                                                                 \n",
            " dense_8 (Dense)             (None, 30)                1830      \n",
            "                                                                 \n",
            " dense_9 (Dense)             (None, 20)                620       \n",
            "                                                                 \n",
            "=================================================================\n",
            "Total params: 19,490\n",
            "Trainable params: 19,490\n",
            "Non-trainable params: 0\n",
            "_________________________________________________________________\n"
          ]
        }
      ]
    },
    {
      "cell_type": "code",
      "source": [
        "plot_model(classifier, to_file=proj_dir+'model_plot.png', show_shapes=True, show_layer_names=True) # plot and save the model diagramm"
      ],
      "metadata": {
        "colab": {
          "base_uri": "https://localhost:8080/",
          "height": 865
        },
        "id": "688vqanGnNoO",
        "outputId": "2ec36267-b551-4697-f2ab-84f26c310475"
      },
      "execution_count": null,
      "outputs": [
        {
          "output_type": "execute_result",
          "data": {
            "text/plain": [
              "<IPython.core.display.Image object>"
            ],
            "image/png": "[encoded data removed]"
          },
          "metadata": {},
          "execution_count": 41
        }
      ]
    },
    {
      "cell_type": "code",
      "source": [
        "classifier.compile(optimizer='adam', loss='binary_crossentropy', metrics=['accuracy']) #compile the model\n",
        "\n",
        "# fitting the Neural Network on the training data\n",
        "history=classifier.fit(X_train,y_train_en,validation_data=(X_validation, y_validation_en), batch_size=50 , epochs=40, verbose=1)"
      ],
      "metadata": {
        "colab": {
          "base_uri": "https://localhost:8080/"
        },
        "id": "VA5XBO09mtEe",
        "outputId": "f980f4c3-2c53-4ff5-9637-0d98b24247d4"
      },
      "execution_count": 79,
      "outputs": [
        {
          "output_type": "stream",
          "name": "stdout",
          "text": [
            "Epoch 1/40\n",
            "152/152 [==============================] - 1s 5ms/step - loss: 0.3025 - accuracy: 0.0521 - val_loss: 0.2090 - val_accuracy: 0.0471\n",
            "Epoch 2/40\n",
            "152/152 [==============================] - 1s 3ms/step - loss: 0.2071 - accuracy: 0.0532 - val_loss: 0.2009 - val_accuracy: 0.0471\n",
            "Epoch 3/40\n",
            "152/152 [==============================] - 0s 3ms/step - loss: 0.2012 - accuracy: 0.0533 - val_loss: 0.1993 - val_accuracy: 0.0501\n",
            "Epoch 4/40\n",
            "152/152 [==============================] - 0s 3ms/step - loss: 0.2007 - accuracy: 0.0518 - val_loss: 0.1991 - val_accuracy: 0.0530\n",
            "Epoch 5/40\n",
            "152/152 [==============================] - 1s 3ms/step - loss: 0.2006 - accuracy: 0.0492 - val_loss: 0.1988 - val_accuracy: 0.0530\n",
            "Epoch 6/40\n",
            "152/152 [==============================] - 1s 3ms/step - loss: 0.2004 - accuracy: 0.0524 - val_loss: 0.1989 - val_accuracy: 0.0530\n",
            "Epoch 7/40\n",
            "152/152 [==============================] - 0s 3ms/step - loss: 0.2004 - accuracy: 0.0549 - val_loss: 0.1985 - val_accuracy: 0.0592\n",
            "Epoch 8/40\n",
            "152/152 [==============================] - 1s 3ms/step - loss: 0.2004 - accuracy: 0.0526 - val_loss: 0.1988 - val_accuracy: 0.0530\n",
            "Epoch 9/40\n",
            "152/152 [==============================] - 0s 3ms/step - loss: 0.2003 - accuracy: 0.0544 - val_loss: 0.1988 - val_accuracy: 0.0479\n",
            "Epoch 10/40\n",
            "152/152 [==============================] - 0s 3ms/step - loss: 0.2001 - accuracy: 0.0530 - val_loss: 0.1986 - val_accuracy: 0.0445\n",
            "Epoch 11/40\n",
            "152/152 [==============================] - 1s 3ms/step - loss: 0.1995 - accuracy: 0.0631 - val_loss: 0.1953 - val_accuracy: 0.0978\n",
            "Epoch 12/40\n",
            "152/152 [==============================] - 0s 3ms/step - loss: 0.1822 - accuracy: 0.1092 - val_loss: 0.1742 - val_accuracy: 0.1417\n",
            "Epoch 13/40\n",
            "152/152 [==============================] - 1s 3ms/step - loss: 0.1716 - accuracy: 0.1474 - val_loss: 0.1665 - val_accuracy: 0.1749\n",
            "Epoch 14/40\n",
            "152/152 [==============================] - 0s 3ms/step - loss: 0.1657 - accuracy: 0.1720 - val_loss: 0.1597 - val_accuracy: 0.1907\n",
            "Epoch 15/40\n",
            "152/152 [==============================] - 1s 4ms/step - loss: 0.1537 - accuracy: 0.2445 - val_loss: 0.1440 - val_accuracy: 0.3018\n",
            "Epoch 16/40\n",
            "152/152 [==============================] - 0s 3ms/step - loss: 0.1396 - accuracy: 0.3154 - val_loss: 0.1320 - val_accuracy: 0.3685\n",
            "Epoch 17/40\n",
            "152/152 [==============================] - 0s 3ms/step - loss: 0.1312 - accuracy: 0.3701 - val_loss: 0.1269 - val_accuracy: 0.4178\n",
            "Epoch 18/40\n",
            "152/152 [==============================] - 1s 4ms/step - loss: 0.1255 - accuracy: 0.4150 - val_loss: 0.1223 - val_accuracy: 0.4462\n",
            "Epoch 19/40\n",
            "152/152 [==============================] - 0s 3ms/step - loss: 0.1196 - accuracy: 0.4500 - val_loss: 0.1164 - val_accuracy: 0.4628\n",
            "Epoch 20/40\n",
            "152/152 [==============================] - 0s 3ms/step - loss: 0.1137 - accuracy: 0.4839 - val_loss: 0.1135 - val_accuracy: 0.4965\n",
            "Epoch 21/40\n",
            "152/152 [==============================] - 1s 4ms/step - loss: 0.1095 - accuracy: 0.5091 - val_loss: 0.1093 - val_accuracy: 0.5171\n",
            "Epoch 22/40\n",
            "152/152 [==============================] - 1s 3ms/step - loss: 0.1048 - accuracy: 0.5372 - val_loss: 0.1078 - val_accuracy: 0.5300\n",
            "Epoch 23/40\n",
            "152/152 [==============================] - 0s 3ms/step - loss: 0.1011 - accuracy: 0.5594 - val_loss: 0.1053 - val_accuracy: 0.5587\n",
            "Epoch 24/40\n",
            "152/152 [==============================] - 0s 3ms/step - loss: 0.0982 - accuracy: 0.5766 - val_loss: 0.1038 - val_accuracy: 0.5549\n",
            "Epoch 25/40\n",
            "152/152 [==============================] - 0s 3ms/step - loss: 0.0954 - accuracy: 0.5898 - val_loss: 0.1017 - val_accuracy: 0.5809\n",
            "Epoch 26/40\n",
            "152/152 [==============================] - 1s 3ms/step - loss: 0.0931 - accuracy: 0.5989 - val_loss: 0.1007 - val_accuracy: 0.5857\n",
            "Epoch 27/40\n",
            "152/152 [==============================] - 0s 3ms/step - loss: 0.0907 - accuracy: 0.6116 - val_loss: 0.1005 - val_accuracy: 0.5836\n",
            "Epoch 28/40\n",
            "152/152 [==============================] - 0s 3ms/step - loss: 0.0893 - accuracy: 0.6189 - val_loss: 0.1012 - val_accuracy: 0.5876\n",
            "Epoch 29/40\n",
            "152/152 [==============================] - 0s 3ms/step - loss: 0.0874 - accuracy: 0.6293 - val_loss: 0.1002 - val_accuracy: 0.5908\n",
            "Epoch 30/40\n",
            "152/152 [==============================] - 0s 3ms/step - loss: 0.0854 - accuracy: 0.6413 - val_loss: 0.0993 - val_accuracy: 0.5983\n",
            "Epoch 31/40\n",
            "152/152 [==============================] - 1s 3ms/step - loss: 0.0837 - accuracy: 0.6426 - val_loss: 0.0989 - val_accuracy: 0.6018\n",
            "Epoch 32/40\n",
            "152/152 [==============================] - 1s 4ms/step - loss: 0.0823 - accuracy: 0.6555 - val_loss: 0.0995 - val_accuracy: 0.5996\n",
            "Epoch 33/40\n",
            "152/152 [==============================] - 0s 3ms/step - loss: 0.0816 - accuracy: 0.6528 - val_loss: 0.0984 - val_accuracy: 0.5994\n",
            "Epoch 34/40\n",
            "152/152 [==============================] - 1s 4ms/step - loss: 0.0800 - accuracy: 0.6645 - val_loss: 0.1001 - val_accuracy: 0.5996\n",
            "Epoch 35/40\n",
            "152/152 [==============================] - 1s 3ms/step - loss: 0.0787 - accuracy: 0.6669 - val_loss: 0.0999 - val_accuracy: 0.6026\n",
            "Epoch 36/40\n",
            "152/152 [==============================] - 1s 3ms/step - loss: 0.0771 - accuracy: 0.6778 - val_loss: 0.0999 - val_accuracy: 0.6052\n",
            "Epoch 37/40\n",
            "152/152 [==============================] - 0s 3ms/step - loss: 0.0767 - accuracy: 0.6826 - val_loss: 0.0999 - val_accuracy: 0.6039\n",
            "Epoch 38/40\n",
            "152/152 [==============================] - 1s 3ms/step - loss: 0.0753 - accuracy: 0.6854 - val_loss: 0.1015 - val_accuracy: 0.6028\n",
            "Epoch 39/40\n",
            "152/152 [==============================] - 1s 3ms/step - loss: 0.0742 - accuracy: 0.6876 - val_loss: 0.1008 - val_accuracy: 0.6050\n",
            "Epoch 40/40\n",
            "152/152 [==============================] - 0s 3ms/step - loss: 0.0726 - accuracy: 0.6964 - val_loss: 0.1031 - val_accuracy: 0.5988\n"
          ]
        }
      ]
    },
    {
      "cell_type": "markdown",
      "source": [
        "## Evaluate"
      ],
      "metadata": {
        "id": "otahVNsT-pHj"
      }
    },
    {
      "cell_type": "code",
      "source": [
        "#plotting trainning, validation accuracies and losses\n",
        "loss = history.history['loss']\n",
        "loss_val = history.history['val_loss']\n",
        "acc = history.history['accuracy']\n",
        "acc_val = history.history['val_accuracy']\n",
        "epochs = range(1, len(loss) + 1)\n",
        "plt.plot(epochs, loss, 'y', label='Training loss')\n",
        "plt.plot(epochs, loss_val, 'r', label='Validation loss')\n",
        "plt.title('loss')\n",
        "plt.xlabel('Epochs')\n",
        "plt.ylabel('value')\n",
        "plt.legend()\n",
        "plt.show()\n",
        "\n",
        "plt.plot(epochs, acc_val, 'y', label='Validation accuracy')\n",
        "plt.plot(epochs, acc, 'r', label='Training accuracy')\n",
        "plt.title('accuracy')\n",
        "plt.xlabel('Epochs')\n",
        "plt.ylabel('value')\n",
        "plt.legend()\n",
        "plt.show()"
      ],
      "metadata": {
        "colab": {
          "base_uri": "https://localhost:8080/",
          "height": 573
        },
        "id": "Tjhfbr2_ZIBw",
        "outputId": "47978e33-f312-4166-d445-7cbab77feb69"
      },
      "execution_count": 80,
      "outputs": [
        {
          "output_type": "display_data",
          "data": {
            "text/plain": [
              "<Figure size 432x288 with 1 Axes>"
            ],
            "image/png": "[encoded data removed]"
          },
          "metadata": {
            "needs_background": "light"
          }
        },
        {
          "output_type": "display_data",
          "data": {
            "text/plain": [
              "<Figure size 432x288 with 1 Axes>"
            ],
            "image/png": "[encoded data removed]"
          },
          "metadata": {
            "needs_background": "light"
          }
        }
      ]
    },
    {
      "cell_type": "code",
      "source": [
        "#calculate the test accuracy\n",
        "y_pred=np.argmax(classifier.predict(X_test),axis=1) #predict on test data\n",
        "y_true=np.argmax(y_test_en,axis=1) #true values\n",
        "acc=sum(y_pred==y_true)/len(y_pred) #calculate the accuracy\n",
        "print('test accuracy : ',acc)"
      ],
      "metadata": {
        "colab": {
          "base_uri": "https://localhost:8080/"
        },
        "id": "LAO_MZyUZIFV",
        "outputId": "62f2335c-34d3-4136-d3ae-2550cd8e54f1"
      },
      "execution_count": 81,
      "outputs": [
        {
          "output_type": "stream",
          "name": "stdout",
          "text": [
            "test accuracy :  0.5608332227676794\n"
          ]
        }
      ]
    }
  ],
  "metadata": {
    "colab": {
      "collapsed_sections": [
        "074718ea",
        "f6875224",
        "b0c3a105",
        "D03jNxwR-CT7"
      ],
      "name": "preprocessing_code.ipynb",
      "provenance": []
    },
    "kernelspec": {
      "display_name": "Python 3",
      "name": "python3"
    },
    "language_info": {
      "name": "python"
    }
  },
  "nbformat": 4,
  "nbformat_minor": 0
}