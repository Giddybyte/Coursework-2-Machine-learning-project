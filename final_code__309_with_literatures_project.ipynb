{
  "cells": [
    {
      "cell_type": "code",
      "execution_count": 12,
      "metadata": {
        "id": "zPEhSwTq7aCx",
        "scrolled": true
      },
      "outputs": [],
      "source": [
        "from __future__ import division, print_function\n",
        "from gensim import models\n",
        "from keras.callbacks import ModelCheckpoint\n",
        "from keras.layers import Dense, Dropout, Reshape, Flatten, concatenate, Input, Conv1D, GlobalMaxPooling1D, Embedding\n",
        "from keras.layers.recurrent import LSTM\n",
        "from keras.models import Sequential\n",
        "from keras.preprocessing.text import Tokenizer\n",
        "from keras.preprocessing.sequence import pad_sequences\n",
        "from keras.models import Model\n",
        "from sklearn.model_selection import train_test_split\n",
        "from tensorflow import keras\n",
        "import numpy as np\n",
        "import pandas as pd\n",
        "import os\n",
        "import collections\n",
        "import re\n",
        "import string"
      ]
    },
    {
      "cell_type": "code",
      "execution_count": 11,
      "metadata": {
        "id": "IzXF7hOQ8N1b",
        "colab": {
          "base_uri": "https://localhost:8080/"
        },
        "outputId": "a32b760c-434a-433e-87b7-805e24aa5d17"
      },
      "outputs": [
        {
          "output_type": "stream",
          "name": "stdout",
          "text": [
            "[nltk_data] Downloading package stopwords to /root/nltk_data...\n",
            "[nltk_data]   Unzipping corpora/stopwords.zip.\n",
            "[nltk_data] Downloading package wordnet to /root/nltk_data...\n",
            "[nltk_data]   Unzipping corpora/wordnet.zip.\n",
            "[nltk_data] Downloading package punkt to /root/nltk_data...\n",
            "[nltk_data]   Unzipping tokenizers/punkt.zip.\n"
          ]
        },
        {
          "output_type": "execute_result",
          "data": {
            "text/plain": [
              "True"
            ]
          },
          "metadata": {},
          "execution_count": 11
        }
      ],
      "source": [
        "import os\n",
        "import pandas as pd\n",
        "import numpy as np\n",
        "import collections\n",
        "import re\n",
        "import string\n",
        "import matplotlib.pyplot as plt\n",
        "from nltk.corpus import stopwords\n",
        "from gensim.models.doc2vec import Doc2Vec, TaggedDocument\n",
        "from gensim.test.utils import get_tmpfile\n",
        "from nltk.stem import WordNetLemmatizer\n",
        "import nltk\n",
        "from sklearn.model_selection import train_test_split\n",
        "nltk.download('stopwords')\n",
        "nltk.download('wordnet')\n",
        "import nltk\n",
        "nltk.download('punkt')"
      ]
    },
    {
      "cell_type": "code",
      "execution_count": 13,
      "metadata": {
        "id": "U_NzlkIjvcjM"
      },
      "outputs": [],
      "source": [
        "import numpy as np\n",
        "import pandas as pd\n",
        "import pickle\n",
        "from collections import defaultdict\n",
        "import re\n",
        "from bs4 import BeautifulSoup\n",
        "import sys\n",
        "import os\n",
        "os.environ['KERAS_BACKEND']='theano'\n",
        "from keras.preprocessing.text import Tokenizer\n",
        "from keras.preprocessing.sequence import pad_sequences\n",
        "from keras.utils.np_utils import to_categorical\n",
        "from keras.layers import Embedding\n",
        "from keras.layers import Dense, Input, Flatten\n",
        "from keras.layers import Conv1D, MaxPooling1D, Embedding, Dropout, LSTM, GRU, Bidirectional\n",
        "from keras.models import Model\n",
        "from keras.callbacks import ModelCheckpoint\n",
        "import matplotlib.pyplot as plt\n",
        "plt.switch_backend('agg')\n",
        "from keras import backend as K\n",
        "from tensorflow.keras.layers import Layer, InputSpec\n",
        "import tensorflow as tf\n",
        "from tensorflow import keras\n",
        "from keras import initializers\n",
        "%matplotlib inline\n",
        "from sklearn.model_selection import StratifiedShuffleSplit"
      ]
    },
    {
      "cell_type": "code",
      "execution_count": 1,
      "metadata": {
        "colab": {
          "base_uri": "https://localhost:8080/"
        },
        "id": "RYMQ5ixq9Qi6",
        "outputId": "d153140f-9362-463e-d415-4fc985c2a51d"
      },
      "outputs": [
        {
          "output_type": "stream",
          "name": "stdout",
          "text": [
            "Mounted at /content/drive\n"
          ]
        }
      ],
      "source": [
        "from google.colab import drive\n",
        "drive.mount('/content/drive')"
      ]
    },
    {
      "cell_type": "markdown",
      "source": [
        "# **Creating the folder in colab to warehouse all subfolders(training and testing subfolders)** Please run this code only once to create folder otherwise:FileExistsError"
      ],
      "metadata": {
        "id": "xQouZHwZrYPC"
      }
    },
    {
      "cell_type": "code",
      "source": [
        "import os\n",
        "path = \"/content/drive/MyDrive/Colab Notebooks/doc2vec4\"\n",
        "os.mkdir(path)"
      ],
      "metadata": {
        "id": "W8jcR48Jp5xE"
      },
      "execution_count": 3,
      "outputs": []
    },
    {
      "cell_type": "markdown",
      "source": [
        "# **Installing the module for downloading the tae.gz file from the website **"
      ],
      "metadata": {
        "id": "i80AgRqGP_qm"
      }
    },
    {
      "cell_type": "code",
      "source": [
        "pip install wget"
      ],
      "metadata": {
        "id": "4FD_c52DgdgY",
        "colab": {
          "base_uri": "https://localhost:8080/"
        },
        "outputId": "29a03aea-fd14-4608-bedc-71cf69d747d4"
      },
      "execution_count": 4,
      "outputs": [
        {
          "output_type": "stream",
          "name": "stdout",
          "text": [
            "Collecting wget\n",
            "  Downloading wget-3.2.zip (10 kB)\n",
            "Building wheels for collected packages: wget\n",
            "  Building wheel for wget (setup.py) ... \u001b[?25l\u001b[?25hdone\n",
            "  Created wheel for wget: filename=wget-3.2-py3-none-any.whl size=9675 sha256=16cbb1fe5ff956fc87ce1108fea6e3ec2409982c3b83ab89a6c8916210ec56d9\n",
            "  Stored in directory: /root/.cache/pip/wheels/a1/b6/7c/0e63e34eb06634181c63adacca38b79ff8f35c37e3c13e3c02\n",
            "Successfully built wget\n",
            "Installing collected packages: wget\n",
            "Successfully installed wget-3.2\n"
          ]
        }
      ]
    },
    {
      "cell_type": "markdown",
      "source": [
        "## **Collecting the zipped file from the website  and unzip into the created folder**. This create the required two folder training and testing\n",
        "\n"
      ],
      "metadata": {
        "id": "A4l-ftW6GLtZ"
      }
    },
    {
      "cell_type": "code",
      "source": [
        "import wget\n",
        "site_url = 'http://qwone.com/~jason/20Newsgroups/20news-bydate.tar.gz'\n",
        "file_name = wget.download(site_url)\n",
        "#print(file_name)\n",
        "import tarfile\n",
        "my_tar = tarfile.open(file_name)\n",
        "my_tar.extractall(path) # specify which folder to extract to\n",
        "my_tar.close()"
      ],
      "metadata": {
        "id": "axrClZXMhTkz"
      },
      "execution_count": 5,
      "outputs": []
    },
    {
      "cell_type": "code",
      "execution_count": 7,
      "metadata": {
        "id": "s6VaBnuZ9Uca"
      },
      "outputs": [],
      "source": [
        "proj_dir=path #give your project directory here. data sets should be in this location"
      ]
    },
    {
      "cell_type": "code",
      "execution_count": 8,
      "metadata": {
        "id": "mBJEDlXk9e4z"
      },
      "outputs": [],
      "source": [
        "'''this function is used to read text files.'''\n",
        "def read_txt_file(file_name):\n",
        "    with open(file_name,encoding=\"utf8\", errors='ignore') as f:\n",
        "        ###extract the boady of the text###\n",
        "        line = f.readline()\n",
        "        txt=''\n",
        "        txt=txt+' '+line\n",
        "        while line:\n",
        "            line = f.readline()\n",
        "            txt=txt+' '+line\n",
        "        ###################################\n",
        "    f.close()\n",
        "    return(txt)"
      ]
    },
    {
      "cell_type": "code",
      "execution_count": 14,
      "metadata": {
        "id": "Sh72ccQC9mgw"
      },
      "outputs": [],
      "source": [
        "stop_words=set(stopwords.words('english'))#load stop words\n",
        "punctuations=string.punctuation #get punctuations\n",
        "lemmatizer = WordNetLemmatizer()\n",
        "'''this function is used to clean text'''\n",
        "def clean_txt(txt):\n",
        "    txt=txt.lower() #set all characters to lowercase\n",
        "    sentences=txt.split('\\n')\n",
        "    txt = ' '.join([i for i in sentences if not ':' in i])#remove headers\n",
        "    txt = ''.join([i for i in txt if not i.isdigit()])#remove numbers\n",
        "\n",
        "    ###remove urls and emails###\n",
        "    words=txt.split()\n",
        "    txt = ' '.join([i for i in words if not '@' in i and not '.com' in i and not  'http:' in i])\n",
        "    #######################################\n",
        "\n",
        "    ###remove punctuations###\n",
        "    for character in punctuations:\n",
        "        txt = txt.replace(character, '')\n",
        "    #########################################\n",
        "    \n",
        "    ###remove stop words and lemmatize###\n",
        "    words=txt.split()\n",
        "    filtered_txt = ' '.join([lemmatizer.lemmatize(i) for i in words if not i in stop_words])\n",
        "    #####################################\n",
        "    \n",
        "    return(filtered_txt)\n"
      ]
    },
    {
      "cell_type": "code",
      "execution_count": 15,
      "metadata": {
        "id": "tCJi2iqF9nrR"
      },
      "outputs": [],
      "source": [
        "def load_and_clean_data(location):    \n",
        "    y=os.listdir(location)#get the list of folder\n",
        "    txts=[]\n",
        "    txts_cleaned=[]\n",
        "    folder_array=[]\n",
        "    file_array=[]\n",
        "    for i in range(len(y)):\n",
        "        text_file_names=os.listdir(location+'/'+y[i]) #get the list of files\n",
        "        for text_file_name in text_file_names:\n",
        "                file_array.append(text_file_name)\n",
        "                txt=read_txt_file(location+'/'+y[i]+'/'+text_file_name) #read the text file\n",
        "                txts.append(txt)\n",
        "                txts_cleaned.append(clean_txt(txt)) #clean the text\n",
        "                folder_array.append(y[i])\n",
        "\n",
        "    ###create a data frame###\n",
        "    df=pd.DataFrame()\n",
        "    df['texts']=txts\n",
        "    df['text cleaned']=txts_cleaned\n",
        "    df['folder name']=folder_array\n",
        "    df['file name']=file_array\n",
        "    ########################\n",
        "    return (df)\n"
      ]
    },
    {
      "cell_type": "code",
      "execution_count": 144,
      "metadata": {
        "id": "cuEkdMOp96Xj"
      },
      "outputs": [],
      "source": [
        "df_train=load_and_clean_data(proj_dir+'20news-bydate-train')\n",
        "df_test=load_and_clean_data(proj_dir+'20news-bydate-test')\n"
      ]
    },
    {
      "cell_type": "markdown",
      "metadata": {
        "id": "LS7lG2SM51pH"
      },
      "source": [
        "# Creating Training,Validation and Testing Variables/Data"
      ]
    },
    {
      "cell_type": "markdown",
      "source": [
        "The labelled and grouped structure of this dataset necessitates that the training dataset be divided into training and validation sets, with the label distribution on both sets and the integrity of the groups being kept as near as feasible. To generate more representative training and validation sets, it is common practise to do data shuffles prior to model training. If the divided datasets aren't shuffled, the real distribution of the dataset won't be represented.\n",
        "\n",
        "Our initial dataset must be shuffled in order to decrease variance and ensure that the model can generalise effectively to new, previously unknown datasets (testing data).\n",
        "\n",
        "We utilise a RandomState seed to verify that the split is consistent. The StratifiedShuffleSplit module of sklearn, the shuffle() function in sklearn, and random.RandomState() method in NumPy were also examined. In our opinion, this appears to have solved the dataset's label stratification problem.\n",
        "\n"
      ],
      "metadata": {
        "id": "viSIcRz3E7Nr"
      }
    },
    {
      "cell_type": "code",
      "source": [
        "#Shuffling Data for Splitting Randomly\n",
        "seed=1337\n",
        "rng = np.random.RandomState(seed)\n",
        "rng.shuffle(df_train.texts.values.tolist())\n",
        "rng = np.random.RandomState(seed)\n",
        "rng.shuffle(np.unique(df_train['folder name'].values.tolist()))\n"
      ],
      "metadata": {
        "id": "LPFgsGoNwQcW"
      },
      "execution_count": null,
      "outputs": []
    },
    {
      "cell_type": "code",
      "source": [
        "#Extracted the Required Data.\n",
        "X = df_train['texts']\n",
        "y = df_train['folder name']\n",
        "X_test=df_test['texts']\n",
        "y_test=df_test['folder name']\n"
      ],
      "metadata": {
        "id": "qlZO9n1yhBd0"
      },
      "execution_count": null,
      "outputs": []
    },
    {
      "cell_type": "code",
      "source": [
        "#Splitting the shuffled Training data into Training and Validation set\n",
        "sss = StratifiedShuffleSplit(n_splits=2, test_size=0.2, random_state=0)\n",
        "sss.get_n_splits(X, y)\n",
        "print(sss)\n",
        "for train_index, val_index in sss.split(X, y):\n",
        "  print(\"train_index:\", train_index, \"val_index:\", val_index)\n",
        "  X_train, X_val = X[train_index], X[val_index]\n",
        "  Y_train, Y_val = y[train_index], y[val_index]\n",
        "  "
      ],
      "metadata": {
        "id": "vjN5MbVshH46",
        "colab": {
          "base_uri": "https://localhost:8080/"
        },
        "outputId": "4c52e619-60f7-4061-c8d0-65b5ddbc9fbd"
      },
      "execution_count": null,
      "outputs": [
        {
          "output_type": "stream",
          "name": "stdout",
          "text": [
            "StratifiedShuffleSplit(n_splits=2, random_state=0, test_size=0.2,\n",
            "            train_size=None)\n",
            "train_index: [2497 1028 6922 ... 5430 7132 6141] val_index: [10345 11003  7550 ...   433 10070  1085]\n",
            "train_index: [ 6628  7618  7267 ... 10777   647  6312] val_index: [10826  9530  3868 ...  8793  5443  4802]\n"
          ]
        }
      ]
    },
    {
      "cell_type": "code",
      "source": [
        "import numpy as np\n",
        "import tensorflow as tf\n",
        "from tensorflow import keras"
      ],
      "metadata": {
        "id": "Gr_6GyTWtC1z"
      },
      "execution_count": null,
      "outputs": []
    },
    {
      "cell_type": "markdown",
      "source": [
        "# **Creating Text Vectorization from Training Dataset**"
      ],
      "metadata": {
        "id": "hSg6UMI3Bo-o"
      }
    },
    {
      "cell_type": "markdown",
      "source": [
        "With the release of TF 2.1, several new features were added, including TextVectorization. This layer preprocesses raw text by normalizing/standardizing the text, tokenizing it, generating n-grams, and indexing the vocabulary. For additional information, see (https://www.tensorflow.org/api docs/python/tf/keras/layers/TextVectorization). \n",
        "\n",
        "This layer provides the fundamental capabilities for handling text in a Keras model. It converts a batch of strings (one example = one string) to either a list of token indices (1D tensor of integer token indices) or a dense representation (1D tensor of float values reflecting info about the example's tokens). \n",
        "\n",
        "This layer is responsible for processing natural language inputs. To be able to work with simple string inputs (categorical strings or pre-tokenized strings). The layer's vocabulary must be given at construction or acquired during adaptation (). After adaptation, it examines the dataset, determines the frequency of individual string values, and constructs a vocabulary from them. The following steps are involved in the processing:\n",
        "\n",
        "Standardize each sentence (often by lowering the case and removing the punctuation).\n",
        "Each sentence should be split into substrings.\n",
        "Substrings should be recombined into tokens.\n",
        "Tokens of the index (associate a unique int value with each token)\n",
        "Transform each example into a vector of ints or a dense float vector using this index.\n",
        "\n",
        "This section/layer of the project converts the characteristics of training data to integer sequences. We select a length of [100,300] for the sequence and a maximum token size of [20,000,40,000] for the max tokens.\n",
        "\n",
        "Additionally, we tested the finished vectorizer to confirm that it functioned properly.\n"
      ],
      "metadata": {
        "id": "ZoXlIBC5LEG-"
      }
    },
    {
      "cell_type": "code",
      "source": [
        "#Creating vectorizer and adapting to the training data to be use for all data,restriced to 20,000 vocabulary\n",
        "from tensorflow.keras.layers import TextVectorization\n",
        "vectorizer = TextVectorization(max_tokens=30000, output_sequence_length=200)\n",
        "text_ds = tf.data.Dataset.from_tensor_slices(X_train.values.tolist())\n",
        "vectorizer.adapt(text_ds)"
      ],
      "metadata": {
        "id": "SfFMeWoOrbcZ"
      },
      "execution_count": null,
      "outputs": []
    },
    {
      "cell_type": "code",
      "source": [
        "#testing vectorizer\n",
        "vectorizer.get_vocabulary()[0:5]"
      ],
      "metadata": {
        "colab": {
          "base_uri": "https://localhost:8080/"
        },
        "id": "ndT3wbnXrs5S",
        "outputId": "986b7392-69eb-447e-de21-7a06d90fb36e"
      },
      "execution_count": null,
      "outputs": [
        {
          "output_type": "execute_result",
          "data": {
            "text/plain": [
              "['', '[UNK]', 'the', 'to', 'of']"
            ]
          },
          "metadata": {},
          "execution_count": 28
        }
      ]
    },
    {
      "cell_type": "code",
      "source": [
        "#Creating word_index mapping to the vocabulary created from the vectorizer\n",
        "voc = vectorizer.get_vocabulary()\n",
        "word_index = dict(zip(voc, range(len(voc))))"
      ],
      "metadata": {
        "id": "AoI-8nzb-kuI"
      },
      "execution_count": null,
      "outputs": []
    },
    {
      "cell_type": "code",
      "source": [
        "#Testing word_index\n",
        "test = [\"cat\", \"sat\", \"mat\"]\n",
        "[word_index[w] for w in test]"
      ],
      "metadata": {
        "colab": {
          "base_uri": "https://localhost:8080/"
        },
        "id": "mfwxhzlR-qJw",
        "outputId": "e09ddc00-75b6-4e45-a52e-36b8fd5fcf54"
      },
      "execution_count": null,
      "outputs": [
        {
          "output_type": "execute_result",
          "data": {
            "text/plain": [
              "[3553, 2595, 6667]"
            ]
          },
          "metadata": {},
          "execution_count": 30
        }
      ]
    },
    {
      "cell_type": "markdown",
      "metadata": {
        "id": "wty-rQi97aDA"
      },
      "source": [
        "### Get Embeddings-Using GLOVE word representation\n",
        "GloVe is an unsupervised learning algorithm for obtaining vector representations for words"
      ]
    },
    {
      "cell_type": "markdown",
      "source": [
        "Word embedding is a learned representation for text where words that have the same meaning have a similar representation. There are different models used for word embedding tasks. the two most popular word embedding models, Word2Vec and Glove. GloVe is an unsupervised learning algorithm for obtaining vector representations for words, while word2vec is neural network model. Both are implemented in Python using the API provided by Gensim. Both do the same thing and give similar results. We decided on GloVe because of model simplicity in greating the embedding layer. More can be learned about the GloVe on Stanford’s (https://nlp.stanford.edu/projects/glove/)\n",
        "\n",
        "This is created by Stanford University. Glove has pre-defined dense vectors for around every 6 billion words of English literature along with many other general use characters like comma, braces, and semicolons. \n",
        "\n",
        "We download all the vector type, but we only test the 100 and 200 dimension vector for our embedding layer. 200 seens to give a better result viz a vis other parameter configuration. \n",
        "\n"
      ],
      "metadata": {
        "id": "ABXqAmgwRHze"
      }
    },
    {
      "cell_type": "code",
      "execution_count": null,
      "metadata": {
        "id": "qMCfSy7FUImb",
        "colab": {
          "base_uri": "https://localhost:8080/"
        },
        "outputId": "3a77c37f-8524-403f-aaa2-86709946ea7e"
      },
      "outputs": [
        {
          "output_type": "stream",
          "name": "stdout",
          "text": [
            "--2022-04-22 00:33:57--  http://nlp.stanford.edu/data/glove.6B.zip\n",
            "Resolving nlp.stanford.edu (nlp.stanford.edu)... 171.64.67.140\n",
            "Connecting to nlp.stanford.edu (nlp.stanford.edu)|171.64.67.140|:80... connected.\n",
            "HTTP request sent, awaiting response... 302 Found\n",
            "Location: https://nlp.stanford.edu/data/glove.6B.zip [following]\n",
            "--2022-04-22 00:33:58--  https://nlp.stanford.edu/data/glove.6B.zip\n",
            "Connecting to nlp.stanford.edu (nlp.stanford.edu)|171.64.67.140|:443... connected.\n",
            "HTTP request sent, awaiting response... 301 Moved Permanently\n",
            "Location: http://downloads.cs.stanford.edu/nlp/data/glove.6B.zip [following]\n",
            "--2022-04-22 00:33:58--  http://downloads.cs.stanford.edu/nlp/data/glove.6B.zip\n",
            "Resolving downloads.cs.stanford.edu (downloads.cs.stanford.edu)... 171.64.64.22\n",
            "Connecting to downloads.cs.stanford.edu (downloads.cs.stanford.edu)|171.64.64.22|:80... connected.\n",
            "HTTP request sent, awaiting response... 200 OK\n",
            "Length: 862182613 (822M) [application/zip]\n",
            "Saving to: ‘glove.6B.zip’\n",
            "\n",
            "glove.6B.zip        100%[===================>] 822.24M  5.03MB/s    in 2m 40s  \n",
            "\n",
            "2022-04-22 00:36:37 (5.15 MB/s) - ‘glove.6B.zip’ saved [862182613/862182613]\n",
            "\n"
          ]
        }
      ],
      "source": [
        "!wget http://nlp.stanford.edu/data/glove.6B.zip\n",
        "!unzip -q glove.6B.zip"
      ]
    },
    {
      "cell_type": "markdown",
      "source": [
        "# **Training the Embedding**"
      ],
      "metadata": {
        "id": "pLfzmDCNBUhu"
      }
    },
    {
      "cell_type": "markdown",
      "source": [
        "Word embeddings provide a method of utilising an efficient, dense representation in which words that are related in meaning have a similar encoding. It is important to note that you do not have to supply this encoding manually. An embedding is a dense vector of floating point values that has been constructed (the length of the vector is a parameter you specify). Instead of having to define the values for the embedding explicitly, they may be learnt through training (weights learned by the model during training, in the same way a model learns weights for a dense layer)."
      ],
      "metadata": {
        "id": "z-OLfpXpYDxP"
      }
    },
    {
      "cell_type": "markdown",
      "source": [
        "We use the 200 dimension vector and we got 400,000 vector words. "
      ],
      "metadata": {
        "id": "SM1adUghZjDJ"
      }
    },
    {
      "cell_type": "code",
      "execution_count": null,
      "metadata": {
        "colab": {
          "base_uri": "https://localhost:8080/"
        },
        "id": "IRGSBCqdTnuq",
        "outputId": "97ef4c60-b2be-4602-f874-4d6a85b26092"
      },
      "outputs": [
        {
          "output_type": "stream",
          "name": "stdout",
          "text": [
            "Total 400000 word vectors in Glove 6B 200d.\n"
          ]
        }
      ],
      "source": [
        "embeddings_index = {}\n",
        "f = open('/content/glove.6B.200d.txt',encoding='utf8')# source of the downloaded glove files-use the 200d.txt\n",
        "for line in f:\n",
        "    values = line.split()\n",
        "    word = values[0]\n",
        "    coefs = np.asarray(values[1:], dtype='float32')\n",
        "    embeddings_index[word] = coefs\n",
        "f.close()\n",
        "\n",
        "print('Total %s word vectors in Glove 6B 200d.' % len(embeddings_index))"
      ]
    },
    {
      "cell_type": "markdown",
      "source": [
        "In order to begin, we must first construct an embedding matrix using the embedding indexes of the GloVe word vector. An embedding matrix is a collection of all words and the embeddings that correspond to each of those words. A relationship representation problem for all of the words in the training dataset is addressed by the concept of an embedding matrix. We employ Glove embedding to solve this problem, and we determine the dimension and required number of tokens, which in our case is the length of the vectorized vocalbulary.\n",
        "\n",
        "Furthermore, we attempt to compare and contrast the number of hits and missed words between Glove embedding and our training vocabulary. The outcome is excellent, with more than 70% of the targets being hit."
      ],
      "metadata": {
        "id": "p0-JmK187N3q"
      }
    },
    {
      "cell_type": "code",
      "execution_count": null,
      "metadata": {
        "id": "H8COVvd7VwBe",
        "colab": {
          "base_uri": "https://localhost:8080/"
        },
        "outputId": "42399cbc-553b-45c0-c6ed-5c70e2bdd9b0"
      },
      "outputs": [
        {
          "output_type": "stream",
          "name": "stdout",
          "text": [
            "Converted 23885 words (6115 misses)\n"
          ]
        }
      ],
      "source": [
        "num_tokens = len(voc) + 2\n",
        "embedding_dim = 200\n",
        "hits = 0\n",
        "misses = 0\n",
        "embedding_matrix = np.random.random((num_tokens, embedding_dim))\n",
        "for word, i in word_index.items():\n",
        "    embedding_vector = embeddings_index.get(word)\n",
        "    if embedding_vector is not None:\n",
        "        # words not found in embedding index will be all-zeros.\n",
        "        embedding_matrix[i] = embedding_vector\n",
        "        hits += 1\n",
        "    else:\n",
        "        misses += 1\n",
        "print(\"Converted %d words (%d misses)\" % (hits, misses))\n"
      ]
    },
    {
      "cell_type": "markdown",
      "source": [
        "# **PreTrained Embedding**"
      ],
      "metadata": {
        "id": "T5p-dezbBhJ7"
      }
    },
    {
      "cell_type": "markdown",
      "source": [
        "The pre-trained GloVe word embeddings have already been downloaded and will be used. A zip file containing 400K words and their embeddings was downloaded for this example. These word embeddings have already been stored for you in the data directory and will be used here.\n",
        "\n",
        "We used the embedding matrix, number of tokens[20000,30000], and embedding dimension[100,200] to develop our neural network's pretrained embedding layer. Due to the fact that we are already employing training embedding in our Neural network, we have set the training to false."
      ],
      "metadata": {
        "id": "hO9xx5uXSjTO"
      }
    },
    {
      "cell_type": "code",
      "execution_count": null,
      "metadata": {
        "id": "QDPl-68q70v2",
        "colab": {
          "base_uri": "https://localhost:8080/"
        },
        "outputId": "b68024cd-b8bb-4601-b761-44c3ca3cf53a"
      },
      "outputs": [
        {
          "output_type": "execute_result",
          "data": {
            "text/plain": [
              "<keras.layers.embeddings.Embedding at 0x7fc30bd217d0>"
            ]
          },
          "metadata": {},
          "execution_count": 34
        }
      ],
      "source": [
        "embedding_layer = Embedding(\n",
        "num_tokens,\n",
        "embedding_dim,\n",
        "embeddings_initializer=keras.initializers.Constant(embedding_matrix),\n",
        "trainable=False,)\n",
        "embedding_layer"
      ]
    },
    {
      "cell_type": "markdown",
      "metadata": {
        "id": "sE6To8f9tZhR"
      },
      "source": [
        "## **Preparing Data input for Models**"
      ]
    },
    {
      "cell_type": "markdown",
      "source": [
        "Because neural networks operate on vectors, we turned all of the training, validation, and testing data into an array. This is critical because neural networks are designed to perform operations on vectors. The vectors are represented as multidimensional arrays in your code. Vectors are useful in deep learning for a variety of reasons, one of which is a particular operation called dot product. The dot product of two vectors informs you how similar they are in terms of direction and is scaled by the magnitude of the two vectors that are being used to compute it."
      ],
      "metadata": {
        "id": "T6qjRQw0_rt7"
      }
    },
    {
      "cell_type": "code",
      "execution_count": null,
      "metadata": {
        "id": "CqZa8tom0b7d"
      },
      "outputs": [],
      "source": [
        "class_names=y.unique()\n",
        "label_names=list(class_names)\n",
        "label_index=(np.unique(label_names, return_inverse=True)[1])\n",
        "label_code=(np.unique(y, return_inverse=True)[1])"
      ]
    },
    {
      "cell_type": "code",
      "source": [
        "print(X_train.shape, X_val.shape)\n",
        "print(Y_train.shape, Y_val.shape)"
      ],
      "metadata": {
        "colab": {
          "base_uri": "https://localhost:8080/"
        },
        "id": "1vEH6fX1p6Vt",
        "outputId": "b614c306-7af3-4b5e-9dc2-cda454a110df"
      },
      "execution_count": null,
      "outputs": [
        {
          "output_type": "stream",
          "name": "stdout",
          "text": [
            "(9051,) (2263,)\n",
            "(9051,) (2263,)\n"
          ]
        }
      ]
    },
    {
      "cell_type": "code",
      "source": [
        "x_train = vectorizer(np.array([[s] for s in X_train.values.tolist()])).numpy()\n",
        "x_val = vectorizer(np.array([[s] for s in X_val.values.tolist()])).numpy()\n",
        "x_test = vectorizer(np.array([[s] for s in X_test.values.tolist()])).numpy()\n",
        "type(x_test)"
      ],
      "metadata": {
        "colab": {
          "base_uri": "https://localhost:8080/"
        },
        "id": "MsKCyD1oAhoS",
        "outputId": "f8307ad0-dc31-40fc-aac5-2ffe5b5a31ba"
      },
      "execution_count": null,
      "outputs": [
        {
          "output_type": "execute_result",
          "data": {
            "text/plain": [
              "numpy.ndarray"
            ]
          },
          "metadata": {},
          "execution_count": 37
        }
      ]
    },
    {
      "cell_type": "code",
      "source": [
        "y_train=np.array(np.unique(Y_train, return_inverse=True)[1])\n",
        "y_val=(np.unique(Y_val, return_inverse=True)[1])\n",
        "y_test=(np.unique(y_test, return_inverse=True)[1])"
      ],
      "metadata": {
        "id": "YjhJ5ssKHF58"
      },
      "execution_count": null,
      "outputs": []
    },
    {
      "cell_type": "markdown",
      "source": [
        "# **1 dimensional CNN | Conv1D Maxpooling and GlobalMax Pooling Using PreTrained Embedding**"
      ],
      "metadata": {
        "id": "QTYUxlniTX8K"
      }
    },
    {
      "cell_type": "markdown",
      "source": [
        "Feature mapping are made by convolutional layers of a convolutional neural network by applying learned filters to input data over and over again. It's easier for lower-level features to be learned at input levels nearer the input, while higher-level features (like forms and specific patterns) are learned at input levels deeper in the model. This is because convolutional layers in deep models are stacked.\n",
        "\n",
        "Maximum pooling or max pooling is a pooling process that looks for the biggest value in each patch of each feature map. This process is called maximum pooling or max pooling.\n",
        "\n",
        "Because average pooling would only show how common a feature is, down sampled or pooled data show the patch's most prominent feature instead, which is what you get with this method.\n",
        "\n",
        "Another type of pooling, called global pooling, is used from time to time.\n",
        "\n",
        "It's called \"global pooling\" when you don't down sample parts of the input feature data. Instead, the entire feature data is down sampled to one value. When setting the pool size to match the size of an input feature data, this is the same thing as setting the pool size to match.\n",
        "\n",
        "Global pooling can be used to quickly summarise a feature in a data set. If you don't want to use a fully linked layer, you can also move from feature data to the model's predictions by using a linked layer.\n",
        "\n",
        "In this Conv1D one dimensional convolutional neural network, we use Maxpooling and GlobalMax Pooling with size of five close to input and output dense layer respectively.\n",
        "\n",
        "We also, use the pretrained embedding layer to train the model. Callbacl, earlystopping and modelcheckpoint are implemented to optimise the process.\n",
        "\n",
        "Our choice of loss sparse_categorical_crossentropy\", optimizer=\"rmsprop\" are fully inline with the nature of our dataset. Various activition function-RELU and Softmax. In this model a dropout of 0.5 was applied at the end.\n",
        "\n",
        "The testing accuracy 73.81% is highest, with 200 embedding dimension(D) and 30,000 vocabulary(Val) as again 100D and 20,000(Val)"
      ],
      "metadata": {
        "id": "jbr4OMzcMlOp"
      }
    },
    {
      "cell_type": "markdown",
      "source": [
        ""
      ],
      "metadata": {
        "id": "NqwMOJK3DEIQ"
      }
    },
    {
      "cell_type": "code",
      "source": [
        "from tensorflow.keras import layers\n",
        "\n",
        "int_sequences_input = keras.Input(shape=(None,), dtype=\"int64\")\n",
        "embedded_sequences = embedding_layer(int_sequences_input)\n",
        "x = layers.Conv1D(128, 5, activation=\"relu\")(embedded_sequences)\n",
        "x = layers.MaxPooling1D(5)(x)\n",
        "x = layers.Conv1D(128, 5, activation=\"relu\")(x)\n",
        "x = layers.MaxPooling1D(5)(x)\n",
        "x = layers.Conv1D(128, 5, activation=\"relu\")(x)\n",
        "x = layers.GlobalMaxPooling1D()(x)\n",
        "x = layers.Dense(128, activation=\"relu\")(x)\n",
        "x = layers.Dropout(0.5)(x)\n",
        "preds = layers.Dense(len(label_names), activation=\"softmax\")(x)\n",
        "model1 = keras.Model(int_sequences_input, preds)\n",
        "model1.summary()"
      ],
      "metadata": {
        "colab": {
          "base_uri": "https://localhost:8080/"
        },
        "id": "dE89f2ZypVur",
        "outputId": "64d88816-68de-430a-88ec-d7b9257dc63c"
      },
      "execution_count": null,
      "outputs": [
        {
          "output_type": "stream",
          "name": "stdout",
          "text": [
            "Model: \"model\"\n",
            "_________________________________________________________________\n",
            " Layer (type)                Output Shape              Param #   \n",
            "=================================================================\n",
            " input_1 (InputLayer)        [(None, None)]            0         \n",
            "                                                                 \n",
            " embedding (Embedding)       (None, None, 200)         6000400   \n",
            "                                                                 \n",
            " conv1d (Conv1D)             (None, None, 128)         128128    \n",
            "                                                                 \n",
            " max_pooling1d (MaxPooling1D  (None, None, 128)        0         \n",
            " )                                                               \n",
            "                                                                 \n",
            " conv1d_1 (Conv1D)           (None, None, 128)         82048     \n",
            "                                                                 \n",
            " max_pooling1d_1 (MaxPooling  (None, None, 128)        0         \n",
            " 1D)                                                             \n",
            "                                                                 \n",
            " conv1d_2 (Conv1D)           (None, None, 128)         82048     \n",
            "                                                                 \n",
            " global_max_pooling1d (Globa  (None, 128)              0         \n",
            " lMaxPooling1D)                                                  \n",
            "                                                                 \n",
            " dense (Dense)               (None, 128)               16512     \n",
            "                                                                 \n",
            " dropout (Dropout)           (None, 128)               0         \n",
            "                                                                 \n",
            " dense_1 (Dense)             (None, 20)                2580      \n",
            "                                                                 \n",
            "=================================================================\n",
            "Total params: 6,311,716\n",
            "Trainable params: 311,316\n",
            "Non-trainable params: 6,000,400\n",
            "_________________________________________________________________\n"
          ]
        }
      ]
    },
    {
      "cell_type": "markdown",
      "source": [
        "# **Graphical represention of Model1**"
      ],
      "metadata": {
        "id": "VyJKqZPgfYzz"
      }
    },
    {
      "cell_type": "code",
      "source": [
        "keras.utils.plot_model(model1, \"multi_input_and_output_model.png\", show_shapes=True)"
      ],
      "metadata": {
        "colab": {
          "base_uri": "https://localhost:8080/",
          "height": 1000
        },
        "id": "LARn09KKyP_3",
        "outputId": "d4dcbec6-f605-4ba2-c6a8-343147d45d48"
      },
      "execution_count": null,
      "outputs": [
        {
          "output_type": "execute_result",
          "data": {
            "text/plain": [
              "<IPython.core.display.Image object>"
            ],
            "image/png": "[encoded data removed]"
          },
          "metadata": {},
          "execution_count": 40
        }
      ]
    },
    {
      "cell_type": "markdown",
      "source": [
        "# **Training Model1**"
      ],
      "metadata": {
        "id": "dMVvphOpfR-F"
      }
    },
    {
      "cell_type": "code",
      "source": [
        "callbacks = [\n",
        "    keras.callbacks.EarlyStopping(\n",
        "        # Stop training when `val_loss` is no longer improving\n",
        "        monitor=\"val_loss\",\n",
        "        # \"no longer improving\" being defined as \"no better than 1e-2 less\"\n",
        "        min_delta=1e-2,\n",
        "        # \"no longer improving\" being further defined as \"for at least 10 epochs\"\n",
        "        patience=10,\n",
        "        verbose=1,\n",
        "    )\n",
        "]"
      ],
      "metadata": {
        "id": "hWXTtG7OzJ_E"
      },
      "execution_count": null,
      "outputs": []
    },
    {
      "cell_type": "code",
      "source": [
        "epochs = 50\n",
        "batch_size=64\n",
        "model1.compile(\n",
        "    loss=\"sparse_categorical_crossentropy\", optimizer=\"rmsprop\", metrics=[\"acc\"]\n",
        ")\n",
        "cp=ModelCheckpoint('model_1.hdf5',monitor='val_acc',verbose=1,save_best_only=True)\n",
        "history1=model1.fit(x_train, y_train, epochs=epochs, validation_data=(x_val, y_val),batch_size=batch_size,callbacks=callbacks)"
      ],
      "metadata": {
        "colab": {
          "base_uri": "https://localhost:8080/"
        },
        "id": "qJfqoQScp5Dz",
        "outputId": "dff70078-a1a6-4acd-de03-6073f0cf5f7b"
      },
      "execution_count": null,
      "outputs": [
        {
          "output_type": "stream",
          "name": "stdout",
          "text": [
            "Epoch 1/50\n",
            "142/142 [==============================] - 19s 12ms/step - loss: 2.7069 - acc: 0.1336 - val_loss: 2.0638 - val_acc: 0.2320\n",
            "Epoch 2/50\n",
            "142/142 [==============================] - 1s 8ms/step - loss: 1.7764 - acc: 0.3900 - val_loss: 1.2805 - val_acc: 0.5440\n",
            "Epoch 3/50\n",
            "142/142 [==============================] - 1s 8ms/step - loss: 1.2043 - acc: 0.5799 - val_loss: 1.0096 - val_acc: 0.6416\n",
            "Epoch 4/50\n",
            "142/142 [==============================] - 1s 8ms/step - loss: 0.8724 - acc: 0.6956 - val_loss: 1.1963 - val_acc: 0.6138\n",
            "Epoch 5/50\n",
            "142/142 [==============================] - 1s 8ms/step - loss: 0.6532 - acc: 0.7756 - val_loss: 0.8925 - val_acc: 0.7269\n",
            "Epoch 6/50\n",
            "142/142 [==============================] - 1s 8ms/step - loss: 0.5021 - acc: 0.8302 - val_loss: 0.7207 - val_acc: 0.7702\n",
            "Epoch 7/50\n",
            "142/142 [==============================] - 1s 8ms/step - loss: 0.3525 - acc: 0.8739 - val_loss: 0.8567 - val_acc: 0.7525\n",
            "Epoch 8/50\n",
            "142/142 [==============================] - 1s 8ms/step - loss: 0.2721 - acc: 0.9097 - val_loss: 1.0565 - val_acc: 0.7357\n",
            "Epoch 9/50\n",
            "142/142 [==============================] - 1s 8ms/step - loss: 0.2061 - acc: 0.9334 - val_loss: 0.7216 - val_acc: 0.8069\n",
            "Epoch 10/50\n",
            "142/142 [==============================] - 1s 8ms/step - loss: 0.1591 - acc: 0.9504 - val_loss: 0.7750 - val_acc: 0.8047\n",
            "Epoch 11/50\n",
            "142/142 [==============================] - 1s 8ms/step - loss: 0.1254 - acc: 0.9607 - val_loss: 0.7841 - val_acc: 0.8228\n",
            "Epoch 12/50\n",
            "142/142 [==============================] - 1s 8ms/step - loss: 0.0977 - acc: 0.9719 - val_loss: 1.2202 - val_acc: 0.7857\n",
            "Epoch 13/50\n",
            "142/142 [==============================] - 1s 8ms/step - loss: 0.0828 - acc: 0.9743 - val_loss: 0.9854 - val_acc: 0.8193\n",
            "Epoch 14/50\n",
            "142/142 [==============================] - 1s 8ms/step - loss: 0.0889 - acc: 0.9776 - val_loss: 1.3476 - val_acc: 0.7813\n",
            "Epoch 15/50\n",
            "142/142 [==============================] - 1s 8ms/step - loss: 0.0685 - acc: 0.9817 - val_loss: 1.1123 - val_acc: 0.8184\n",
            "Epoch 16/50\n",
            "142/142 [==============================] - 1s 8ms/step - loss: 0.0777 - acc: 0.9801 - val_loss: 1.0577 - val_acc: 0.8157\n",
            "Epoch 16: early stopping\n"
          ]
        }
      ]
    },
    {
      "cell_type": "markdown",
      "source": [
        "# **Plotting the Accuracy and validation Loss for model1**"
      ],
      "metadata": {
        "id": "a1g87gxue8pk"
      }
    },
    {
      "cell_type": "code",
      "source": [
        "fig, (ax1, ax2) = plt.subplots(1, 2, figsize=(15, 5))\n",
        "\n",
        "ax1.plot(history1.history[\"loss\"])\n",
        "ax1.plot(history1.history[\"val_loss\"])\n",
        "ax1.legend([\"train\", \"val\"], loc=\"upper right\")\n",
        "ax1.set_xlabel(\"Epochs\")\n",
        "ax1.set_ylabel(\"Loss\")\n",
        "\n",
        "ax2.plot(history1.history[\"acc\"])\n",
        "ax2.plot(history1.history[\"val_acc\"])\n",
        "ax2.legend([\"train\", \"val\"], loc=\"upper right\")\n",
        "ax2.set_xlabel(\"Epochs\")\n",
        "ax2.set_ylabel(\"Accuracy\")\n",
        "plt.show()"
      ],
      "metadata": {
        "colab": {
          "base_uri": "https://localhost:8080/",
          "height": 334
        },
        "id": "jbfP51oe1PcO",
        "outputId": "e64a2e23-5eaf-478f-9a58-c7de1937f0c9"
      },
      "execution_count": null,
      "outputs": [
        {
          "output_type": "display_data",
          "data": {
            "text/plain": [
              "<Figure size 1080x360 with 2 Axes>"
            ],
            "image/png": "[encoded data removed]"
          },
          "metadata": {
            "needs_background": "light"
          }
        }
      ]
    },
    {
      "cell_type": "markdown",
      "source": [
        "# **Testing Model1 with testing dataset**"
      ],
      "metadata": {
        "id": "U2yMd1FueRHr"
      }
    },
    {
      "cell_type": "code",
      "source": [
        "_, test_accuracy = model1.evaluate(x=x_test, y=y_test, verbose=0)\n",
        "print(f\"Test accuracy: {round(test_accuracy * 100, 2)}%\")"
      ],
      "metadata": {
        "colab": {
          "base_uri": "https://localhost:8080/"
        },
        "id": "FSE1dNh44jLn",
        "outputId": "2102f861-a0ec-4469-cda8-6c2b9d83b2a4"
      },
      "execution_count": null,
      "outputs": [
        {
          "output_type": "stream",
          "name": "stdout",
          "text": [
            "Test accuracy: 72.08%\n"
          ]
        }
      ]
    },
    {
      "cell_type": "markdown",
      "source": [
        "# **Predicting using unknow raw text-Model1**"
      ],
      "metadata": {
        "id": "jbtoaokdeIZM"
      }
    },
    {
      "cell_type": "code",
      "source": [
        "string_input = keras.Input(shape=(1,), dtype=\"string\")\n",
        "x = vectorizer(string_input)\n",
        "preds = model1(x)\n",
        "end_to_end_model = keras.Model(string_input, preds)\n",
        "\n",
        "probabilities = end_to_end_model.predict([['Update and Re-fit a Model Call Description. update will update and (by default) re-fit a model']])\n",
        "\n",
        "class_names[np.argmax(probabilities[0])]"
      ],
      "metadata": {
        "colab": {
          "base_uri": "https://localhost:8080/",
          "height": 74
        },
        "id": "bb05m6k83qDp",
        "outputId": "a98b22d8-b2b7-481c-d9ed-7748b5e0f631"
      },
      "execution_count": null,
      "outputs": [
        {
          "output_type": "stream",
          "name": "stdout",
          "text": [
            "WARNING:tensorflow:5 out of the last 5 calls to <function Model.make_predict_function.<locals>.predict_function at 0x7fbcd0bb34d0> triggered tf.function retracing. Tracing is expensive and the excessive number of tracings could be due to (1) creating @tf.function repeatedly in a loop, (2) passing tensors with different shapes, (3) passing Python objects instead of tensors. For (1), please define your @tf.function outside of the loop. For (2), @tf.function has experimental_relax_shapes=True option that relaxes argument shapes that can avoid unnecessary retracing. For (3), please refer to https://www.tensorflow.org/guide/function#controlling_retracing and https://www.tensorflow.org/api_docs/python/tf/function for  more details.\n"
          ]
        },
        {
          "output_type": "execute_result",
          "data": {
            "text/plain": [
              "'comp.os.ms-windows.misc'"
            ],
            "application/vnd.google.colaboratory.intrinsic+json": {
              "type": "string"
            }
          },
          "metadata": {},
          "execution_count": 88
        }
      ]
    },
    {
      "cell_type": "markdown",
      "metadata": {
        "id": "OxSZNcvgwTJI"
      },
      "source": [
        "## **1 dimensional CNN | Conv1D-without using Pre-trained Embedding**"
      ]
    },
    {
      "cell_type": "markdown",
      "source": [
        "Similar to the above model this one dimensional convolution without the pretrained embedding,we use tensorflow pure embedding.With similar features(activation,loss, optimazer etc). The testing accuracy 73.71% is highest, with 200 embedding dimension(D) and 30,000 vocabulary(Val) as again 100D and 20,000(Val). Slightly less that the above model."
      ],
      "metadata": {
        "id": "LPdKNp04REN-"
      }
    },
    {
      "cell_type": "code",
      "execution_count": null,
      "metadata": {
        "id": "k0p80FQYRt0D"
      },
      "outputs": [],
      "source": [
        "import tensorflow as tf"
      ]
    },
    {
      "cell_type": "code",
      "execution_count": null,
      "metadata": {
        "id": "YNfOLgETP1s2",
        "colab": {
          "base_uri": "https://localhost:8080/"
        },
        "outputId": "416ae88c-05cd-4803-bc45-497304687e57"
      },
      "outputs": [
        {
          "output_type": "stream",
          "name": "stdout",
          "text": [
            "Simple Neural Network\n",
            "Model: \"model_1\"\n",
            "_________________________________________________________________\n",
            " Layer (type)                Output Shape              Param #   \n",
            "=================================================================\n",
            " input_2 (InputLayer)        [(None, None)]            0         \n",
            "                                                                 \n",
            " embedding_1 (Embedding)     (None, None, 200)         6000400   \n",
            "                                                                 \n",
            " dropout_1 (Dropout)         (None, None, 200)         0         \n",
            "                                                                 \n",
            " conv1d_3 (Conv1D)           (None, None, 128)         179328    \n",
            "                                                                 \n",
            " conv1d_4 (Conv1D)           (None, None, 128)         114816    \n",
            "                                                                 \n",
            " global_max_pooling1d_1 (Glo  (None, 128)              0         \n",
            " balMaxPooling1D)                                                \n",
            "                                                                 \n",
            " dense_2 (Dense)             (None, 128)               16512     \n",
            "                                                                 \n",
            " dropout_2 (Dropout)         (None, 128)               0         \n",
            "                                                                 \n",
            " predictions (Dense)         (None, 20)                2580      \n",
            "                                                                 \n",
            "=================================================================\n",
            "Total params: 6,313,636\n",
            "Trainable params: 6,313,636\n",
            "Non-trainable params: 0\n",
            "_________________________________________________________________\n"
          ]
        }
      ],
      "source": [
        "from tensorflow.keras import layers\n",
        "\n",
        "# A integer input for vocab indices.\n",
        "inputs = tf.keras.Input(shape=(None,), dtype=\"int64\")\n",
        "\n",
        "# Next, we add a layer to map those vocab indices into a space of dimensionality\n",
        "# 'embedding_dim'.\n",
        "x = layers.Embedding(num_tokens, embedding_dim)(inputs)\n",
        "x = layers.Dropout(0.5)(x)\n",
        "\n",
        "# Conv1D + global max pooling\n",
        "x = layers.Conv1D(128, 7, padding=\"valid\", activation=\"relu\", strides=3)(x)\n",
        "x = layers.Conv1D(128, 7, padding=\"valid\", activation=\"relu\", strides=3)(x)\n",
        "x = layers.GlobalMaxPooling1D()(x)\n",
        "\n",
        "# We add a vanilla hidden layer:\n",
        "x = layers.Dense(128, activation=\"relu\")(x)\n",
        "x = layers.Dropout(0.5)(x)\n",
        "\n",
        "# We project onto a multiclass unit output layer, and squash it with a softmax:\n",
        "predictions = layers.Dense(len(label_names), activation=\"softmax\", name=\"predictions\")(x)\n",
        "\n",
        "model2 = tf.keras.Model(inputs, predictions)\n",
        "\n",
        "# Compile the model with multiclass crossentropy loss and an rmsprop optimizer.\n",
        "model2.compile(loss=\"sparse_categorical_crossentropy\", optimizer=\"rmsprop\", metrics=[\"accuracy\"])\n",
        "print(\"Simple Neural Network\")\n",
        "model2.summary()"
      ]
    },
    {
      "cell_type": "markdown",
      "source": [
        "# **Graphical representation of Model2**\n"
      ],
      "metadata": {
        "id": "ygLan18fd4SJ"
      }
    },
    {
      "cell_type": "code",
      "source": [
        "keras.utils.plot_model(model2, \"multi_input_and_output_model.png\", show_shapes=True)"
      ],
      "metadata": {
        "id": "07aI2MgIbgde",
        "colab": {
          "base_uri": "https://localhost:8080/",
          "height": 976
        },
        "outputId": "8cac7800-3f8f-4989-dd64-7c0cba81e59d"
      },
      "execution_count": null,
      "outputs": [
        {
          "output_type": "execute_result",
          "data": {
            "text/plain": [
              "<IPython.core.display.Image object>"
            ],
            "image/png": "[encoded data removed]"
          },
          "metadata": {},
          "execution_count": 47
        }
      ]
    },
    {
      "cell_type": "markdown",
      "source": [
        "# **Training of Model2**"
      ],
      "metadata": {
        "id": "Zd3sWMw-d_6f"
      }
    },
    {
      "cell_type": "code",
      "source": [
        "callbacks = [\n",
        "    keras.callbacks.EarlyStopping(\n",
        "        # Stop training when `val_loss` is no longer improving\n",
        "        monitor=\"val_loss\",\n",
        "        # \"no longer improving\" being defined as \"no better than 1e-2 less\"\n",
        "        min_delta=1e-2,\n",
        "        # \"no longer improving\" being further defined as \"for at least 2 epochs\"\n",
        "        patience=10,\n",
        "        verbose=1,\n",
        "    )\n",
        "]"
      ],
      "metadata": {
        "id": "z-3TBeHaXXNJ"
      },
      "execution_count": null,
      "outputs": []
    },
    {
      "cell_type": "code",
      "execution_count": null,
      "metadata": {
        "id": "BJijFWFyR-68",
        "colab": {
          "base_uri": "https://localhost:8080/"
        },
        "outputId": "663ed6ce-6e9c-4cee-801a-5c3b2eaa0ae6"
      },
      "outputs": [
        {
          "output_type": "stream",
          "name": "stdout",
          "text": [
            "Epoch 1/50\n",
            "142/142 [==============================] - 2s 11ms/step - loss: 2.9318 - accuracy: 0.0768 - val_loss: 2.6701 - val_accuracy: 0.1008\n",
            "Epoch 2/50\n",
            "142/142 [==============================] - 1s 9ms/step - loss: 2.5117 - accuracy: 0.1406 - val_loss: 2.2341 - val_accuracy: 0.2095\n",
            "Epoch 3/50\n",
            "142/142 [==============================] - 1s 9ms/step - loss: 2.1431 - accuracy: 0.2248 - val_loss: 1.9282 - val_accuracy: 0.3235\n",
            "Epoch 4/50\n",
            "142/142 [==============================] - 1s 10ms/step - loss: 1.7277 - accuracy: 0.3715 - val_loss: 1.4743 - val_accuracy: 0.4971\n",
            "Epoch 5/50\n",
            "142/142 [==============================] - 1s 9ms/step - loss: 1.2288 - accuracy: 0.5606 - val_loss: 1.0718 - val_accuracy: 0.6540\n",
            "Epoch 6/50\n",
            "142/142 [==============================] - 1s 9ms/step - loss: 0.7883 - accuracy: 0.7270 - val_loss: 0.8466 - val_accuracy: 0.7278\n",
            "Epoch 7/50\n",
            "142/142 [==============================] - 1s 9ms/step - loss: 0.5122 - accuracy: 0.8271 - val_loss: 0.7552 - val_accuracy: 0.7631\n",
            "Epoch 8/50\n",
            "142/142 [==============================] - 1s 10ms/step - loss: 0.3504 - accuracy: 0.8860 - val_loss: 0.7120 - val_accuracy: 0.7919\n",
            "Epoch 9/50\n",
            "142/142 [==============================] - 1s 9ms/step - loss: 0.2411 - accuracy: 0.9243 - val_loss: 0.7116 - val_accuracy: 0.8184\n",
            "Epoch 10/50\n",
            "142/142 [==============================] - 1s 9ms/step - loss: 0.1622 - accuracy: 0.9488 - val_loss: 0.7416 - val_accuracy: 0.8312\n",
            "Epoch 11/50\n",
            "142/142 [==============================] - 1s 9ms/step - loss: 0.1152 - accuracy: 0.9625 - val_loss: 0.7684 - val_accuracy: 0.8383\n",
            "Epoch 12/50\n",
            "142/142 [==============================] - 1s 9ms/step - loss: 0.0976 - accuracy: 0.9702 - val_loss: 0.7511 - val_accuracy: 0.8475\n",
            "Epoch 13/50\n",
            "142/142 [==============================] - 1s 9ms/step - loss: 0.0658 - accuracy: 0.9785 - val_loss: 0.8096 - val_accuracy: 0.8471\n",
            "Epoch 14/50\n",
            "142/142 [==============================] - 1s 9ms/step - loss: 0.0510 - accuracy: 0.9841 - val_loss: 0.8609 - val_accuracy: 0.8480\n",
            "Epoch 15/50\n",
            "142/142 [==============================] - 1s 9ms/step - loss: 0.0366 - accuracy: 0.9880 - val_loss: 0.9354 - val_accuracy: 0.8489\n",
            "Epoch 16/50\n",
            "142/142 [==============================] - 1s 9ms/step - loss: 0.0392 - accuracy: 0.9886 - val_loss: 0.9677 - val_accuracy: 0.8498\n",
            "Epoch 17/50\n",
            "142/142 [==============================] - 1s 9ms/step - loss: 0.0318 - accuracy: 0.9903 - val_loss: 1.0127 - val_accuracy: 0.8573\n",
            "Epoch 18/50\n",
            "142/142 [==============================] - 1s 9ms/step - loss: 0.0214 - accuracy: 0.9938 - val_loss: 1.2035 - val_accuracy: 0.8369\n",
            "Epoch 18: early stopping\n"
          ]
        }
      ],
      "source": [
        "epochs = 50\n",
        "batch_size=64\n",
        "# Fit the model using the train and test datasets.\n",
        "cp=ModelCheckpoint('model_1.hdf5',monitor='val_acc',verbose=1,save_best_only=True)\n",
        "history2=model2.fit(x_train, y_train,validation_data=(x_val, y_val), epochs=epochs,batch_size=batch_size,callbacks=callbacks)"
      ]
    },
    {
      "cell_type": "markdown",
      "source": [
        "# **Plotting Accuracy and validation loss of Model2**"
      ],
      "metadata": {
        "id": "xqsQ0ohVdoV-"
      }
    },
    {
      "cell_type": "code",
      "source": [
        "fig, (ax1, ax2) = plt.subplots(1, 2, figsize=(15, 5))\n",
        "\n",
        "ax1.plot(history2.history[\"loss\"])\n",
        "ax1.plot(history2.history[\"val_loss\"])\n",
        "ax1.legend([\"train\", \"val\"], loc=\"upper right\")\n",
        "ax1.set_xlabel(\"Epochs\")\n",
        "ax1.set_ylabel(\"Loss\")\n",
        "\n",
        "ax2.plot(history2.history[\"accuracy\"])\n",
        "ax2.plot(history2.history[\"val_accuracy\"])\n",
        "ax2.legend([\"train\", \"val\"], loc=\"upper right\")\n",
        "ax2.set_xlabel(\"Epochs\")\n",
        "ax2.set_ylabel(\"Accuracy\")\n",
        "plt.show()"
      ],
      "metadata": {
        "colab": {
          "base_uri": "https://localhost:8080/",
          "height": 334
        },
        "id": "hvRPq8-x6fZv",
        "outputId": "04366e94-d639-4e58-bc20-c2dcfa72936a"
      },
      "execution_count": null,
      "outputs": [
        {
          "output_type": "display_data",
          "data": {
            "text/plain": [
              "<Figure size 1080x360 with 2 Axes>"
            ],
            "image/png": "[encoded data removed]"
          },
          "metadata": {
            "needs_background": "light"
          }
        }
      ]
    },
    {
      "cell_type": "markdown",
      "source": [
        "# **Testing Model2 with Test dataset**"
      ],
      "metadata": {
        "id": "oL6ZxL01dfw1"
      }
    },
    {
      "cell_type": "code",
      "source": [
        "_, test_accuracy = model2.evaluate(x=x_test, y=y_test, verbose=0)\n",
        "print(f\"Test accuracy: {round(test_accuracy * 100, 2)}%\")"
      ],
      "metadata": {
        "id": "0__1cCNDeu2b",
        "colab": {
          "base_uri": "https://localhost:8080/"
        },
        "outputId": "9263606b-70cf-4d6a-d49f-1a285a32f0ab"
      },
      "execution_count": null,
      "outputs": [
        {
          "output_type": "stream",
          "name": "stdout",
          "text": [
            "Test accuracy: 73.46%\n"
          ]
        }
      ]
    },
    {
      "cell_type": "markdown",
      "source": [
        "# **Predicting unknown text with Model2**"
      ],
      "metadata": {
        "id": "zbXRuiLPdYE6"
      }
    },
    {
      "cell_type": "code",
      "source": [
        "string_input = keras.Input(shape=(1,), dtype=\"string\")\n",
        "x = vectorizer(string_input)\n",
        "preds = model2(x)\n",
        "end_to_end_model = keras.Model(string_input, preds)\n",
        "\n",
        "probabilities = end_to_end_model.predict(\n",
        "    [['As a sanity check, if the embedding matrix has been generated properly. In the above, when I saw the first five entries of\\nthe training set, the first entry was\\n']]\n",
        ")\n",
        "\n",
        "class_names[np.argmax(probabilities[0])]\n",
        "#df_train.texts[500]"
      ],
      "metadata": {
        "colab": {
          "base_uri": "https://localhost:8080/",
          "height": 35
        },
        "id": "WhTgvcXr61-B",
        "outputId": "d245b1b8-a794-46bd-ed24-78f5de1ee4b1"
      },
      "execution_count": null,
      "outputs": [
        {
          "output_type": "execute_result",
          "data": {
            "text/plain": [
              "'comp.windows.x'"
            ],
            "application/vnd.google.colaboratory.intrinsic+json": {
              "type": "string"
            }
          },
          "metadata": {},
          "execution_count": 52
        }
      ]
    },
    {
      "cell_type": "markdown",
      "metadata": {
        "id": "kbFPh4LWrBsm"
      },
      "source": [
        "# **RNN-Bidirectional LSTM Model 50 Unit**"
      ]
    },
    {
      "cell_type": "markdown",
      "source": [
        "Recurrent neural networks are a sort of neural network in which past time steps' outputs are used as inputs in the current time step.\n",
        "Recurrent neural networks with Long Short-Term Memory (LSTM) are one of the most intriguing kinds of deep learning at the time.\n",
        "\n",
        "Unlike other recurrent neural networks, the network’s internal gates allow the model to be trained successfully using backpropagation through time, and avoid the vanishing gradients problem.\n",
        "\n",
        "They've been utilised to show world-class performance in areas as diverse as language translation, automatic picture captioning, and text production.\n",
        "\n",
        "LSTMs vary from multilayer Perceptrons and convolutional neural networks in that they are especially developed to solve sequence prediction issues. Bidirectional LSTMs are a kind of LSTM that may be used to increase model performance in sequence classification issues.\n",
        "\n",
        "Bidirectional Recurrent Neural Networks (RNNs) have a simple concept.\n",
        "It entails replicating the network's initial recurrent layer so that there are two layers side by side, then feeding the input sequence as is to the first layer and a reversed duplicate of the input sequence to the second.\n",
        "On the input sequence, bidirectional LSTMs train two LSTMs instead of one. The first is based on the original input sequence, while the second is based on a reversed replica of the original input sequence.\n",
        "\n",
        "In this model the bidrectional LSTM improve performance, with similar hyperparameter like the first model. We use the pretrained embedding and loss='sparse_categorical_crossentropy',optimizer='adam',50 units of LSTM neutron and softmax activation. \n",
        "\n",
        "The test result is 78.4% with optimise epoch of less than 20, with batch size of 30. Most importantly the number of units[50,500]. This result is the best we could get with up to 300units, the result decline after 300units. This is a very good result and Bidirectional LSTM is know to improve performance."
      ],
      "metadata": {
        "id": "RDUo8_SeVfJU"
      }
    },
    {
      "cell_type": "markdown",
      "source": [
        ""
      ],
      "metadata": {
        "id": "a_JLhA-BS2kJ"
      }
    },
    {
      "cell_type": "code",
      "execution_count": null,
      "metadata": {
        "colab": {
          "base_uri": "https://localhost:8080/"
        },
        "id": "APMzednMWYE7",
        "outputId": "22bd8cd4-ed48-4f67-dcfb-c1ea8e0f371e"
      },
      "outputs": [
        {
          "output_type": "stream",
          "name": "stdout",
          "text": [
            "Bidirectional LSTM\n",
            "Model: \"model_12\"\n",
            "_________________________________________________________________\n",
            " Layer (type)                Output Shape              Param #   \n",
            "=================================================================\n",
            " input_14 (InputLayer)       [(None, 200)]             0         \n",
            "                                                                 \n",
            " embedding (Embedding)       multiple                  6000400   \n",
            "                                                                 \n",
            " bidirectional_9 (Bidirectio  (None, 600)              1202400   \n",
            " nal)                                                            \n",
            "                                                                 \n",
            " dense_12 (Dense)            (None, 20)                12020     \n",
            "                                                                 \n",
            "=================================================================\n",
            "Total params: 7,214,820\n",
            "Trainable params: 1,214,420\n",
            "Non-trainable params: 6,000,400\n",
            "_________________________________________________________________\n"
          ]
        }
      ],
      "source": [
        "sequence_input = Input(shape=(200,), dtype='int64')\n",
        "embedded_sequences = embedding_layer(sequence_input)\n",
        "l_lstm = Bidirectional(LSTM(units=300))(embedded_sequences)\n",
        "preds = Dense(len(label_names), activation='softmax')(l_lstm)\n",
        "model3 = Model(sequence_input, preds)\n",
        "model3.compile(loss='sparse_categorical_crossentropy',\n",
        "              optimizer='adam',\n",
        "              metrics=['acc'])\n",
        "\n",
        "print(\"Bidirectional LSTM\")\n",
        "model3.summary()"
      ]
    },
    {
      "cell_type": "markdown",
      "source": [
        "# **Graphical representation of model3**"
      ],
      "metadata": {
        "id": "DIcdQBx5dTng"
      }
    },
    {
      "cell_type": "code",
      "source": [
        "keras.utils.plot_model(model3, \"multi_input_and_output_model.png\", show_shapes=True)"
      ],
      "metadata": {
        "colab": {
          "base_uri": "https://localhost:8080/",
          "height": 422
        },
        "id": "qWRUO1Dg8lup",
        "outputId": "009474fd-c8cd-4ad0-c1ac-cc47594a339b"
      },
      "execution_count": null,
      "outputs": [
        {
          "output_type": "execute_result",
          "data": {
            "text/plain": [
              "<IPython.core.display.Image object>"
            ],
            "image/png": "[encoded data removed]"
          },
          "metadata": {},
          "execution_count": 108
        }
      ]
    },
    {
      "cell_type": "markdown",
      "metadata": {
        "id": "psD1AjBFtutj"
      },
      "source": [
        "# **Training Model3**"
      ]
    },
    {
      "cell_type": "code",
      "source": [
        "callbacks = [\n",
        "    keras.callbacks.EarlyStopping(\n",
        "        # Stop training when `val_loss` is no longer improving\n",
        "        monitor=\"val_loss\",\n",
        "        # \"no longer improving\" being defined as \"no better than 1e-2 less\"\n",
        "        min_delta=1e-2,\n",
        "        # \"no longer improving\" being further defined as \"for at least 2 epochs\"\n",
        "        patience=10,\n",
        "        verbose=1,\n",
        "    )\n",
        "]"
      ],
      "metadata": {
        "id": "6qxSGnPMYRrk"
      },
      "execution_count": null,
      "outputs": []
    },
    {
      "cell_type": "code",
      "execution_count": null,
      "metadata": {
        "colab": {
          "base_uri": "https://localhost:8080/"
        },
        "id": "rfup5yOFXnKg",
        "outputId": "1679632f-ff65-49fb-ed72-7125797348b1"
      },
      "outputs": [
        {
          "output_type": "stream",
          "name": "stdout",
          "text": [
            "Epoch 1/30\n",
            "453/453 [==============================] - ETA: 0s - loss: 1.8469 - acc: 0.4023\n",
            "Epoch 1: val_acc improved from -inf to 0.57844, saving model to model_1.hdf5\n",
            "453/453 [==============================] - 23s 44ms/step - loss: 1.8469 - acc: 0.4023 - val_loss: 1.2148 - val_acc: 0.5784\n",
            "Epoch 2/30\n",
            "452/453 [============================>.] - ETA: 0s - loss: 0.8964 - acc: 0.7041\n",
            "Epoch 2: val_acc improved from 0.57844 to 0.73045, saving model to model_1.hdf5\n",
            "453/453 [==============================] - 19s 42ms/step - loss: 0.8960 - acc: 0.7042 - val_loss: 0.8400 - val_acc: 0.7304\n",
            "Epoch 3/30\n",
            "453/453 [==============================] - ETA: 0s - loss: 0.5639 - acc: 0.8199\n",
            "Epoch 3: val_acc improved from 0.73045 to 0.79761, saving model to model_1.hdf5\n",
            "453/453 [==============================] - 19s 41ms/step - loss: 0.5639 - acc: 0.8199 - val_loss: 0.6320 - val_acc: 0.7976\n",
            "Epoch 4/30\n",
            "451/453 [============================>.] - ETA: 0s - loss: 0.3775 - acc: 0.8786\n",
            "Epoch 4: val_acc improved from 0.79761 to 0.80557, saving model to model_1.hdf5\n",
            "453/453 [==============================] - 19s 42ms/step - loss: 0.3778 - acc: 0.8787 - val_loss: 0.6114 - val_acc: 0.8056\n",
            "Epoch 5/30\n",
            "452/453 [============================>.] - ETA: 0s - loss: 0.2330 - acc: 0.9292\n",
            "Epoch 5: val_acc improved from 0.80557 to 0.83738, saving model to model_1.hdf5\n",
            "453/453 [==============================] - 20s 43ms/step - loss: 0.2328 - acc: 0.9293 - val_loss: 0.5598 - val_acc: 0.8374\n",
            "Epoch 6/30\n",
            "453/453 [==============================] - ETA: 0s - loss: 0.1723 - acc: 0.9460\n",
            "Epoch 6: val_acc improved from 0.83738 to 0.85064, saving model to model_1.hdf5\n",
            "453/453 [==============================] - 19s 42ms/step - loss: 0.1723 - acc: 0.9460 - val_loss: 0.5380 - val_acc: 0.8506\n",
            "Epoch 7/30\n",
            "452/453 [============================>.] - ETA: 0s - loss: 0.0981 - acc: 0.9707\n",
            "Epoch 7: val_acc improved from 0.85064 to 0.85152, saving model to model_1.hdf5\n",
            "453/453 [==============================] - 19s 42ms/step - loss: 0.0982 - acc: 0.9707 - val_loss: 0.5879 - val_acc: 0.8515\n",
            "Epoch 8/30\n",
            "453/453 [==============================] - ETA: 0s - loss: 0.0798 - acc: 0.9771\n",
            "Epoch 8: val_acc improved from 0.85152 to 0.85285, saving model to model_1.hdf5\n",
            "453/453 [==============================] - 19s 42ms/step - loss: 0.0798 - acc: 0.9771 - val_loss: 0.5755 - val_acc: 0.8529\n",
            "Epoch 9/30\n",
            "452/453 [============================>.] - ETA: 0s - loss: 0.0469 - acc: 0.9872\n",
            "Epoch 9: val_acc did not improve from 0.85285\n",
            "453/453 [==============================] - 14s 30ms/step - loss: 0.0470 - acc: 0.9871 - val_loss: 0.6483 - val_acc: 0.8422\n",
            "Epoch 10/30\n",
            "451/453 [============================>.] - ETA: 0s - loss: 0.0610 - acc: 0.9835\n",
            "Epoch 10: val_acc did not improve from 0.85285\n",
            "453/453 [==============================] - 13s 30ms/step - loss: 0.0610 - acc: 0.9835 - val_loss: 0.6940 - val_acc: 0.8414\n",
            "Epoch 11/30\n",
            "451/453 [============================>.] - ETA: 0s - loss: 0.0389 - acc: 0.9890\n",
            "Epoch 11: val_acc did not improve from 0.85285\n",
            "453/453 [==============================] - 14s 30ms/step - loss: 0.0390 - acc: 0.9890 - val_loss: 0.7311 - val_acc: 0.8330\n",
            "Epoch 12/30\n",
            "451/453 [============================>.] - ETA: 0s - loss: 0.0431 - acc: 0.9876\n",
            "Epoch 12: val_acc improved from 0.85285 to 0.86655, saving model to model_1.hdf5\n",
            "453/453 [==============================] - 19s 42ms/step - loss: 0.0430 - acc: 0.9876 - val_loss: 0.6275 - val_acc: 0.8665\n",
            "Epoch 13/30\n",
            "452/453 [============================>.] - ETA: 0s - loss: 0.0380 - acc: 0.9889\n",
            "Epoch 13: val_acc did not improve from 0.86655\n",
            "453/453 [==============================] - 14s 30ms/step - loss: 0.0381 - acc: 0.9890 - val_loss: 0.6819 - val_acc: 0.8555\n",
            "Epoch 14/30\n",
            "451/453 [============================>.] - ETA: 0s - loss: 0.0202 - acc: 0.9946\n",
            "Epoch 14: val_acc did not improve from 0.86655\n",
            "453/453 [==============================] - 14s 30ms/step - loss: 0.0203 - acc: 0.9946 - val_loss: 0.6462 - val_acc: 0.8635\n",
            "Epoch 15/30\n",
            "451/453 [============================>.] - ETA: 0s - loss: 0.0117 - acc: 0.9979\n",
            "Epoch 15: val_acc did not improve from 0.86655\n",
            "453/453 [==============================] - 14s 30ms/step - loss: 0.0117 - acc: 0.9979 - val_loss: 0.7399 - val_acc: 0.8493\n",
            "Epoch 16/30\n",
            "451/453 [============================>.] - ETA: 0s - loss: 0.0109 - acc: 0.9976\n",
            "Epoch 16: val_acc did not improve from 0.86655\n",
            "453/453 [==============================] - 14s 30ms/step - loss: 0.0108 - acc: 0.9976 - val_loss: 0.7608 - val_acc: 0.8582\n",
            "Epoch 16: early stopping\n"
          ]
        }
      ],
      "source": [
        "epochs=30\n",
        "batch_size=20\n",
        "cp=ModelCheckpoint('model_1.hdf5',monitor='val_acc',verbose=1,save_best_only=True)\n",
        "history3=model3.fit(x_train, y_train, validation_data=(x_val,y_val),epochs=epochs, batch_size=batch_size,callbacks=(callbacks,cp))"
      ]
    },
    {
      "cell_type": "markdown",
      "source": [
        "## **Plotting accuracy and loss of Model3**"
      ],
      "metadata": {
        "id": "ee3H2c5ucfpu"
      }
    },
    {
      "cell_type": "code",
      "source": [
        "fig, (ax1, ax2) = plt.subplots(1, 2, figsize=(15, 5))\n",
        "\n",
        "ax1.plot(history3.history[\"loss\"])\n",
        "ax1.plot(history3.history[\"val_loss\"])\n",
        "ax1.legend([\"train\", \"val\"], loc=\"upper right\")\n",
        "ax1.set_xlabel(\"Epochs\")\n",
        "ax1.set_ylabel(\"Loss\")\n",
        "\n",
        "ax2.plot(history3.history[\"acc\"])\n",
        "ax2.plot(history3.history[\"val_acc\"])\n",
        "ax2.legend([\"train\", \"val\"], loc=\"upper right\")\n",
        "ax2.set_xlabel(\"Epochs\")\n",
        "ax2.set_ylabel(\"Accuracy\")\n",
        "plt.show()"
      ],
      "metadata": {
        "colab": {
          "base_uri": "https://localhost:8080/",
          "height": 334
        },
        "id": "Ud1pKZQkESkx",
        "outputId": "fe0b5f19-2441-4c27-953d-305474c6955b"
      },
      "execution_count": null,
      "outputs": [
        {
          "output_type": "display_data",
          "data": {
            "text/plain": [
              "<Figure size 1080x360 with 2 Axes>"
            ],
            "image/png": "[encoded data removed]"
          },
          "metadata": {
            "needs_background": "light"
          }
        }
      ]
    },
    {
      "cell_type": "markdown",
      "source": [
        "# **Testing Model3 on Testing data**"
      ],
      "metadata": {
        "id": "W8efWJRYcSwu"
      }
    },
    {
      "cell_type": "code",
      "source": [
        "_, test_accuracy = model3.evaluate(x=x_test, y=y_test, verbose=0)\n",
        "print(f\"Test accuracy: {round(test_accuracy * 100, 2)}%\")"
      ],
      "metadata": {
        "colab": {
          "base_uri": "https://localhost:8080/"
        },
        "outputId": "d560c887-3b8c-468e-9533-b829aa7e59a3",
        "id": "mB88WehhESky"
      },
      "execution_count": null,
      "outputs": [
        {
          "output_type": "stream",
          "name": "stdout",
          "text": [
            "Test accuracy: 78.47%\n"
          ]
        }
      ]
    },
    {
      "cell_type": "code",
      "source": [
        "from sklearn.model_selection import GridSearchCV\n",
        "from keras.wrappers.scikit_learn import KerasClassifier"
      ],
      "metadata": {
        "id": "-CznCh50680F"
      },
      "execution_count": null,
      "outputs": []
    },
    {
      "cell_type": "code",
      "source": [
        "def create_model():\n",
        "  sequence_input = Input(shape=(200,), dtype='int64')\n",
        "  embedded_sequences = embedding_layer(sequence_input)\n",
        "  l_lstm = Bidirectional(LSTM(units=300))(embedded_sequences)\n",
        "  preds = Dense(len(label_names), activation='softmax')(l_lstm)\n",
        "  model3 = Model(sequence_input, preds)\n",
        "  model3.compile(loss='sparse_categorical_crossentropy',\n",
        "              optimizer='adam',\n",
        "              metrics=['acc'])\n",
        "  return model3"
      ],
      "metadata": {
        "id": "p9p2XadA-O0G"
      },
      "execution_count": null,
      "outputs": []
    },
    {
      "cell_type": "markdown",
      "source": [
        "# **Predicting with Model3**"
      ],
      "metadata": {
        "id": "gf_DP7a5cNjJ"
      }
    },
    {
      "cell_type": "code",
      "source": [
        "string_input = keras.Input(shape=(1,), dtype=\"string\")\n",
        "x = vectorizer(string_input)\n",
        "preds = model3(x)\n",
        "end_to_end_model = keras.Model(string_input, preds)\n",
        "\n",
        "probabilities = end_to_end_model.predict(\n",
        "    [['Jon playes cricket His favourite player is MS DhoniSometimes he loves to play football']]\n",
        ")\n",
        "\n",
        "class_names[np.argmax(probabilities[0])]"
      ],
      "metadata": {
        "colab": {
          "base_uri": "https://localhost:8080/",
          "height": 36
        },
        "outputId": "48223f5e-8829-4369-fe0b-eea5edd13051",
        "id": "er7p7Q8nESky"
      },
      "execution_count": null,
      "outputs": [
        {
          "output_type": "execute_result",
          "data": {
            "text/plain": [
              "'rec.sport.baseball'"
            ],
            "application/vnd.google.colaboratory.intrinsic+json": {
              "type": "string"
            }
          },
          "metadata": {},
          "execution_count": 103
        }
      ]
    },
    {
      "cell_type": "markdown",
      "metadata": {
        "id": "Cf3mfnhO27Al"
      },
      "source": [
        "# **1 dimensional CNN MODEL- Developed as a function**"
      ]
    },
    {
      "cell_type": "code",
      "execution_count": null,
      "metadata": {
        "id": "ob8Q2Ch6TaIv"
      },
      "outputs": [],
      "source": [
        "def ConvNet1(embeddings, num_tokens, embedding_dim, label_code):\n",
        "    \n",
        "    embedding_layer = Embedding(\n",
        "        num_tokens,\n",
        "        embedding_dim,\n",
        "        embeddings_initializer=keras.initializers.Constant(embedding_matrix),\n",
        "        trainable=False,)\n",
        "    \n",
        "    sequence_input = Input(shape=(None,), dtype='int32')\n",
        "    embedded_sequences = embedding_layer(sequence_input)\n",
        "    x = layers.Conv1D(128, 5, activation=\"relu\")(embedded_sequences)\n",
        "    x = layers.MaxPooling1D(5)(x)\n",
        "    x = layers.Conv1D(128, 5, activation=\"relu\")(x)\n",
        "    x = layers.MaxPooling1D(5)(x)\n",
        "    x = layers.Conv1D(128, 5, activation=\"relu\")(x)\n",
        "    x = layers.GlobalMaxPooling1D()(x)\n",
        "    x = layers.Dense(64, activation=\"relu\")(x)\n",
        "    x = layers.Dropout(0.5)(x)\n",
        "    preds = Dense(len(label_names), activation='softmax')(x)\n",
        "    model = keras.Model(sequence_input, preds)\n",
        "    model.compile(loss='sparse_categorical_crossentropy',\n",
        "                  optimizer=\"adam\",\n",
        "                  metrics=['acc'])\n",
        "    model.summary()\n",
        "    return model"
      ]
    },
    {
      "cell_type": "code",
      "execution_count": null,
      "metadata": {
        "colab": {
          "base_uri": "https://localhost:8080/"
        },
        "id": "lLLwQbYjZB5J",
        "outputId": "c16338bb-d4c7-4512-e4e9-3a2f58b93c12"
      },
      "outputs": [
        {
          "output_type": "stream",
          "name": "stdout",
          "text": [
            "Model: \"model_13\"\n",
            "_________________________________________________________________\n",
            " Layer (type)                Output Shape              Param #   \n",
            "=================================================================\n",
            " input_15 (InputLayer)       [(None, None)]            0         \n",
            "                                                                 \n",
            " embedding_2 (Embedding)     (None, None, 200)         6000400   \n",
            "                                                                 \n",
            " conv1d_5 (Conv1D)           (None, None, 128)         128128    \n",
            "                                                                 \n",
            " max_pooling1d_2 (MaxPooling  (None, None, 128)        0         \n",
            " 1D)                                                             \n",
            "                                                                 \n",
            " conv1d_6 (Conv1D)           (None, None, 128)         82048     \n",
            "                                                                 \n",
            " max_pooling1d_3 (MaxPooling  (None, None, 128)        0         \n",
            " 1D)                                                             \n",
            "                                                                 \n",
            " conv1d_7 (Conv1D)           (None, None, 128)         82048     \n",
            "                                                                 \n",
            " global_max_pooling1d_2 (Glo  (None, 128)              0         \n",
            " balMaxPooling1D)                                                \n",
            "                                                                 \n",
            " dense_13 (Dense)            (None, 64)                8256      \n",
            "                                                                 \n",
            " dropout_5 (Dropout)         (None, 64)                0         \n",
            "                                                                 \n",
            " dense_14 (Dense)            (None, 20)                1300      \n",
            "                                                                 \n",
            "=================================================================\n",
            "Total params: 6,302,180\n",
            "Trainable params: 301,780\n",
            "Non-trainable params: 6,000,400\n",
            "_________________________________________________________________\n"
          ]
        }
      ],
      "source": [
        "model4 = ConvNet1(embedding_matrix, num_tokens,embedding_dim,label_code)"
      ]
    },
    {
      "cell_type": "markdown",
      "source": [
        "# **Graph of Model4**"
      ],
      "metadata": {
        "id": "4K4VpKy-b02B"
      }
    },
    {
      "cell_type": "code",
      "source": [
        "keras.utils.plot_model(model4, \"multi_input_and_output_model.png\", show_shapes=True)"
      ],
      "metadata": {
        "id": "aTq2gZlO8vFN"
      },
      "execution_count": null,
      "outputs": []
    },
    {
      "cell_type": "markdown",
      "metadata": {
        "id": "_AHRls1G2rnT"
      },
      "source": [
        "# **Training of Model4**"
      ]
    },
    {
      "cell_type": "code",
      "execution_count": null,
      "metadata": {
        "id": "S8mddeVViyW_"
      },
      "outputs": [],
      "source": [
        "callbacks = [\n",
        "    keras.callbacks.EarlyStopping(\n",
        "        # Stop training when `val_loss` is no longer improving\n",
        "        monitor=\"val_loss\",\n",
        "        # \"no longer improving\" being defined as \"no better than 1e-2 less\"\n",
        "        min_delta=1e-2,\n",
        "        # \"no longer improving\" being further defined as \"for at least 2 epochs\"\n",
        "        patience=10,\n",
        "        verbose=1,\n",
        "    )\n",
        "]"
      ]
    },
    {
      "cell_type": "code",
      "source": [
        "epochs=50\n",
        "batch_size=64\n",
        "cp=ModelCheckpoint('model_1.hdf5',monitor='val_acc',verbose=1,save_best_only=True)"
      ],
      "metadata": {
        "id": "PuSMKDZgaPbj"
      },
      "execution_count": null,
      "outputs": []
    },
    {
      "cell_type": "code",
      "execution_count": null,
      "metadata": {
        "id": "-4mqAQWacgsd",
        "colab": {
          "base_uri": "https://localhost:8080/"
        },
        "outputId": "a86f9dfe-c99b-4790-9455-232862cdfa5a"
      },
      "outputs": [
        {
          "output_type": "stream",
          "name": "stdout",
          "text": [
            "Model: \"model_14\"\n",
            "_________________________________________________________________\n",
            " Layer (type)                Output Shape              Param #   \n",
            "=================================================================\n",
            " input_16 (InputLayer)       [(None, None)]            0         \n",
            "                                                                 \n",
            " embedding_3 (Embedding)     (None, None, 200)         6000400   \n",
            "                                                                 \n",
            " conv1d_8 (Conv1D)           (None, None, 128)         128128    \n",
            "                                                                 \n",
            " max_pooling1d_4 (MaxPooling  (None, None, 128)        0         \n",
            " 1D)                                                             \n",
            "                                                                 \n",
            " conv1d_9 (Conv1D)           (None, None, 128)         82048     \n",
            "                                                                 \n",
            " max_pooling1d_5 (MaxPooling  (None, None, 128)        0         \n",
            " 1D)                                                             \n",
            "                                                                 \n",
            " conv1d_10 (Conv1D)          (None, None, 128)         82048     \n",
            "                                                                 \n",
            " global_max_pooling1d_3 (Glo  (None, 128)              0         \n",
            " balMaxPooling1D)                                                \n",
            "                                                                 \n",
            " dense_15 (Dense)            (None, 64)                8256      \n",
            "                                                                 \n",
            " dropout_6 (Dropout)         (None, 64)                0         \n",
            "                                                                 \n",
            " dense_16 (Dense)            (None, 20)                1300      \n",
            "                                                                 \n",
            "=================================================================\n",
            "Total params: 6,302,180\n",
            "Trainable params: 301,780\n",
            "Non-trainable params: 6,000,400\n",
            "_________________________________________________________________\n",
            "Epoch 1/50\n",
            "140/142 [============================>.] - ETA: 0s - loss: 2.8825 - acc: 0.0960\n",
            "Epoch 1: val_acc improved from -inf to 0.18825, saving model to model_1.hdf5\n",
            "142/142 [==============================] - 7s 48ms/step - loss: 2.8801 - acc: 0.0968 - val_loss: 2.4127 - val_acc: 0.1882\n",
            "Epoch 2/50\n",
            "140/142 [============================>.] - ETA: 0s - loss: 2.2336 - acc: 0.2367\n",
            "Epoch 2: val_acc improved from 0.18825 to 0.38842, saving model to model_1.hdf5\n",
            "142/142 [==============================] - 7s 50ms/step - loss: 2.2295 - acc: 0.2380 - val_loss: 1.7767 - val_acc: 0.3884\n",
            "Epoch 3/50\n",
            "139/142 [============================>.] - ETA: 0s - loss: 1.7049 - acc: 0.3959\n",
            "Epoch 3: val_acc improved from 0.38842 to 0.51701, saving model to model_1.hdf5\n",
            "142/142 [==============================] - 6s 46ms/step - loss: 1.7030 - acc: 0.3970 - val_loss: 1.3554 - val_acc: 0.5170\n",
            "Epoch 4/50\n",
            "141/142 [============================>.] - ETA: 0s - loss: 1.2775 - acc: 0.5319\n",
            "Epoch 4: val_acc improved from 0.51701 to 0.61776, saving model to model_1.hdf5\n",
            "142/142 [==============================] - 6s 46ms/step - loss: 1.2773 - acc: 0.5319 - val_loss: 1.0631 - val_acc: 0.6178\n",
            "Epoch 5/50\n",
            "138/142 [============================>.] - ETA: 0s - loss: 1.0024 - acc: 0.6253\n",
            "Epoch 5: val_acc improved from 0.61776 to 0.66726, saving model to model_1.hdf5\n",
            "142/142 [==============================] - 6s 45ms/step - loss: 1.0011 - acc: 0.6247 - val_loss: 0.9589 - val_acc: 0.6673\n",
            "Epoch 6/50\n",
            "135/142 [===========================>..] - ETA: 0s - loss: 0.8018 - acc: 0.6985\n",
            "Epoch 6: val_acc improved from 0.66726 to 0.69775, saving model to model_1.hdf5\n",
            "142/142 [==============================] - 6s 46ms/step - loss: 0.7982 - acc: 0.7006 - val_loss: 0.8361 - val_acc: 0.6977\n",
            "Epoch 7/50\n",
            "137/142 [===========================>..] - ETA: 0s - loss: 0.6604 - acc: 0.7560\n",
            "Epoch 7: val_acc improved from 0.69775 to 0.74061, saving model to model_1.hdf5\n",
            "142/142 [==============================] - 7s 46ms/step - loss: 0.6569 - acc: 0.7564 - val_loss: 0.7821 - val_acc: 0.7406\n",
            "Epoch 8/50\n",
            "138/142 [============================>.] - ETA: 0s - loss: 0.5202 - acc: 0.8080\n",
            "Epoch 8: val_acc improved from 0.74061 to 0.76712, saving model to model_1.hdf5\n",
            "142/142 [==============================] - 6s 45ms/step - loss: 0.5205 - acc: 0.8081 - val_loss: 0.7573 - val_acc: 0.7671\n",
            "Epoch 9/50\n",
            "136/142 [===========================>..] - ETA: 0s - loss: 0.4049 - acc: 0.8595\n",
            "Epoch 9: val_acc improved from 0.76712 to 0.77110, saving model to model_1.hdf5\n",
            "142/142 [==============================] - 6s 45ms/step - loss: 0.4051 - acc: 0.8591 - val_loss: 0.8161 - val_acc: 0.7711\n",
            "Epoch 10/50\n",
            "134/142 [===========================>..] - ETA: 0s - loss: 0.3160 - acc: 0.8924\n",
            "Epoch 10: val_acc did not improve from 0.77110\n",
            "142/142 [==============================] - 1s 9ms/step - loss: 0.3175 - acc: 0.8922 - val_loss: 0.9292 - val_acc: 0.7477\n",
            "Epoch 11/50\n",
            "139/142 [============================>.] - ETA: 0s - loss: 0.2604 - acc: 0.9105\n",
            "Epoch 11: val_acc improved from 0.77110 to 0.78171, saving model to model_1.hdf5\n",
            "142/142 [==============================] - 6s 45ms/step - loss: 0.2595 - acc: 0.9107 - val_loss: 0.8718 - val_acc: 0.7817\n",
            "Epoch 12/50\n",
            "135/142 [===========================>..] - ETA: 0s - loss: 0.2043 - acc: 0.9302\n",
            "Epoch 12: val_acc improved from 0.78171 to 0.79850, saving model to model_1.hdf5\n",
            "142/142 [==============================] - 7s 48ms/step - loss: 0.2064 - acc: 0.9295 - val_loss: 0.8695 - val_acc: 0.7985\n",
            "Epoch 13/50\n",
            "142/142 [==============================] - ETA: 0s - loss: 0.1593 - acc: 0.9471\n",
            "Epoch 13: val_acc improved from 0.79850 to 0.79982, saving model to model_1.hdf5\n",
            "142/142 [==============================] - 6s 45ms/step - loss: 0.1593 - acc: 0.9471 - val_loss: 0.9484 - val_acc: 0.7998\n",
            "Epoch 14/50\n",
            "141/142 [============================>.] - ETA: 0s - loss: 0.1267 - acc: 0.9604\n",
            "Epoch 14: val_acc improved from 0.79982 to 0.80689, saving model to model_1.hdf5\n",
            "142/142 [==============================] - 6s 45ms/step - loss: 0.1269 - acc: 0.9602 - val_loss: 1.0381 - val_acc: 0.8069\n",
            "Epoch 15/50\n",
            "138/142 [============================>.] - ETA: 0s - loss: 0.1151 - acc: 0.9605\n",
            "Epoch 15: val_acc did not improve from 0.80689\n",
            "142/142 [==============================] - 1s 8ms/step - loss: 0.1153 - acc: 0.9609 - val_loss: 1.1670 - val_acc: 0.7928\n",
            "Epoch 16/50\n",
            "137/142 [===========================>..] - ETA: 0s - loss: 0.1434 - acc: 0.9538\n",
            "Epoch 16: val_acc improved from 0.80689 to 0.80822, saving model to model_1.hdf5\n",
            "142/142 [==============================] - 6s 45ms/step - loss: 0.1458 - acc: 0.9536 - val_loss: 0.9850 - val_acc: 0.8082\n",
            "Epoch 17/50\n",
            "134/142 [===========================>..] - ETA: 0s - loss: 0.1036 - acc: 0.9661\n",
            "Epoch 17: val_acc improved from 0.80822 to 0.81220, saving model to model_1.hdf5\n",
            "142/142 [==============================] - 6s 45ms/step - loss: 0.1050 - acc: 0.9652 - val_loss: 1.0834 - val_acc: 0.8122\n",
            "Epoch 18/50\n",
            "134/142 [===========================>..] - ETA: 0s - loss: 0.1057 - acc: 0.9693\n",
            "Epoch 18: val_acc improved from 0.81220 to 0.81396, saving model to model_1.hdf5\n",
            "142/142 [==============================] - 6s 46ms/step - loss: 0.1041 - acc: 0.9699 - val_loss: 0.9885 - val_acc: 0.8140\n",
            "Epoch 18: early stopping\n"
          ]
        }
      ],
      "source": [
        "model4 = ConvNet1(embedding_matrix, num_tokens, embedding_dim,label_code)\n",
        "history4 = model4.fit(x_train, y_train, epochs=epochs, shuffle=True,validation_data=(x_val,y_val), batch_size=batch_size,callbacks=(callbacks,cp))"
      ]
    },
    {
      "cell_type": "markdown",
      "source": [
        "## **Plotting accuracy and loss of Model4**"
      ],
      "metadata": {
        "id": "jKU-_EphdFNp"
      }
    },
    {
      "cell_type": "code",
      "source": [
        "fig, (ax1, ax2) = plt.subplots(1, 2, figsize=(15, 5))\n",
        "\n",
        "ax1.plot(history4.history[\"loss\"])\n",
        "ax1.plot(history4.history[\"val_loss\"])\n",
        "ax1.legend([\"train\", \"val\"], loc=\"upper right\")\n",
        "ax1.set_xlabel(\"Epochs\")\n",
        "ax1.set_ylabel(\"Loss\")\n",
        "\n",
        "ax2.plot(history4.history[\"acc\"])\n",
        "ax2.plot(history4.history[\"val_acc\"])\n",
        "ax2.legend([\"train\", \"val\"], loc=\"upper right\")\n",
        "ax2.set_xlabel(\"Epochs\")\n",
        "ax2.set_ylabel(\"Accuracy\")\n",
        "plt.show()"
      ],
      "metadata": {
        "colab": {
          "base_uri": "https://localhost:8080/",
          "height": 336
        },
        "id": "IoNAQp2N4osg",
        "outputId": "48d40d00-b42e-42a4-d9cc-cb733d2fb5b7"
      },
      "execution_count": null,
      "outputs": [
        {
          "output_type": "display_data",
          "data": {
            "text/plain": [
              "<Figure size 1080x360 with 2 Axes>"
            ],
            "image/png": "[encoded data removed]"
          },
          "metadata": {
            "needs_background": "light"
          }
        }
      ]
    },
    {
      "cell_type": "markdown",
      "source": [
        "## **Testing Model4**"
      ],
      "metadata": {
        "id": "i9MZHtLTavjf"
      }
    },
    {
      "cell_type": "code",
      "source": [
        "_, test_accuracy = model4.evaluate(x=x_test, y=y_test, verbose=0)\n",
        "print(f\"Test accuracy: {round(test_accuracy * 100, 2)}%\")"
      ],
      "metadata": {
        "colab": {
          "base_uri": "https://localhost:8080/"
        },
        "outputId": "3d1b0dca-8dbb-4264-a7b3-b5e938eb8d2b",
        "id": "EIZKfuIi4yHV"
      },
      "execution_count": null,
      "outputs": [
        {
          "output_type": "stream",
          "name": "stdout",
          "text": [
            "Test accuracy: 72.34%\n"
          ]
        }
      ]
    },
    {
      "cell_type": "markdown",
      "source": [
        "# **Predicting with Model4**"
      ],
      "metadata": {
        "id": "4_sY-VjBbHTZ"
      }
    },
    {
      "cell_type": "code",
      "source": [
        "string_input = keras.Input(shape=(1,), dtype=\"string\")\n",
        "x = vectorizer(string_input)\n",
        "preds = model4(x)\n",
        "end_to_end_model = keras.Model(string_input, preds)\n",
        "\n",
        "probabilities = end_to_end_model.predict(\n",
        "    [[\"Jon playes cricket His favourite player is MS Dhoni Sometimes he loves to play football\"]]\n",
        ")\n",
        "\n",
        "class_names[np.argmax(probabilities[0])]"
      ],
      "metadata": {
        "colab": {
          "base_uri": "https://localhost:8080/",
          "height": 35
        },
        "outputId": "4185d4f0-4704-483a-d865-d791a272628f",
        "id": "MTF5CFOb4yHV"
      },
      "execution_count": null,
      "outputs": [
        {
          "output_type": "execute_result",
          "data": {
            "text/plain": [
              "'rec.sport.baseball'"
            ],
            "application/vnd.google.colaboratory.intrinsic+json": {
              "type": "string"
            }
          },
          "metadata": {},
          "execution_count": 132
        }
      ]
    }
  ],
  "metadata": {
    "colab": {
      "collapsed_sections": [],
      "name": "final_code_ 309_with literatures_project.ipynb",
      "provenance": []
    },
    "kernelspec": {
      "display_name": "Python 3",
      "language": "python",
      "name": "python3"
    },
    "language_info": {
      "codemirror_mode": {
        "name": "ipython",
        "version": 3
      },
      "file_extension": ".py",
      "mimetype": "text/x-python",
      "name": "python",
      "nbconvert_exporter": "python",
      "pygments_lexer": "ipython3",
      "version": "3.6.5"
    },
    "accelerator": "GPU"
  },
  "nbformat": 4,
  "nbformat_minor": 0
}