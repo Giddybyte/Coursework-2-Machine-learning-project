{
 "cells": [
  {
   "cell_type": "markdown",
   "metadata": {
    "id": "074718ea"
   },
   "source": [
    "# Import libraries"
   ]
  },
  {
   "cell_type": "code",
   "execution_count": null,
   "metadata": {
    "colab": {
     "base_uri": "https://localhost:8080/"
    },
    "id": "9fe589fc",
    "outputId": "8d790232-6036-479c-a0fb-ff45deb3c4b5"
   },
   "outputs": [
    {
     "name": "stdout",
     "output_type": "stream",
     "text": [
      "[nltk_data] Downloading package stopwords to /root/nltk_data...\n",
      "[nltk_data]   Package stopwords is already up-to-date!\n",
      "[nltk_data] Downloading package wordnet to /root/nltk_data...\n",
      "[nltk_data]   Package wordnet is already up-to-date!\n"
     ]
    },
    {
     "data": {
      "text/plain": [
       "True"
      ]
     },
     "execution_count": 5,
     "metadata": {},
     "output_type": "execute_result"
    }
   ],
   "source": [
    "import os\n",
    "import pandas as pd\n",
    "import numpy as np\n",
    "import collections\n",
    "import re\n",
    "import string\n",
    "import matplotlib.pyplot as plt\n",
    "from nltk.corpus import stopwords\n",
    "from gensim.models.doc2vec import Doc2Vec, TaggedDocument\n",
    "from gensim.test.utils import get_tmpfile\n",
    "from nltk.stem import WordNetLemmatizer\n",
    "import nltk\n",
    "from sklearn.model_selection import train_test_split\n",
    "nltk.download('stopwords')\n",
    "nltk.download('wordnet')"
   ]
  },
  {
   "cell_type": "markdown",
   "metadata": {
    "id": "StcGasMZuwXQ"
   },
   "source": [
    "nltk and gensim are two famous libraries that are used in Natural Language Processing (NLP). nltk library has been used to get the stop words of English language and to lemmatize words. Also gensim library has been used to load the Doc2vec model"
   ]
  },
  {
   "cell_type": "code",
   "execution_count": null,
   "metadata": {
    "colab": {
     "base_uri": "https://localhost:8080/"
    },
    "id": "x0RpfabEdewH",
    "outputId": "7b0a5460-f218-4e99-9ef0-b57ee0f404d7"
   },
   "outputs": [
    {
     "name": "stdout",
     "output_type": "stream",
     "text": [
      "Drive already mounted at /content/drive; to attempt to forcibly remount, call drive.mount(\"/content/drive\", force_remount=True).\n"
     ]
    }
   ],
   "source": [
    "from google.colab import drive\n",
    "drive.mount('/content/drive')"
   ]
  },
  {
   "cell_type": "code",
   "execution_count": null,
   "metadata": {
    "id": "Q6JZ4NVKdjRe"
   },
   "outputs": [],
   "source": [
    "proj_dir='/content/drive/MyDrive/Colab Notebooks/doc2vec/' #give your project directory here. data sets should be in this location"
   ]
  },
  {
   "cell_type": "markdown",
   "metadata": {
    "id": "f6875224"
   },
   "source": [
    "# Load and clean the data"
   ]
  },
  {
   "cell_type": "markdown",
   "metadata": {
    "id": "a7345380"
   },
   "source": [
    "before converting into vectors text should be cleaned.\n",
    "\n",
    "* Lower the english latters\n",
    "* Remove headers\n",
    "* Drop all digits\n",
    "* Remove URLs and Emails\n",
    "* Drop all punctuation from our text\n",
    "* Drop stop words\n",
    "* Lemmatize words\n"
   ]
  },
  {
   "cell_type": "markdown",
   "metadata": {
    "id": "cU1xKL982Jt3"
   },
   "source": [
    "first, we convert all the letters into lowercase letters in order to avoid duplicating the same word ('Dog' and 'dog' are the same words. but the program will take these as two words. Hence we convert 'Dog' as 'dog' by doing letters lowercase)"
   ]
  },
  {
   "cell_type": "markdown",
   "metadata": {
    "id": "VCSbcZAx2J0N"
   },
   "source": [
    "After that we drop all the headers and numbers.Because headers are unwanted data and numbers don't have any meaning when we take them as a single word."
   ]
  },
  {
   "cell_type": "markdown",
   "metadata": {
    "id": "MkQTCdcm2Q1H"
   },
   "source": [
    "if any word contains '@','.com' or 'http' we drop those words. also we remove all punctuations and stop words. The words which are generally filtered out before processing a natural language are called stop words. These are actually the most common words such as “the”, “a”, “an”, “so”, “what” in English language. By removing these words, we remove the low-level information from our text in order to give more focus to the important information."
   ]
  },
  {
   "cell_type": "markdown",
   "metadata": {
    "id": "X29HHeUe2WZ9"
   },
   "source": [
    "finally we lemmatize words. Lemmatization is the process wherein the context is used to convert a word to its meaningful base or root form. ex:- driving--> drive , dogs-->dog. To perform Lemmatization with Natural Language Tool Kit (NLTK), “WordNetLemmatizer()” method has been used"
   ]
  },
  {
   "cell_type": "code",
   "execution_count": null,
   "metadata": {
    "id": "e109337d"
   },
   "outputs": [],
   "source": [
    "'''this function is used to read text files.'''\n",
    "def read_txt_file(file_name):\n",
    "    with open(file_name,encoding=\"utf8\", errors='ignore') as f:\n",
    "        ###extract the boady of the text###\n",
    "        line = f.readline()\n",
    "        txt=''\n",
    "        txt=txt+' '+line\n",
    "        while line:\n",
    "            line = f.readline()\n",
    "            txt=txt+' '+line\n",
    "        ###################################\n",
    "    f.close()\n",
    "    return(txt)"
   ]
  },
  {
   "cell_type": "code",
   "execution_count": null,
   "metadata": {
    "id": "19a41917"
   },
   "outputs": [],
   "source": [
    "stop_words=set(stopwords.words('english'))#load stop words\n",
    "punctuations=string.punctuation #get punctuations\n",
    "lemmatizer = WordNetLemmatizer()\n",
    "'''this function is used to clean text'''\n",
    "def clean_txt(txt):\n",
    "    txt=txt.lower() #set all characters to lowercase\n",
    "    sentences=txt.split('\\n')\n",
    "    txt = ' '.join([i for i in sentences if not ':' in i])#remove headers\n",
    "    txt = ''.join([i for i in txt if not i.isdigit()])#remove numbers\n",
    "\n",
    "    ###remove urls and emails###\n",
    "    words=txt.split()\n",
    "    txt = ' '.join([i for i in words if not '@' in i and not '.com' in i and not  'http:' in i])\n",
    "    #######################################\n",
    "\n",
    "    ###remove punctuations###\n",
    "    for character in punctuations:\n",
    "        txt = txt.replace(character, '')\n",
    "    #########################################\n",
    "    \n",
    "    ###remove stop words and lemmatize###\n",
    "    words=txt.split()\n",
    "    filtered_txt = ' '.join([lemmatizer.lemmatize(i) for i in words if not i in stop_words])\n",
    "    #####################################\n",
    "    \n",
    "    return(filtered_txt)"
   ]
  },
  {
   "cell_type": "code",
   "execution_count": null,
   "metadata": {
    "id": "95c8ac31"
   },
   "outputs": [],
   "source": [
    "def load_and_clean_data(location):    \n",
    "    y=os.listdir(location)#get the list of folder\n",
    "    txts=[]\n",
    "    txts_cleaned=[]\n",
    "    folder_array=[]\n",
    "    file_array=[]\n",
    "    for i in range(len(y)):\n",
    "        text_file_names=os.listdir(location+'/'+y[i]) #get the list of files\n",
    "        for text_file_name in text_file_names:\n",
    "                file_array.append(text_file_name)\n",
    "                txt=read_txt_file(location+'/'+y[i]+'/'+text_file_name) #read the text file\n",
    "                txts.append(txt)\n",
    "                txts_cleaned.append(clean_txt(txt)) #clean the text\n",
    "                folder_array.append(y[i])\n",
    "\n",
    "    ###create a data frame###\n",
    "    df=pd.DataFrame()\n",
    "    df['texts']=txts\n",
    "    df['text cleaned']=txts_cleaned\n",
    "    df['folder name']=folder_array\n",
    "    df['file name']=file_array\n",
    "    ########################\n",
    "    return (df)\n",
    "\n"
   ]
  },
  {
   "cell_type": "code",
   "execution_count": null,
   "metadata": {
    "colab": {
     "base_uri": "https://localhost:8080/",
     "height": 337
    },
    "id": "179438fd",
    "outputId": "d7ea8148-b948-4b21-df63-4fb8b0c7e132"
   },
   "outputs": [
    {
     "ename": "KeyboardInterrupt",
     "evalue": "ignored",
     "output_type": "error",
     "traceback": [
      "\u001b[0;31m---------------------------------------------------------------------------\u001b[0m",
      "\u001b[0;31mKeyboardInterrupt\u001b[0m                         Traceback (most recent call last)",
      "\u001b[0;32m<ipython-input-29-bb8be249954a>\u001b[0m in \u001b[0;36m<module>\u001b[0;34m()\u001b[0m\n\u001b[0;32m----> 1\u001b[0;31m \u001b[0mdf_train\u001b[0m\u001b[0;34m=\u001b[0m\u001b[0mload_and_clean_data\u001b[0m\u001b[0;34m(\u001b[0m\u001b[0mproj_dir\u001b[0m\u001b[0;34m+\u001b[0m\u001b[0;34m'20news-bydate-train'\u001b[0m\u001b[0;34m)\u001b[0m\u001b[0;34m\u001b[0m\u001b[0;34m\u001b[0m\u001b[0m\n\u001b[0m\u001b[1;32m      2\u001b[0m \u001b[0mdf_test\u001b[0m\u001b[0;34m=\u001b[0m\u001b[0mload_and_clean_data\u001b[0m\u001b[0;34m(\u001b[0m\u001b[0mproj_dir\u001b[0m\u001b[0;34m+\u001b[0m\u001b[0;34m'20news-bydate-test'\u001b[0m\u001b[0;34m)\u001b[0m\u001b[0;34m\u001b[0m\u001b[0;34m\u001b[0m\u001b[0m\n",
      "\u001b[0;32m<ipython-input-28-8318e4c4c001>\u001b[0m in \u001b[0;36mload_and_clean_data\u001b[0;34m(location)\u001b[0m\n\u001b[1;32m      9\u001b[0m         \u001b[0;32mfor\u001b[0m \u001b[0mtext_file_name\u001b[0m \u001b[0;32min\u001b[0m \u001b[0mtext_file_names\u001b[0m\u001b[0;34m:\u001b[0m\u001b[0;34m\u001b[0m\u001b[0;34m\u001b[0m\u001b[0m\n\u001b[1;32m     10\u001b[0m                 \u001b[0mfile_array\u001b[0m\u001b[0;34m.\u001b[0m\u001b[0mappend\u001b[0m\u001b[0;34m(\u001b[0m\u001b[0mtext_file_name\u001b[0m\u001b[0;34m)\u001b[0m\u001b[0;34m\u001b[0m\u001b[0;34m\u001b[0m\u001b[0m\n\u001b[0;32m---> 11\u001b[0;31m                 \u001b[0mtxt\u001b[0m\u001b[0;34m=\u001b[0m\u001b[0mread_txt_file\u001b[0m\u001b[0;34m(\u001b[0m\u001b[0mlocation\u001b[0m\u001b[0;34m+\u001b[0m\u001b[0;34m'/'\u001b[0m\u001b[0;34m+\u001b[0m\u001b[0my\u001b[0m\u001b[0;34m[\u001b[0m\u001b[0mi\u001b[0m\u001b[0;34m]\u001b[0m\u001b[0;34m+\u001b[0m\u001b[0;34m'/'\u001b[0m\u001b[0;34m+\u001b[0m\u001b[0mtext_file_name\u001b[0m\u001b[0;34m)\u001b[0m \u001b[0;31m#read the text file\u001b[0m\u001b[0;34m\u001b[0m\u001b[0;34m\u001b[0m\u001b[0m\n\u001b[0m\u001b[1;32m     12\u001b[0m                 \u001b[0mtxts\u001b[0m\u001b[0;34m.\u001b[0m\u001b[0mappend\u001b[0m\u001b[0;34m(\u001b[0m\u001b[0mtxt\u001b[0m\u001b[0;34m)\u001b[0m\u001b[0;34m\u001b[0m\u001b[0;34m\u001b[0m\u001b[0m\n\u001b[1;32m     13\u001b[0m                 \u001b[0mtxts_cleaned\u001b[0m\u001b[0;34m.\u001b[0m\u001b[0mappend\u001b[0m\u001b[0;34m(\u001b[0m\u001b[0mclean_txt\u001b[0m\u001b[0;34m(\u001b[0m\u001b[0mtxt\u001b[0m\u001b[0;34m)\u001b[0m\u001b[0;34m)\u001b[0m \u001b[0;31m#clean the text\u001b[0m\u001b[0;34m\u001b[0m\u001b[0;34m\u001b[0m\u001b[0m\n",
      "\u001b[0;32m<ipython-input-26-3f051b434e22>\u001b[0m in \u001b[0;36mread_txt_file\u001b[0;34m(file_name)\u001b[0m\n\u001b[1;32m      1\u001b[0m \u001b[0;34m'''this function is used to read text files.'''\u001b[0m\u001b[0;34m\u001b[0m\u001b[0;34m\u001b[0m\u001b[0m\n\u001b[1;32m      2\u001b[0m \u001b[0;32mdef\u001b[0m \u001b[0mread_txt_file\u001b[0m\u001b[0;34m(\u001b[0m\u001b[0mfile_name\u001b[0m\u001b[0;34m)\u001b[0m\u001b[0;34m:\u001b[0m\u001b[0;34m\u001b[0m\u001b[0;34m\u001b[0m\u001b[0m\n\u001b[0;32m----> 3\u001b[0;31m     \u001b[0;32mwith\u001b[0m \u001b[0mopen\u001b[0m\u001b[0;34m(\u001b[0m\u001b[0mfile_name\u001b[0m\u001b[0;34m,\u001b[0m\u001b[0mencoding\u001b[0m\u001b[0;34m=\u001b[0m\u001b[0;34m\"utf8\"\u001b[0m\u001b[0;34m,\u001b[0m \u001b[0merrors\u001b[0m\u001b[0;34m=\u001b[0m\u001b[0;34m'ignore'\u001b[0m\u001b[0;34m)\u001b[0m \u001b[0;32mas\u001b[0m \u001b[0mf\u001b[0m\u001b[0;34m:\u001b[0m\u001b[0;34m\u001b[0m\u001b[0;34m\u001b[0m\u001b[0m\n\u001b[0m\u001b[1;32m      4\u001b[0m         \u001b[0;31m###extract the boady of the text###\u001b[0m\u001b[0;34m\u001b[0m\u001b[0;34m\u001b[0m\u001b[0;34m\u001b[0m\u001b[0m\n\u001b[1;32m      5\u001b[0m         \u001b[0mline\u001b[0m \u001b[0;34m=\u001b[0m \u001b[0mf\u001b[0m\u001b[0;34m.\u001b[0m\u001b[0mreadline\u001b[0m\u001b[0;34m(\u001b[0m\u001b[0;34m)\u001b[0m\u001b[0;34m\u001b[0m\u001b[0;34m\u001b[0m\u001b[0m\n",
      "\u001b[0;32m/usr/lib/python3.7/codecs.py\u001b[0m in \u001b[0;36m__init__\u001b[0;34m(self, errors)\u001b[0m\n\u001b[1;32m    307\u001b[0m     \u001b[0mbyte\u001b[0m \u001b[0msequences\u001b[0m\u001b[0;34m.\u001b[0m\u001b[0;34m\u001b[0m\u001b[0;34m\u001b[0m\u001b[0m\n\u001b[1;32m    308\u001b[0m     \"\"\"\n\u001b[0;32m--> 309\u001b[0;31m     \u001b[0;32mdef\u001b[0m \u001b[0m__init__\u001b[0m\u001b[0;34m(\u001b[0m\u001b[0mself\u001b[0m\u001b[0;34m,\u001b[0m \u001b[0merrors\u001b[0m\u001b[0;34m=\u001b[0m\u001b[0;34m'strict'\u001b[0m\u001b[0;34m)\u001b[0m\u001b[0;34m:\u001b[0m\u001b[0;34m\u001b[0m\u001b[0;34m\u001b[0m\u001b[0m\n\u001b[0m\u001b[1;32m    310\u001b[0m         \u001b[0mIncrementalDecoder\u001b[0m\u001b[0;34m.\u001b[0m\u001b[0m__init__\u001b[0m\u001b[0;34m(\u001b[0m\u001b[0mself\u001b[0m\u001b[0;34m,\u001b[0m \u001b[0merrors\u001b[0m\u001b[0;34m)\u001b[0m\u001b[0;34m\u001b[0m\u001b[0;34m\u001b[0m\u001b[0m\n\u001b[1;32m    311\u001b[0m         \u001b[0;31m# undecoded input that is kept between calls to decode()\u001b[0m\u001b[0;34m\u001b[0m\u001b[0;34m\u001b[0m\u001b[0;34m\u001b[0m\u001b[0m\n",
      "\u001b[0;31mKeyboardInterrupt\u001b[0m: "
     ]
    }
   ],
   "source": [
    "df_train=load_and_clean_data(proj_dir+'20news-bydate-train')\n",
    "df_test=load_and_clean_data(proj_dir+'20news-bydate-test')"
   ]
  },
  {
   "cell_type": "code",
   "execution_count": null,
   "metadata": {
    "id": "dfa1b61d"
   },
   "outputs": [],
   "source": [
    "df_train.head()"
   ]
  },
  {
   "cell_type": "code",
   "execution_count": null,
   "metadata": {
    "id": "84a69f31"
   },
   "outputs": [],
   "source": [
    "df_test.head()"
   ]
  },
  {
   "cell_type": "markdown",
   "metadata": {
    "id": "b0c3a105"
   },
   "source": [
    "# Convert to vectors"
   ]
  },
  {
   "cell_type": "markdown",
   "metadata": {
    "id": "f974967b"
   },
   "source": [
    "document is tokenized into words and applied doc2vec model. doc2vec is a method to represent list of words using a vector. it is used to create a vectorised representation of a group of words taken collectively as a single unit.In gensim the model will always be trained on a word per word basis. Therefore  we split the document into an array of words using split(). In order to train the model, tagged documents are needed. it can be created by using models.doc2vec.TaggedDcument(). then finally we train the doc2vec model"
   ]
  },
  {
   "cell_type": "code",
   "execution_count": null,
   "metadata": {
    "id": "56b11ddb"
   },
   "outputs": [],
   "source": [
    "'''this function is used to do tokenization'''\n",
    "def tokenizer(txt):  \n",
    "    tokens=txt.split(' ')\n",
    "    unique_tokens=np.unique(np.array(tokens)) #get unique tokens\n",
    "    ###create a dictonary of tokens###\n",
    "    tokens_dict={}\n",
    "    for indx in range(len(unique_tokens)):\n",
    "        tokens_dict[unique_tokens[indx]]=indx\n",
    "    return(tokens_dict,tokens)"
   ]
  },
  {
   "cell_type": "code",
   "execution_count": null,
   "metadata": {
    "id": "f5543b28"
   },
   "outputs": [],
   "source": [
    "#tokanize train and test data\n",
    "words_list=[]\n",
    "for i in range(len(df_train)):\n",
    "    _,words=tokenizer(df_train['text cleaned'][i]) \n",
    "    words_list.append(words)\n",
    "for i in range(len(df_test)):\n",
    "    _,words=tokenizer(df_test['text cleaned'][i])\n",
    "    words_list.append(words)\n",
    "####################################"
   ]
  },
  {
   "cell_type": "code",
   "execution_count": null,
   "metadata": {
    "id": "d8f42138"
   },
   "outputs": [],
   "source": [
    "documents = [TaggedDocument(doc, [i]) for i, doc in enumerate(words_list)]\n",
    "model = Doc2Vec(vector_size=40, min_count=2, epochs=30) #fit the Doc2Vec model\n",
    "model.build_vocab(documents)\n",
    "model.train(documents, total_examples=model.corpus_count, epochs=model.epochs)"
   ]
  },
  {
   "cell_type": "code",
   "execution_count": null,
   "metadata": {
    "id": "0ab99bf3"
   },
   "outputs": [],
   "source": [
    "###get train vectors##\n",
    "train_vectors=[]\n",
    "for i in range(len(df_train)):\n",
    "    train_vectors.append(model.infer_vector(list(df_train['text cleaned'][i].split(' '))))\n",
    "##########################"
   ]
  },
  {
   "cell_type": "code",
   "execution_count": null,
   "metadata": {
    "id": "680576d1"
   },
   "outputs": [],
   "source": [
    "##get test vectors##\n",
    "test_vectors=[]\n",
    "for i in range(len(df_test)):\n",
    "    test_vectors.append(model.infer_vector(list(df_test['text cleaned'][i].split(' '))))\n",
    "############################"
   ]
  },
  {
   "cell_type": "code",
   "execution_count": null,
   "metadata": {
    "id": "2a6b46f4"
   },
   "outputs": [],
   "source": [
    "train=pd.DataFrame(train_vectors)\n",
    "train['folder name']=df_train['folder name']\n",
    "train['file name']=df_train['file name']\n",
    "test=pd.DataFrame(test_vectors)\n",
    "test['folder name']=df_test['folder name']\n",
    "test['file name']=df_test['file name']"
   ]
  },
  {
   "cell_type": "code",
   "execution_count": null,
   "metadata": {
    "colab": {
     "base_uri": "https://localhost:8080/",
     "height": 317
    },
    "id": "fde2eb19",
    "outputId": "3b38518d-089b-42ea-a77d-b8f9b1dbba7c"
   },
   "outputs": [
    {
     "data": {
      "text/html": [
       "\n",
       "  <div id=\"df-d4399676-e95a-4ae1-a1b2-5f4342735462\">\n",
       "    <div class=\"colab-df-container\">\n",
       "      <div>\n",
       "<style scoped>\n",
       "    .dataframe tbody tr th:only-of-type {\n",
       "        vertical-align: middle;\n",
       "    }\n",
       "\n",
       "    .dataframe tbody tr th {\n",
       "        vertical-align: top;\n",
       "    }\n",
       "\n",
       "    .dataframe thead th {\n",
       "        text-align: right;\n",
       "    }\n",
       "</style>\n",
       "<table border=\"1\" class=\"dataframe\">\n",
       "  <thead>\n",
       "    <tr style=\"text-align: right;\">\n",
       "      <th></th>\n",
       "      <th>0</th>\n",
       "      <th>1</th>\n",
       "      <th>2</th>\n",
       "      <th>3</th>\n",
       "      <th>4</th>\n",
       "      <th>5</th>\n",
       "      <th>6</th>\n",
       "      <th>7</th>\n",
       "      <th>8</th>\n",
       "      <th>9</th>\n",
       "      <th>...</th>\n",
       "      <th>32</th>\n",
       "      <th>33</th>\n",
       "      <th>34</th>\n",
       "      <th>35</th>\n",
       "      <th>36</th>\n",
       "      <th>37</th>\n",
       "      <th>38</th>\n",
       "      <th>39</th>\n",
       "      <th>folder name</th>\n",
       "      <th>file name</th>\n",
       "    </tr>\n",
       "  </thead>\n",
       "  <tbody>\n",
       "    <tr>\n",
       "      <th>0</th>\n",
       "      <td>-0.933205</td>\n",
       "      <td>-0.178977</td>\n",
       "      <td>-0.261009</td>\n",
       "      <td>0.522588</td>\n",
       "      <td>-1.079097</td>\n",
       "      <td>0.142576</td>\n",
       "      <td>0.162591</td>\n",
       "      <td>-0.868961</td>\n",
       "      <td>0.303258</td>\n",
       "      <td>0.526063</td>\n",
       "      <td>...</td>\n",
       "      <td>-0.548832</td>\n",
       "      <td>0.160508</td>\n",
       "      <td>-1.081549</td>\n",
       "      <td>-0.092147</td>\n",
       "      <td>-0.188266</td>\n",
       "      <td>0.078702</td>\n",
       "      <td>0.110594</td>\n",
       "      <td>0.436555</td>\n",
       "      <td>comp.windows.x</td>\n",
       "      <td>66939</td>\n",
       "    </tr>\n",
       "    <tr>\n",
       "      <th>1</th>\n",
       "      <td>-0.943828</td>\n",
       "      <td>-0.387731</td>\n",
       "      <td>0.812329</td>\n",
       "      <td>0.069872</td>\n",
       "      <td>-0.979679</td>\n",
       "      <td>-0.230455</td>\n",
       "      <td>0.789759</td>\n",
       "      <td>-0.558625</td>\n",
       "      <td>0.368101</td>\n",
       "      <td>0.619312</td>\n",
       "      <td>...</td>\n",
       "      <td>0.841802</td>\n",
       "      <td>-0.288762</td>\n",
       "      <td>-0.511047</td>\n",
       "      <td>0.315134</td>\n",
       "      <td>0.981870</td>\n",
       "      <td>-0.017787</td>\n",
       "      <td>-1.309450</td>\n",
       "      <td>0.418268</td>\n",
       "      <td>comp.windows.x</td>\n",
       "      <td>67117</td>\n",
       "    </tr>\n",
       "    <tr>\n",
       "      <th>2</th>\n",
       "      <td>-0.946725</td>\n",
       "      <td>0.264787</td>\n",
       "      <td>-0.093094</td>\n",
       "      <td>0.776043</td>\n",
       "      <td>-0.100243</td>\n",
       "      <td>-0.666881</td>\n",
       "      <td>0.893518</td>\n",
       "      <td>-0.509928</td>\n",
       "      <td>0.308410</td>\n",
       "      <td>0.140922</td>\n",
       "      <td>...</td>\n",
       "      <td>-0.388820</td>\n",
       "      <td>0.519086</td>\n",
       "      <td>-0.018635</td>\n",
       "      <td>0.497458</td>\n",
       "      <td>0.166446</td>\n",
       "      <td>0.774613</td>\n",
       "      <td>-0.303735</td>\n",
       "      <td>-0.210747</td>\n",
       "      <td>comp.windows.x</td>\n",
       "      <td>66947</td>\n",
       "    </tr>\n",
       "    <tr>\n",
       "      <th>3</th>\n",
       "      <td>-0.825486</td>\n",
       "      <td>-0.158539</td>\n",
       "      <td>-0.047129</td>\n",
       "      <td>0.336530</td>\n",
       "      <td>-0.584075</td>\n",
       "      <td>0.214128</td>\n",
       "      <td>0.320981</td>\n",
       "      <td>-0.165183</td>\n",
       "      <td>0.238848</td>\n",
       "      <td>0.113800</td>\n",
       "      <td>...</td>\n",
       "      <td>-0.228607</td>\n",
       "      <td>0.207944</td>\n",
       "      <td>-0.018020</td>\n",
       "      <td>0.054750</td>\n",
       "      <td>-0.249475</td>\n",
       "      <td>0.195008</td>\n",
       "      <td>-0.359494</td>\n",
       "      <td>-0.102604</td>\n",
       "      <td>comp.windows.x</td>\n",
       "      <td>67279</td>\n",
       "    </tr>\n",
       "    <tr>\n",
       "      <th>4</th>\n",
       "      <td>-1.245210</td>\n",
       "      <td>0.604609</td>\n",
       "      <td>0.218405</td>\n",
       "      <td>0.284372</td>\n",
       "      <td>-1.356997</td>\n",
       "      <td>-0.581402</td>\n",
       "      <td>0.701923</td>\n",
       "      <td>-0.781762</td>\n",
       "      <td>0.198173</td>\n",
       "      <td>0.474908</td>\n",
       "      <td>...</td>\n",
       "      <td>0.317477</td>\n",
       "      <td>-1.141635</td>\n",
       "      <td>-1.544908</td>\n",
       "      <td>1.008704</td>\n",
       "      <td>0.396541</td>\n",
       "      <td>-0.674398</td>\n",
       "      <td>-0.704394</td>\n",
       "      <td>0.311889</td>\n",
       "      <td>comp.windows.x</td>\n",
       "      <td>67410</td>\n",
       "    </tr>\n",
       "  </tbody>\n",
       "</table>\n",
       "<p>5 rows × 42 columns</p>\n",
       "</div>\n",
       "      <button class=\"colab-df-convert\" onclick=\"convertToInteractive('df-d4399676-e95a-4ae1-a1b2-5f4342735462')\"\n",
       "              title=\"Convert this dataframe to an interactive table.\"\n",
       "              style=\"display:none;\">\n",
       "        \n",
       "  <svg xmlns=\"http://www.w3.org/2000/svg\" height=\"24px\"viewBox=\"0 0 24 24\"\n",
       "       width=\"24px\">\n",
       "    <path d=\"M0 0h24v24H0V0z\" fill=\"none\"/>\n",
       "    <path d=\"M18.56 5.44l.94 2.06.94-2.06 2.06-.94-2.06-.94-.94-2.06-.94 2.06-2.06.94zm-11 1L8.5 8.5l.94-2.06 2.06-.94-2.06-.94L8.5 2.5l-.94 2.06-2.06.94zm10 10l.94 2.06.94-2.06 2.06-.94-2.06-.94-.94-2.06-.94 2.06-2.06.94z\"/><path d=\"M17.41 7.96l-1.37-1.37c-.4-.4-.92-.59-1.43-.59-.52 0-1.04.2-1.43.59L10.3 9.45l-7.72 7.72c-.78.78-.78 2.05 0 2.83L4 21.41c.39.39.9.59 1.41.59.51 0 1.02-.2 1.41-.59l7.78-7.78 2.81-2.81c.8-.78.8-2.07 0-2.86zM5.41 20L4 18.59l7.72-7.72 1.47 1.35L5.41 20z\"/>\n",
       "  </svg>\n",
       "      </button>\n",
       "      \n",
       "  <style>\n",
       "    .colab-df-container {\n",
       "      display:flex;\n",
       "      flex-wrap:wrap;\n",
       "      gap: 12px;\n",
       "    }\n",
       "\n",
       "    .colab-df-convert {\n",
       "      background-color: #E8F0FE;\n",
       "      border: none;\n",
       "      border-radius: 50%;\n",
       "      cursor: pointer;\n",
       "      display: none;\n",
       "      fill: #1967D2;\n",
       "      height: 32px;\n",
       "      padding: 0 0 0 0;\n",
       "      width: 32px;\n",
       "    }\n",
       "\n",
       "    .colab-df-convert:hover {\n",
       "      background-color: #E2EBFA;\n",
       "      box-shadow: 0px 1px 2px rgba(60, 64, 67, 0.3), 0px 1px 3px 1px rgba(60, 64, 67, 0.15);\n",
       "      fill: #174EA6;\n",
       "    }\n",
       "\n",
       "    [theme=dark] .colab-df-convert {\n",
       "      background-color: #3B4455;\n",
       "      fill: #D2E3FC;\n",
       "    }\n",
       "\n",
       "    [theme=dark] .colab-df-convert:hover {\n",
       "      background-color: #434B5C;\n",
       "      box-shadow: 0px 1px 3px 1px rgba(0, 0, 0, 0.15);\n",
       "      filter: drop-shadow(0px 1px 2px rgba(0, 0, 0, 0.3));\n",
       "      fill: #FFFFFF;\n",
       "    }\n",
       "  </style>\n",
       "\n",
       "      <script>\n",
       "        const buttonEl =\n",
       "          document.querySelector('#df-d4399676-e95a-4ae1-a1b2-5f4342735462 button.colab-df-convert');\n",
       "        buttonEl.style.display =\n",
       "          google.colab.kernel.accessAllowed ? 'block' : 'none';\n",
       "\n",
       "        async function convertToInteractive(key) {\n",
       "          const element = document.querySelector('#df-d4399676-e95a-4ae1-a1b2-5f4342735462');\n",
       "          const dataTable =\n",
       "            await google.colab.kernel.invokeFunction('convertToInteractive',\n",
       "                                                     [key], {});\n",
       "          if (!dataTable) return;\n",
       "\n",
       "          const docLinkHtml = 'Like what you see? Visit the ' +\n",
       "            '<a target=\"_blank\" href=https://colab.research.google.com/notebooks/data_table.ipynb>data table notebook</a>'\n",
       "            + ' to learn more about interactive tables.';\n",
       "          element.innerHTML = '';\n",
       "          dataTable['output_type'] = 'display_data';\n",
       "          await google.colab.output.renderOutput(dataTable, element);\n",
       "          const docLink = document.createElement('div');\n",
       "          docLink.innerHTML = docLinkHtml;\n",
       "          element.appendChild(docLink);\n",
       "        }\n",
       "      </script>\n",
       "    </div>\n",
       "  </div>\n",
       "  "
      ],
      "text/plain": [
       "          0         1         2         3         4         5         6  \\\n",
       "0 -0.933205 -0.178977 -0.261009  0.522588 -1.079097  0.142576  0.162591   \n",
       "1 -0.943828 -0.387731  0.812329  0.069872 -0.979679 -0.230455  0.789759   \n",
       "2 -0.946725  0.264787 -0.093094  0.776043 -0.100243 -0.666881  0.893518   \n",
       "3 -0.825486 -0.158539 -0.047129  0.336530 -0.584075  0.214128  0.320981   \n",
       "4 -1.245210  0.604609  0.218405  0.284372 -1.356997 -0.581402  0.701923   \n",
       "\n",
       "          7         8         9  ...        32        33        34        35  \\\n",
       "0 -0.868961  0.303258  0.526063  ... -0.548832  0.160508 -1.081549 -0.092147   \n",
       "1 -0.558625  0.368101  0.619312  ...  0.841802 -0.288762 -0.511047  0.315134   \n",
       "2 -0.509928  0.308410  0.140922  ... -0.388820  0.519086 -0.018635  0.497458   \n",
       "3 -0.165183  0.238848  0.113800  ... -0.228607  0.207944 -0.018020  0.054750   \n",
       "4 -0.781762  0.198173  0.474908  ...  0.317477 -1.141635 -1.544908  1.008704   \n",
       "\n",
       "         36        37        38        39     folder name  file name  \n",
       "0 -0.188266  0.078702  0.110594  0.436555  comp.windows.x      66939  \n",
       "1  0.981870 -0.017787 -1.309450  0.418268  comp.windows.x      67117  \n",
       "2  0.166446  0.774613 -0.303735 -0.210747  comp.windows.x      66947  \n",
       "3 -0.249475  0.195008 -0.359494 -0.102604  comp.windows.x      67279  \n",
       "4  0.396541 -0.674398 -0.704394  0.311889  comp.windows.x      67410  \n",
       "\n",
       "[5 rows x 42 columns]"
      ]
     },
     "execution_count": 20,
     "metadata": {},
     "output_type": "execute_result"
    }
   ],
   "source": [
    "train.head()"
   ]
  },
  {
   "cell_type": "code",
   "execution_count": null,
   "metadata": {
    "colab": {
     "base_uri": "https://localhost:8080/",
     "height": 317
    },
    "id": "aa1fdce6",
    "outputId": "bbf38821-9de9-4159-8a64-7d0101452fc6"
   },
   "outputs": [
    {
     "data": {
      "text/html": [
       "\n",
       "  <div id=\"df-bb8b13e6-48c4-4db9-b4d6-273a0e934e63\">\n",
       "    <div class=\"colab-df-container\">\n",
       "      <div>\n",
       "<style scoped>\n",
       "    .dataframe tbody tr th:only-of-type {\n",
       "        vertical-align: middle;\n",
       "    }\n",
       "\n",
       "    .dataframe tbody tr th {\n",
       "        vertical-align: top;\n",
       "    }\n",
       "\n",
       "    .dataframe thead th {\n",
       "        text-align: right;\n",
       "    }\n",
       "</style>\n",
       "<table border=\"1\" class=\"dataframe\">\n",
       "  <thead>\n",
       "    <tr style=\"text-align: right;\">\n",
       "      <th></th>\n",
       "      <th>0</th>\n",
       "      <th>1</th>\n",
       "      <th>2</th>\n",
       "      <th>3</th>\n",
       "      <th>4</th>\n",
       "      <th>5</th>\n",
       "      <th>6</th>\n",
       "      <th>7</th>\n",
       "      <th>8</th>\n",
       "      <th>9</th>\n",
       "      <th>...</th>\n",
       "      <th>32</th>\n",
       "      <th>33</th>\n",
       "      <th>34</th>\n",
       "      <th>35</th>\n",
       "      <th>36</th>\n",
       "      <th>37</th>\n",
       "      <th>38</th>\n",
       "      <th>39</th>\n",
       "      <th>folder name</th>\n",
       "      <th>file name</th>\n",
       "    </tr>\n",
       "  </thead>\n",
       "  <tbody>\n",
       "    <tr>\n",
       "      <th>0</th>\n",
       "      <td>-0.550795</td>\n",
       "      <td>-0.185601</td>\n",
       "      <td>0.179597</td>\n",
       "      <td>0.160102</td>\n",
       "      <td>-0.774041</td>\n",
       "      <td>0.026048</td>\n",
       "      <td>0.101547</td>\n",
       "      <td>-0.618309</td>\n",
       "      <td>0.498451</td>\n",
       "      <td>0.205104</td>\n",
       "      <td>...</td>\n",
       "      <td>-0.200693</td>\n",
       "      <td>0.058638</td>\n",
       "      <td>-0.457904</td>\n",
       "      <td>-0.095728</td>\n",
       "      <td>0.491058</td>\n",
       "      <td>0.255946</td>\n",
       "      <td>-0.680001</td>\n",
       "      <td>0.517784</td>\n",
       "      <td>comp.windows.x</td>\n",
       "      <td>67551</td>\n",
       "    </tr>\n",
       "    <tr>\n",
       "      <th>1</th>\n",
       "      <td>-0.284087</td>\n",
       "      <td>-0.115187</td>\n",
       "      <td>0.030702</td>\n",
       "      <td>0.281320</td>\n",
       "      <td>-0.407325</td>\n",
       "      <td>-0.114323</td>\n",
       "      <td>0.454607</td>\n",
       "      <td>0.235487</td>\n",
       "      <td>-0.010821</td>\n",
       "      <td>-0.014563</td>\n",
       "      <td>...</td>\n",
       "      <td>0.268885</td>\n",
       "      <td>0.061176</td>\n",
       "      <td>-0.044732</td>\n",
       "      <td>-0.282029</td>\n",
       "      <td>0.264577</td>\n",
       "      <td>0.162512</td>\n",
       "      <td>-0.086966</td>\n",
       "      <td>0.012738</td>\n",
       "      <td>comp.windows.x</td>\n",
       "      <td>67566</td>\n",
       "    </tr>\n",
       "    <tr>\n",
       "      <th>2</th>\n",
       "      <td>-0.753040</td>\n",
       "      <td>-0.321237</td>\n",
       "      <td>0.587022</td>\n",
       "      <td>0.506401</td>\n",
       "      <td>-1.301483</td>\n",
       "      <td>-0.676634</td>\n",
       "      <td>0.877525</td>\n",
       "      <td>-1.028694</td>\n",
       "      <td>0.880936</td>\n",
       "      <td>0.481587</td>\n",
       "      <td>...</td>\n",
       "      <td>0.720471</td>\n",
       "      <td>-0.234179</td>\n",
       "      <td>-0.356360</td>\n",
       "      <td>-0.316403</td>\n",
       "      <td>0.765838</td>\n",
       "      <td>-0.337010</td>\n",
       "      <td>-0.725563</td>\n",
       "      <td>-0.029713</td>\n",
       "      <td>comp.windows.x</td>\n",
       "      <td>68196</td>\n",
       "    </tr>\n",
       "    <tr>\n",
       "      <th>3</th>\n",
       "      <td>-2.778311</td>\n",
       "      <td>1.280611</td>\n",
       "      <td>-1.136019</td>\n",
       "      <td>1.160854</td>\n",
       "      <td>-2.688332</td>\n",
       "      <td>-8.161446</td>\n",
       "      <td>2.877449</td>\n",
       "      <td>-2.769453</td>\n",
       "      <td>-1.838291</td>\n",
       "      <td>1.585129</td>\n",
       "      <td>...</td>\n",
       "      <td>0.298002</td>\n",
       "      <td>-1.080549</td>\n",
       "      <td>-3.076638</td>\n",
       "      <td>4.455657</td>\n",
       "      <td>0.344549</td>\n",
       "      <td>-1.086496</td>\n",
       "      <td>-1.242209</td>\n",
       "      <td>-1.996426</td>\n",
       "      <td>comp.windows.x</td>\n",
       "      <td>68332.eml</td>\n",
       "    </tr>\n",
       "    <tr>\n",
       "      <th>4</th>\n",
       "      <td>-0.911315</td>\n",
       "      <td>0.115350</td>\n",
       "      <td>-0.346644</td>\n",
       "      <td>0.170139</td>\n",
       "      <td>-2.200856</td>\n",
       "      <td>-0.641439</td>\n",
       "      <td>0.945493</td>\n",
       "      <td>0.113511</td>\n",
       "      <td>0.979531</td>\n",
       "      <td>0.814421</td>\n",
       "      <td>...</td>\n",
       "      <td>-0.274061</td>\n",
       "      <td>-0.272230</td>\n",
       "      <td>-0.439384</td>\n",
       "      <td>1.056096</td>\n",
       "      <td>0.299681</td>\n",
       "      <td>-1.047593</td>\n",
       "      <td>-0.787903</td>\n",
       "      <td>0.248227</td>\n",
       "      <td>comp.windows.x</td>\n",
       "      <td>67972</td>\n",
       "    </tr>\n",
       "  </tbody>\n",
       "</table>\n",
       "<p>5 rows × 42 columns</p>\n",
       "</div>\n",
       "      <button class=\"colab-df-convert\" onclick=\"convertToInteractive('df-bb8b13e6-48c4-4db9-b4d6-273a0e934e63')\"\n",
       "              title=\"Convert this dataframe to an interactive table.\"\n",
       "              style=\"display:none;\">\n",
       "        \n",
       "  <svg xmlns=\"http://www.w3.org/2000/svg\" height=\"24px\"viewBox=\"0 0 24 24\"\n",
       "       width=\"24px\">\n",
       "    <path d=\"M0 0h24v24H0V0z\" fill=\"none\"/>\n",
       "    <path d=\"M18.56 5.44l.94 2.06.94-2.06 2.06-.94-2.06-.94-.94-2.06-.94 2.06-2.06.94zm-11 1L8.5 8.5l.94-2.06 2.06-.94-2.06-.94L8.5 2.5l-.94 2.06-2.06.94zm10 10l.94 2.06.94-2.06 2.06-.94-2.06-.94-.94-2.06-.94 2.06-2.06.94z\"/><path d=\"M17.41 7.96l-1.37-1.37c-.4-.4-.92-.59-1.43-.59-.52 0-1.04.2-1.43.59L10.3 9.45l-7.72 7.72c-.78.78-.78 2.05 0 2.83L4 21.41c.39.39.9.59 1.41.59.51 0 1.02-.2 1.41-.59l7.78-7.78 2.81-2.81c.8-.78.8-2.07 0-2.86zM5.41 20L4 18.59l7.72-7.72 1.47 1.35L5.41 20z\"/>\n",
       "  </svg>\n",
       "      </button>\n",
       "      \n",
       "  <style>\n",
       "    .colab-df-container {\n",
       "      display:flex;\n",
       "      flex-wrap:wrap;\n",
       "      gap: 12px;\n",
       "    }\n",
       "\n",
       "    .colab-df-convert {\n",
       "      background-color: #E8F0FE;\n",
       "      border: none;\n",
       "      border-radius: 50%;\n",
       "      cursor: pointer;\n",
       "      display: none;\n",
       "      fill: #1967D2;\n",
       "      height: 32px;\n",
       "      padding: 0 0 0 0;\n",
       "      width: 32px;\n",
       "    }\n",
       "\n",
       "    .colab-df-convert:hover {\n",
       "      background-color: #E2EBFA;\n",
       "      box-shadow: 0px 1px 2px rgba(60, 64, 67, 0.3), 0px 1px 3px 1px rgba(60, 64, 67, 0.15);\n",
       "      fill: #174EA6;\n",
       "    }\n",
       "\n",
       "    [theme=dark] .colab-df-convert {\n",
       "      background-color: #3B4455;\n",
       "      fill: #D2E3FC;\n",
       "    }\n",
       "\n",
       "    [theme=dark] .colab-df-convert:hover {\n",
       "      background-color: #434B5C;\n",
       "      box-shadow: 0px 1px 3px 1px rgba(0, 0, 0, 0.15);\n",
       "      filter: drop-shadow(0px 1px 2px rgba(0, 0, 0, 0.3));\n",
       "      fill: #FFFFFF;\n",
       "    }\n",
       "  </style>\n",
       "\n",
       "      <script>\n",
       "        const buttonEl =\n",
       "          document.querySelector('#df-bb8b13e6-48c4-4db9-b4d6-273a0e934e63 button.colab-df-convert');\n",
       "        buttonEl.style.display =\n",
       "          google.colab.kernel.accessAllowed ? 'block' : 'none';\n",
       "\n",
       "        async function convertToInteractive(key) {\n",
       "          const element = document.querySelector('#df-bb8b13e6-48c4-4db9-b4d6-273a0e934e63');\n",
       "          const dataTable =\n",
       "            await google.colab.kernel.invokeFunction('convertToInteractive',\n",
       "                                                     [key], {});\n",
       "          if (!dataTable) return;\n",
       "\n",
       "          const docLinkHtml = 'Like what you see? Visit the ' +\n",
       "            '<a target=\"_blank\" href=https://colab.research.google.com/notebooks/data_table.ipynb>data table notebook</a>'\n",
       "            + ' to learn more about interactive tables.';\n",
       "          element.innerHTML = '';\n",
       "          dataTable['output_type'] = 'display_data';\n",
       "          await google.colab.output.renderOutput(dataTable, element);\n",
       "          const docLink = document.createElement('div');\n",
       "          docLink.innerHTML = docLinkHtml;\n",
       "          element.appendChild(docLink);\n",
       "        }\n",
       "      </script>\n",
       "    </div>\n",
       "  </div>\n",
       "  "
      ],
      "text/plain": [
       "          0         1         2         3         4         5         6  \\\n",
       "0 -0.550795 -0.185601  0.179597  0.160102 -0.774041  0.026048  0.101547   \n",
       "1 -0.284087 -0.115187  0.030702  0.281320 -0.407325 -0.114323  0.454607   \n",
       "2 -0.753040 -0.321237  0.587022  0.506401 -1.301483 -0.676634  0.877525   \n",
       "3 -2.778311  1.280611 -1.136019  1.160854 -2.688332 -8.161446  2.877449   \n",
       "4 -0.911315  0.115350 -0.346644  0.170139 -2.200856 -0.641439  0.945493   \n",
       "\n",
       "          7         8         9  ...        32        33        34        35  \\\n",
       "0 -0.618309  0.498451  0.205104  ... -0.200693  0.058638 -0.457904 -0.095728   \n",
       "1  0.235487 -0.010821 -0.014563  ...  0.268885  0.061176 -0.044732 -0.282029   \n",
       "2 -1.028694  0.880936  0.481587  ...  0.720471 -0.234179 -0.356360 -0.316403   \n",
       "3 -2.769453 -1.838291  1.585129  ...  0.298002 -1.080549 -3.076638  4.455657   \n",
       "4  0.113511  0.979531  0.814421  ... -0.274061 -0.272230 -0.439384  1.056096   \n",
       "\n",
       "         36        37        38        39     folder name  file name  \n",
       "0  0.491058  0.255946 -0.680001  0.517784  comp.windows.x      67551  \n",
       "1  0.264577  0.162512 -0.086966  0.012738  comp.windows.x      67566  \n",
       "2  0.765838 -0.337010 -0.725563 -0.029713  comp.windows.x      68196  \n",
       "3  0.344549 -1.086496 -1.242209 -1.996426  comp.windows.x  68332.eml  \n",
       "4  0.299681 -1.047593 -0.787903  0.248227  comp.windows.x      67972  \n",
       "\n",
       "[5 rows x 42 columns]"
      ]
     },
     "execution_count": 21,
     "metadata": {},
     "output_type": "execute_result"
    }
   ],
   "source": [
    "test.head()"
   ]
  },
  {
   "cell_type": "code",
   "execution_count": null,
   "metadata": {
    "id": "ad25977f"
   },
   "outputs": [],
   "source": [
    "train_,validation=train_test_split( train, test_size=0.33, random_state=42) #split data into train and validation sets"
   ]
  },
  {
   "cell_type": "code",
   "execution_count": null,
   "metadata": {
    "colab": {
     "base_uri": "https://localhost:8080/"
    },
    "id": "650079c8",
    "outputId": "689195a8-6027-4400-d966-1125bf932cfa"
   },
   "outputs": [
    {
     "data": {
      "text/plain": [
       "(7580, 7537, 3734)"
      ]
     },
     "execution_count": 23,
     "metadata": {},
     "output_type": "execute_result"
    }
   ],
   "source": [
    "len(train_),len(test),len(validation)"
   ]
  },
  {
   "cell_type": "code",
   "execution_count": null,
   "metadata": {
    "id": "22b2aca1"
   },
   "outputs": [],
   "source": [
    "#save data sets\n",
    "train_.to_csv(proj_dir+'train_data.csv')\n",
    "test.to_csv(proj_dir+'test_data.csv')\n",
    "validation.to_csv(proj_dir+'validation_data.csv')"
   ]
  },
  {
   "cell_type": "markdown",
   "metadata": {},
   "source": [
    "# Define independent variables and taget variable"
   ]
  },
  {
   "cell_type": "code",
   "execution_count": 2,
   "metadata": {},
   "outputs": [],
   "source": [
    "import pandas as pd\n",
    "\n",
    "# load data\n",
    "train = pd.read_csv(\"train_data.csv\", index_col=[0])\n",
    "validation = pd.read_csv(\"validation_data.csv\", index_col=[0])\n",
    "test = pd.read_csv(\"test_data.csv\", index_col=[0])\n",
    "\n",
    "# combine validation and training sets to do grid search\n",
    "train_val = pd.concat([train, validation], axis = 0)\n",
    "train_val = train_val.reset_index(drop = True)\n",
    "X_train_val = train_val.iloc[:,0:40]\n",
    "y_train_val = train_val[\"folder name\"]\n",
    "\n",
    "# specify x and y\n",
    "X_train = train.iloc[:,0:40]\n",
    "y_train = train[\"folder name\"]\n",
    "X_test = test.iloc[:,0:40]\n",
    "y_test = test[\"folder name\"]\n",
    "X_val = validation.iloc[:,0:40]\n",
    "y_val = validation[\"folder name\"]"
   ]
  },
  {
   "cell_type": "markdown",
   "metadata": {},
   "source": [
    "# Naive Bayes"
   ]
  },
  {
   "cell_type": "code",
   "execution_count": 23,
   "metadata": {},
   "outputs": [],
   "source": [
    "from sklearn.metrics import accuracy_score, precision_score, recall_score, f1_score\n",
    "from sklearn.naive_bayes import GaussianNB\n",
    "from sklearn.model_selection import GridSearchCV, PredefinedSplit"
   ]
  },
  {
   "cell_type": "code",
   "execution_count": 13,
   "metadata": {},
   "outputs": [
    {
     "name": "stdout",
     "output_type": "stream",
     "text": [
      "Fitting 1 folds for each of 15 candidates, totalling 15 fits\n"
     ]
    },
    {
     "name": "stderr",
     "output_type": "stream",
     "text": [
      "[Parallel(n_jobs=1)]: Using backend SequentialBackend with 1 concurrent workers.\n"
     ]
    },
    {
     "name": "stdout",
     "output_type": "stream",
     "text": [
      "Best parameter: {'var_smoothing': 0.0001}\n",
      "Best train accuracy score: 0.386448848419925\n"
     ]
    },
    {
     "name": "stderr",
     "output_type": "stream",
     "text": [
      "[Parallel(n_jobs=1)]: Done  15 out of  15 | elapsed:    0.5s finished\n"
     ]
    }
   ],
   "source": [
    "# Create a list where train data indices are -1 and validation data indices are 0\n",
    "split_index = [-1] * len(X_train) + [0] * len(X_val)\n",
    "pds = PredefinedSplit(test_fold = split_index)\n",
    "\n",
    "gnb_clf = GaussianNB()\n",
    "parameters = {\n",
    "    'var_smoothing': [1e-1,1e-2, 1e-3, 1e-4, 1e-5, 1e-6, 1e-7, 1e-8, 1e-9, 1e-10, 1e-11, 1e-12, 1e-13, 1e-14, 1e-15]\n",
    "}\n",
    "clf = GridSearchCV(gnb_clf, parameters, cv=pds, verbose=1, n_jobs=1) #it is hold-out validation here\n",
    "clf.fit(X_train_val, y_train_val)\n",
    "\n",
    "print('Best parameter:',clf.best_params_) #best performance on training set and its parameter\n",
    "print('Best train accuracy score:', clf.best_score_)"
   ]
  },
  {
   "cell_type": "code",
   "execution_count": 14,
   "metadata": {},
   "outputs": [
    {
     "data": {
      "text/html": [
       "<div>\n",
       "<style scoped>\n",
       "    .dataframe tbody tr th:only-of-type {\n",
       "        vertical-align: middle;\n",
       "    }\n",
       "\n",
       "    .dataframe tbody tr th {\n",
       "        vertical-align: top;\n",
       "    }\n",
       "\n",
       "    .dataframe thead th {\n",
       "        text-align: right;\n",
       "    }\n",
       "</style>\n",
       "<table border=\"1\" class=\"dataframe\">\n",
       "  <thead>\n",
       "    <tr style=\"text-align: right;\">\n",
       "      <th></th>\n",
       "      <th>var_smoothing</th>\n",
       "      <th>Accuracy</th>\n",
       "    </tr>\n",
       "  </thead>\n",
       "  <tbody>\n",
       "    <tr>\n",
       "      <th>0</th>\n",
       "      <td>1.000000e-01</td>\n",
       "      <td>0.376272</td>\n",
       "    </tr>\n",
       "    <tr>\n",
       "      <th>1</th>\n",
       "      <td>1.000000e-02</td>\n",
       "      <td>0.385645</td>\n",
       "    </tr>\n",
       "    <tr>\n",
       "      <th>2</th>\n",
       "      <td>1.000000e-03</td>\n",
       "      <td>0.386181</td>\n",
       "    </tr>\n",
       "    <tr>\n",
       "      <th>3</th>\n",
       "      <td>1.000000e-04</td>\n",
       "      <td>0.386449</td>\n",
       "    </tr>\n",
       "    <tr>\n",
       "      <th>4</th>\n",
       "      <td>1.000000e-05</td>\n",
       "      <td>0.386449</td>\n",
       "    </tr>\n",
       "    <tr>\n",
       "      <th>5</th>\n",
       "      <td>1.000000e-06</td>\n",
       "      <td>0.386449</td>\n",
       "    </tr>\n",
       "    <tr>\n",
       "      <th>6</th>\n",
       "      <td>1.000000e-07</td>\n",
       "      <td>0.386449</td>\n",
       "    </tr>\n",
       "    <tr>\n",
       "      <th>7</th>\n",
       "      <td>1.000000e-08</td>\n",
       "      <td>0.386449</td>\n",
       "    </tr>\n",
       "    <tr>\n",
       "      <th>8</th>\n",
       "      <td>1.000000e-09</td>\n",
       "      <td>0.386449</td>\n",
       "    </tr>\n",
       "    <tr>\n",
       "      <th>9</th>\n",
       "      <td>1.000000e-10</td>\n",
       "      <td>0.386449</td>\n",
       "    </tr>\n",
       "    <tr>\n",
       "      <th>10</th>\n",
       "      <td>1.000000e-11</td>\n",
       "      <td>0.386449</td>\n",
       "    </tr>\n",
       "    <tr>\n",
       "      <th>11</th>\n",
       "      <td>1.000000e-12</td>\n",
       "      <td>0.386449</td>\n",
       "    </tr>\n",
       "    <tr>\n",
       "      <th>12</th>\n",
       "      <td>1.000000e-13</td>\n",
       "      <td>0.386449</td>\n",
       "    </tr>\n",
       "    <tr>\n",
       "      <th>13</th>\n",
       "      <td>1.000000e-14</td>\n",
       "      <td>0.386449</td>\n",
       "    </tr>\n",
       "    <tr>\n",
       "      <th>14</th>\n",
       "      <td>1.000000e-15</td>\n",
       "      <td>0.386449</td>\n",
       "    </tr>\n",
       "  </tbody>\n",
       "</table>\n",
       "</div>"
      ],
      "text/plain": [
       "    var_smoothing  Accuracy\n",
       "0    1.000000e-01  0.376272\n",
       "1    1.000000e-02  0.385645\n",
       "2    1.000000e-03  0.386181\n",
       "3    1.000000e-04  0.386449\n",
       "4    1.000000e-05  0.386449\n",
       "5    1.000000e-06  0.386449\n",
       "6    1.000000e-07  0.386449\n",
       "7    1.000000e-08  0.386449\n",
       "8    1.000000e-09  0.386449\n",
       "9    1.000000e-10  0.386449\n",
       "10   1.000000e-11  0.386449\n",
       "11   1.000000e-12  0.386449\n",
       "12   1.000000e-13  0.386449\n",
       "13   1.000000e-14  0.386449\n",
       "14   1.000000e-15  0.386449"
      ]
     },
     "execution_count": 14,
     "metadata": {},
     "output_type": "execute_result"
    }
   ],
   "source": [
    "#grid search performance\n",
    "pd.concat([pd.DataFrame(clf.cv_results_[\"params\"]),pd.DataFrame(clf.cv_results_[\"mean_test_score\"], columns=[\"Accuracy\"])],axis=1)"
   ]
  },
  {
   "cell_type": "code",
   "execution_count": 24,
   "metadata": {},
   "outputs": [
    {
     "name": "stdout",
     "output_type": "stream",
     "text": [
      "Test accuracy score: 0.3830436513201539\n",
      "Test macro averaged precision score: 0.4689854187857151\n",
      "Test recall score: 0.37356957129115104\n",
      "Test macro averaged f1 score: 0.38210340584727925\n"
     ]
    }
   ],
   "source": [
    "#performance on test set\n",
    "nb_pred = clf.best_estimator_.predict(X_test)\n",
    "print('Test accuracy score:', accuracy_score(y_test, nb_pred))\\\n",
    "\n",
    "macro_averaged_precision = precision_score(y_test, nb_pred, average = 'macro')\n",
    "print('Test macro averaged precision score:', macro_averaged_precision)\n",
    "\n",
    "recall = recall_score(y_test, nb_pred, average = 'macro')\n",
    "print('Test recall score:', recall)\n",
    "\n",
    "macro_averaged_f1 = f1_score(y_test, nb_pred, average = 'macro')\n",
    "print('Test macro averaged f1 score:', macro_averaged_f1)"
   ]
  },
  {
   "cell_type": "markdown",
   "metadata": {},
   "source": [
    "Macro averaged precision: calculate precision for all classes individually and then average them."
   ]
  },
  {
   "cell_type": "markdown",
   "metadata": {},
   "source": [
    "# KNN"
   ]
  },
  {
   "cell_type": "code",
   "execution_count": 25,
   "metadata": {},
   "outputs": [],
   "source": [
    "from sklearn.neighbors import KNeighborsClassifier"
   ]
  },
  {
   "cell_type": "code",
   "execution_count": 26,
   "metadata": {},
   "outputs": [
    {
     "name": "stdout",
     "output_type": "stream",
     "text": [
      "Fitting 1 folds for each of 30 candidates, totalling 30 fits\n"
     ]
    },
    {
     "name": "stderr",
     "output_type": "stream",
     "text": [
      "[Parallel(n_jobs=1)]: Using backend SequentialBackend with 1 concurrent workers.\n"
     ]
    },
    {
     "name": "stdout",
     "output_type": "stream",
     "text": [
      "Best parameter: {'n_neighbors': 19}\n",
      "Best train accuracy score: 0.5543652919121586\n"
     ]
    },
    {
     "name": "stderr",
     "output_type": "stream",
     "text": [
      "[Parallel(n_jobs=1)]: Done  30 out of  30 | elapsed:  1.2min finished\n"
     ]
    }
   ],
   "source": [
    "k_range = list(range(1, 31)) # possible k\n",
    "\n",
    "param_grid = dict(n_neighbors=k_range)\n",
    "\n",
    "knn = KNeighborsClassifier()\n",
    "clf = GridSearchCV(knn, param_grid, cv=pds, verbose=1, n_jobs=1)\n",
    "  \n",
    "# fitting the model for grid search\n",
    "clf =clf.fit(X_train_val, y_train_val)\n",
    "print('Best parameter:',clf.best_params_) #best performance on training set and its parameter\n",
    "print('Best train accuracy score:', clf.best_score_)"
   ]
  },
  {
   "cell_type": "code",
   "execution_count": 27,
   "metadata": {},
   "outputs": [
    {
     "data": {
      "text/html": [
       "<div>\n",
       "<style scoped>\n",
       "    .dataframe tbody tr th:only-of-type {\n",
       "        vertical-align: middle;\n",
       "    }\n",
       "\n",
       "    .dataframe tbody tr th {\n",
       "        vertical-align: top;\n",
       "    }\n",
       "\n",
       "    .dataframe thead th {\n",
       "        text-align: right;\n",
       "    }\n",
       "</style>\n",
       "<table border=\"1\" class=\"dataframe\">\n",
       "  <thead>\n",
       "    <tr style=\"text-align: right;\">\n",
       "      <th></th>\n",
       "      <th>n_neighbors</th>\n",
       "      <th>Accuracy</th>\n",
       "    </tr>\n",
       "  </thead>\n",
       "  <tbody>\n",
       "    <tr>\n",
       "      <th>0</th>\n",
       "      <td>1</td>\n",
       "      <td>0.545795</td>\n",
       "    </tr>\n",
       "    <tr>\n",
       "      <th>1</th>\n",
       "      <td>2</td>\n",
       "      <td>0.491966</td>\n",
       "    </tr>\n",
       "    <tr>\n",
       "      <th>2</th>\n",
       "      <td>3</td>\n",
       "      <td>0.518211</td>\n",
       "    </tr>\n",
       "    <tr>\n",
       "      <th>3</th>\n",
       "      <td>4</td>\n",
       "      <td>0.526245</td>\n",
       "    </tr>\n",
       "    <tr>\n",
       "      <th>4</th>\n",
       "      <td>5</td>\n",
       "      <td>0.535351</td>\n",
       "    </tr>\n",
       "    <tr>\n",
       "      <th>5</th>\n",
       "      <td>6</td>\n",
       "      <td>0.535351</td>\n",
       "    </tr>\n",
       "    <tr>\n",
       "      <th>6</th>\n",
       "      <td>7</td>\n",
       "      <td>0.539636</td>\n",
       "    </tr>\n",
       "    <tr>\n",
       "      <th>7</th>\n",
       "      <td>8</td>\n",
       "      <td>0.538297</td>\n",
       "    </tr>\n",
       "    <tr>\n",
       "      <th>8</th>\n",
       "      <td>9</td>\n",
       "      <td>0.544189</td>\n",
       "    </tr>\n",
       "    <tr>\n",
       "      <th>9</th>\n",
       "      <td>10</td>\n",
       "      <td>0.549009</td>\n",
       "    </tr>\n",
       "    <tr>\n",
       "      <th>10</th>\n",
       "      <td>11</td>\n",
       "      <td>0.547134</td>\n",
       "    </tr>\n",
       "    <tr>\n",
       "      <th>11</th>\n",
       "      <td>12</td>\n",
       "      <td>0.550348</td>\n",
       "    </tr>\n",
       "    <tr>\n",
       "      <th>12</th>\n",
       "      <td>13</td>\n",
       "      <td>0.553294</td>\n",
       "    </tr>\n",
       "    <tr>\n",
       "      <th>13</th>\n",
       "      <td>14</td>\n",
       "      <td>0.552491</td>\n",
       "    </tr>\n",
       "    <tr>\n",
       "      <th>14</th>\n",
       "      <td>15</td>\n",
       "      <td>0.553026</td>\n",
       "    </tr>\n",
       "    <tr>\n",
       "      <th>15</th>\n",
       "      <td>16</td>\n",
       "      <td>0.546867</td>\n",
       "    </tr>\n",
       "    <tr>\n",
       "      <th>16</th>\n",
       "      <td>17</td>\n",
       "      <td>0.554097</td>\n",
       "    </tr>\n",
       "    <tr>\n",
       "      <th>17</th>\n",
       "      <td>18</td>\n",
       "      <td>0.550080</td>\n",
       "    </tr>\n",
       "    <tr>\n",
       "      <th>18</th>\n",
       "      <td>19</td>\n",
       "      <td>0.554365</td>\n",
       "    </tr>\n",
       "    <tr>\n",
       "      <th>19</th>\n",
       "      <td>20</td>\n",
       "      <td>0.550348</td>\n",
       "    </tr>\n",
       "    <tr>\n",
       "      <th>20</th>\n",
       "      <td>21</td>\n",
       "      <td>0.549545</td>\n",
       "    </tr>\n",
       "    <tr>\n",
       "      <th>21</th>\n",
       "      <td>22</td>\n",
       "      <td>0.550348</td>\n",
       "    </tr>\n",
       "    <tr>\n",
       "      <th>22</th>\n",
       "      <td>23</td>\n",
       "      <td>0.543117</td>\n",
       "    </tr>\n",
       "    <tr>\n",
       "      <th>23</th>\n",
       "      <td>24</td>\n",
       "      <td>0.545528</td>\n",
       "    </tr>\n",
       "    <tr>\n",
       "      <th>24</th>\n",
       "      <td>25</td>\n",
       "      <td>0.547402</td>\n",
       "    </tr>\n",
       "    <tr>\n",
       "      <th>25</th>\n",
       "      <td>26</td>\n",
       "      <td>0.550884</td>\n",
       "    </tr>\n",
       "    <tr>\n",
       "      <th>26</th>\n",
       "      <td>27</td>\n",
       "      <td>0.547402</td>\n",
       "    </tr>\n",
       "    <tr>\n",
       "      <th>27</th>\n",
       "      <td>28</td>\n",
       "      <td>0.547402</td>\n",
       "    </tr>\n",
       "    <tr>\n",
       "      <th>28</th>\n",
       "      <td>29</td>\n",
       "      <td>0.548741</td>\n",
       "    </tr>\n",
       "    <tr>\n",
       "      <th>29</th>\n",
       "      <td>30</td>\n",
       "      <td>0.549813</td>\n",
       "    </tr>\n",
       "  </tbody>\n",
       "</table>\n",
       "</div>"
      ],
      "text/plain": [
       "    n_neighbors  Accuracy\n",
       "0             1  0.545795\n",
       "1             2  0.491966\n",
       "2             3  0.518211\n",
       "3             4  0.526245\n",
       "4             5  0.535351\n",
       "5             6  0.535351\n",
       "6             7  0.539636\n",
       "7             8  0.538297\n",
       "8             9  0.544189\n",
       "9            10  0.549009\n",
       "10           11  0.547134\n",
       "11           12  0.550348\n",
       "12           13  0.553294\n",
       "13           14  0.552491\n",
       "14           15  0.553026\n",
       "15           16  0.546867\n",
       "16           17  0.554097\n",
       "17           18  0.550080\n",
       "18           19  0.554365\n",
       "19           20  0.550348\n",
       "20           21  0.549545\n",
       "21           22  0.550348\n",
       "22           23  0.543117\n",
       "23           24  0.545528\n",
       "24           25  0.547402\n",
       "25           26  0.550884\n",
       "26           27  0.547402\n",
       "27           28  0.547402\n",
       "28           29  0.548741\n",
       "29           30  0.549813"
      ]
     },
     "execution_count": 27,
     "metadata": {},
     "output_type": "execute_result"
    }
   ],
   "source": [
    "#grid search performance\n",
    "pd.concat([pd.DataFrame(clf.cv_results_[\"params\"]),pd.DataFrame(clf.cv_results_[\"mean_test_score\"], columns=[\"Accuracy\"])],axis=1)"
   ]
  },
  {
   "cell_type": "code",
   "execution_count": 28,
   "metadata": {},
   "outputs": [
    {
     "name": "stdout",
     "output_type": "stream",
     "text": [
      "Test accuracy score: 0.5194374419530318\n",
      "Test macro averaged precision score: 0.5628429437813727\n",
      "Test recall score: 0.5073400289862244\n",
      "Test macro averaged f1 score: 0.5143767216038445\n"
     ]
    }
   ],
   "source": [
    "#performance on test set\n",
    "knn_pred = clf.best_estimator_.predict(X_test)\n",
    "print('Test accuracy score:', accuracy_score(y_test, knn_pred))\\\n",
    "\n",
    "macro_averaged_precision = precision_score(y_test, knn_pred, average = 'macro')\n",
    "print('Test macro averaged precision score:', macro_averaged_precision)\n",
    "\n",
    "recall = recall_score(y_test, knn_pred, average = 'macro')\n",
    "print('Test recall score:', recall)\n",
    "\n",
    "macro_averaged_f1 = f1_score(y_test, knn_pred, average = 'macro')\n",
    "print('Test macro averaged f1 score:', macro_averaged_f1)"
   ]
  }
 ],
 "metadata": {
  "colab": {
   "collapsed_sections": [
    "f6875224",
    "b0c3a105"
   ],
   "name": "preprocessing_code.ipynb",
   "provenance": []
  },
  "kernelspec": {
   "display_name": "Python 3",
   "language": "python",
   "name": "python3"
  },
  "language_info": {
   "codemirror_mode": {
    "name": "ipython",
    "version": 3
   },
   "file_extension": ".py",
   "mimetype": "text/x-python",
   "name": "python",
   "nbconvert_exporter": "python",
   "pygments_lexer": "ipython3",
   "version": "3.8.3"
  }
 },
 "nbformat": 4,
 "nbformat_minor": 1
}
